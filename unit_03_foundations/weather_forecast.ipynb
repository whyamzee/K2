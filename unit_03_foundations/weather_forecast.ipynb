{
 "cells": [
  {
   "cell_type": "code",
   "execution_count": 98,
   "metadata": {
    "collapsed": false
   },
   "outputs": [],
   "source": [
    "## Exercise: Let's explore our local weather forecast.\n",
    "## \n",
    "## Scrape your local weather forecast.\n",
    "## What is today's weather like?\n",
    "## Extract the longer weather description for each forecast.\n",
    "## Extract the numeric temperature for all the forecasts.\n",
    "## Store the Day, Short Forecast, Numeric Temperature, High or Low, and extended forecast in a data structure \n",
    "## of your choice. Export your final data to a pickle object.\n",
    "## Extra challenge: Build a program that can extract the extended forecast from the 3 largest cities near you.\n",
    "## Data: forecast.weather.gov\n",
    "## Deliverable: Python File or Notebook"
   ]
  },
  {
   "cell_type": "code",
   "execution_count": 225,
   "metadata": {
    "collapsed": false
   },
   "outputs": [
    {
     "name": "stdout",
     "output_type": "stream",
     "text": [
      "b'<!DOCTYPE html>\\n<html class=\"no-js\">\\n    <head>\\n        <!-- Meta -->\\n        <meta name=\"viewport\" content=\"width=device-width\">\\n        <link rel=\"schema.DC\" href=\"http://purl.org/dc/elements/1.1/\" '\n",
      "<!DOCTYPE html>\n",
      "<html class=\"no-js\">\n",
      " <head>\n",
      "  <!-- Meta -->\n",
      "  <meta content=\"width=device-width\" name=\"viewport\">\n",
      "   <link href=\"http://purl.org/dc/elements/1.1/\" rel=\"schema.DC\"/>\n",
      "   <title>\n",
      "    Nat\n"
     ]
    }
   ],
   "source": [
    "import requests\n",
    "from bs4 import BeautifulSoup as bs\n",
    "\n",
    "url = 'http://forecast.weather.gov/MapClick.php?lat=47.6062&lon=-122.3321#.WHmYnKIrJE4'\n",
    "html_doc = requests.get(url).content\n",
    "print (html_doc[:200])\n",
    "\n",
    "soup = bs(html_doc, 'html.parser')\n",
    "print(soup.prettify()[:200])\n"
   ]
  },
  {
   "cell_type": "code",
   "execution_count": 226,
   "metadata": {
    "collapsed": false
   },
   "outputs": [
    {
     "name": "stdout",
     "output_type": "stream",
     "text": [
      "<div class=\"panel-body\" id=\"detailed-forecast-body\">\n",
      " <div class=\"row row-odd row-forecast\">\n",
      "  <div class=\"col-sm-2 forecast-label\">\n",
      "   <b>\n",
      "    Tonight\n",
      "   </b>\n",
      "  </div>\n",
      "  <div class=\"col-sm-10 forecast-text\">\n",
      "   Mostly cloudy, with a low around 29. Calm wind becoming east northeast around 6 mph after midnight.\n",
      "  </div>\n",
      " </div>\n",
      " <div class=\"row row-even row-forecast\">\n",
      "  <div class=\"col-sm-2 forecas\n"
     ]
    }
   ],
   "source": [
    "detailed_fc = soup.find(attrs={'id':'detailed-forecast-body'})\n",
    "print (detailed_fc.prettify()[:400])"
   ]
  },
  {
   "cell_type": "code",
   "execution_count": 238,
   "metadata": {
    "collapsed": false
   },
   "outputs": [
    {
     "name": "stdout",
     "output_type": "stream",
     "text": [
      "[['Tonight', 'Mostly cloudy, with a low around 29. Calm wind becoming east northeast around 6 mph after midnight.'], ['Sunday', 'Mostly sunny, with a high near 41. Southeast wind around 5 mph becoming calm  in the morning.']]\n"
     ]
    }
   ],
   "source": [
    "detailed_fc_parsed = []\n",
    "for row in detailed_fc.find_all(class_='row-forecast'):\n",
    "    detailed_fc_parsed.append([row.find(class_='forecast-label').get_text().strip(),\n",
    "                               row.find(class_='forecast-text').get_text().strip()])\n",
    "print(detailed_fc_parsed[:2])\n"
   ]
  },
  {
   "cell_type": "code",
   "execution_count": 227,
   "metadata": {
    "collapsed": false
   },
   "outputs": [
    {
     "name": "stdout",
     "output_type": "stream",
     "text": [
      "<div id=\"seven-day-forecast-container\">\n",
      " <ul class=\"list-unstyled\" id=\"seven-day-forecast-list\">\n",
      "  <li class=\"forecast-tombstone\">\n",
      "   <div class=\"tombstone-container\">\n",
      "    <p class=\"period-name\">\n",
      "     Tonight\n",
      "     <br>\n",
      "      <br/>\n",
      "     </br>\n",
      "    </p>\n",
      "    <p>\n",
      "     <img alt=\"Tonight: Mostly cloudy, with a low around 29. Calm wind becoming east northeast around 6 mph after midnight. \" class=\"forecast-icon\" src=\"newimages/medium/nbkn.png\" title=\"Tonight: Mostly cloudy, with a low around 29. Calm wind becoming east northeast around 6 mph after midnight. \"/>\n",
      "    </p>\n",
      "    <p class=\"short-desc\">\n",
      "     Mostly Cloudy\n",
      "    </p>\n",
      "    <p class=\"temp temp-low\">\n",
      "     Low: 29 °F\n",
      "    </p>\n",
      "   </div>\n",
      "  </li>\n",
      "  <li class=\"forecast-tombstone\">\n",
      "   <div class=\"tombstone-container\">\n",
      "    <p class=\"period-name\">\n",
      "     \n"
     ]
    }
   ],
   "source": [
    "extended_fc = soup.find(attrs={'id':'seven-day-forecast-container'})\n",
    "print (extended_fc.prettify()[:800])"
   ]
  },
  {
   "cell_type": "code",
   "execution_count": 237,
   "metadata": {
    "collapsed": false
   },
   "outputs": [
    {
     "name": "stdout",
     "output_type": "stream",
     "text": [
      "[{'temp-uom': 'F', 'image': <PIL.PngImagePlugin.PngImageFile image mode=RGB size=86x86 at 0x107D4E7B8>, 'temp': 29, 'temp-type': 'Low', 'period-name': 'Tonight', 'fc-detailed': 'Tonight: Mostly cloudy, with a low around 29. Calm wind becoming east northeast around 6 mph after midnight. ', 'img-src': 'newimages/medium/nbkn.png', 'fc-short': 'Mostly Cloudy'}, {'temp-uom': 'F', 'image': <PIL.PngImagePlugin.PngImageFile image mode=RGB size=86x86 at 0x1076E5668>, 'temp': 41, 'temp-type': 'High', 'period-name': 'Sunday', 'fc-detailed': 'Sunday: Mostly sunny, with a high near 41. Southeast wind around 5 mph becoming calm  in the morning. ', 'img-src': 'newimages/medium/sct.png', 'fc-short': 'Mostly Sunny'}]\n"
     ]
    }
   ],
   "source": [
    "from PIL import Image\n",
    "from io import BytesIO\n",
    "# god bless stackoverflow...\n",
    "\n",
    "extended_fc_parsed = []\n",
    "\n",
    "for i, container in enumerate(extended_fc.find_all(class_='tombstone-container')):\n",
    "    extended_fc_parsed.append({})\n",
    "    extended_fc_parsed[i]['period-name'] = container.find(class_='period-name').get_text()\n",
    "    extended_fc_parsed[i]['fc-short'] = container.find(class_='short-desc').get_text()\n",
    "    temp_string = container.find(class_='temp').get_text().strip()\n",
    "    extended_fc_parsed[i]['temp'] = int(temp_string[temp_string.find(':')+1:-2].strip())\n",
    "    extended_fc_parsed[i]['temp-type'] = temp_string[:temp_string.find(':')]\n",
    "    extended_fc_parsed[i]['temp-uom'] = container.find(class_='temp').get_text()[-1]\n",
    "    extended_fc_parsed[i]['img-src'] = container.img.attrs['src']\n",
    "    extended_fc_parsed[i]['fc-detailed'] = container.img.attrs['title'].strip()\n",
    "    response = requests.get('http://forecast.weather.gov/' + container.img.attrs['src'])\n",
    "    extended_fc_parsed[i]['image'] = Image.open(BytesIO(response.content))\n",
    "            \n",
    "print (extended_fc_parsed[:2])"
   ]
  },
  {
   "cell_type": "code",
   "execution_count": 233,
   "metadata": {
    "collapsed": false
   },
   "outputs": [],
   "source": [
    "import pickle\n",
    "pickle_detailed_fc = pickle.dumps(detailed_fc_parsed)\n",
    "pickle_extended_fc = pickle.dumps(extended_fc_parsed)"
   ]
  },
  {
   "cell_type": "code",
   "execution_count": null,
   "metadata": {
    "collapsed": true
   },
   "outputs": [],
   "source": [
    "## YZ Question: OK, so I dumped my data into pickle project. What's the practical use? Thanks."
   ]
  }
 ],
 "metadata": {
  "anaconda-cloud": {},
  "kernelspec": {
   "display_name": "Python [default]",
   "language": "python",
   "name": "python3"
  },
  "language_info": {
   "codemirror_mode": {
    "name": "ipython",
    "version": 3
   },
   "file_extension": ".py",
   "mimetype": "text/x-python",
   "name": "python",
   "nbconvert_exporter": "python",
   "pygments_lexer": "ipython3",
   "version": "3.5.2"
  }
 },
 "nbformat": 4,
 "nbformat_minor": 1
}
