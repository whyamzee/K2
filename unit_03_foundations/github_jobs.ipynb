{
 "cells": [
  {
   "cell_type": "code",
   "execution_count": 87,
   "metadata": {
    "collapsed": false
   },
   "outputs": [
    {
     "name": "stdout",
     "output_type": "stream",
     "text": [
      "122\n"
     ]
    }
   ],
   "source": [
    "## Import the Requests package and call the API with the parameters of your choice.\n",
    "import requests\n",
    "\n",
    "# Parameter of a choice - page. Geting all jobs..\n",
    "jobs = []\n",
    "found_all = False\n",
    "page = 0\n",
    "while not found_all:\n",
    "    payload = {'page': page}\n",
    "    r = requests.get('https://jobs.github.com/positions.json', params=payload)\n",
    "    #print(r.url)\n",
    "    ## Print the status code to make sure it went well.\n",
    "    #print(r.status_code)\n",
    "    r_json = r.json()\n",
    "    if len(r_json) == 0:\n",
    "        found_all = True\n",
    "    else:\n",
    "        jobs = jobs + r_json\n",
    "    page += 1\n",
    "print(len(jobs))"
   ]
  },
  {
   "cell_type": "code",
   "execution_count": 88,
   "metadata": {
    "collapsed": false
   },
   "outputs": [
    {
     "name": "stdout",
     "output_type": "stream",
     "text": [
      "[\n",
      "  {\n",
      "    \"company\": \"GitHub\",\n",
      "    \"company_logo\": \"http://github-jobs.s3.amazonaws.com/c469c478-0296-11e6-87ae-ffc3f1270dff.png\",\n",
      "    \"company_url\": \"https://github.com/about/jobs\",\n",
      "    \"created_at\": \"Fri Dec 01 20:49:16 UTC 2017\",\n",
      "    \"description\": \"<p>GitHub is looking for a Senior Quality Engineer to help grow our testing efforts by contributing towards a growing number of product offerings. This person will work closely with Product, Development and Design at all stages of the product lifecycle as an advocate for standard methodologies that aid in delivering high quality products while being cognizant of the importance of time-to-market.</p>\\n\\n<p>We\\u00a0value collaboration,\\u00a0empathy,\\u00a0quality,\\u00a0positive\\u00a0impact and shipping. You will excel when your work reflects these values.</p>\\n\\n<h3>Responsibilities:</h3>\\n\\n<ul>\\n<li>Collaborate across teams to build a comprehensive test strategy with an automated approach for new features as well as to maintain existing r\n",
      "{'type': 122, 'location': 122, 'company_url': 122, 'how_to_apply': 122, 'url': 122, 'description': 122, 'company': 122, 'id': 122, 'created_at': 122, 'title': 122, 'company_logo': 122}\n"
     ]
    },
    {
     "data": {
      "text/html": [
       "<img src=\"http://github-jobs.s3.amazonaws.com/c469c478-0296-11e6-87ae-ffc3f1270dff.png\"/>"
      ],
      "text/plain": [
       "<IPython.core.display.Image object>"
      ]
     },
     "metadata": {},
     "output_type": "display_data"
    },
    {
     "data": {
      "text/html": [
       "<p>GitHub is looking for a Senior Quality Engineer to help grow our testing efforts by contributing towards a growing number of product offerings. This person will work closely with Product, Development and Design at all stages of the product lifecycle as an advocate for standard methodologies that aid in delivering high quality products while being cognizant of the importance of time-to-market.</p>\n",
       "\n",
       "<p>We value collaboration, empathy, quality, positive impact and shipping. You will excel when your work reflects these values.</p>\n",
       "\n",
       "<h3>Responsibilities:</h3>\n",
       "\n",
       "<ul>\n",
       "<li>Collaborate across teams to build a comprehensive test strategy with an automated approach for new features as well as to maintain existing regression test suites</li>\n",
       "<li>Build automation frameworks that can easily be adopted by Development and QE</li>\n",
       "<li>Attend project meetings and contribute by reporting on test automation development progress, blockers, bugs and risks</li>\n",
       "<li>Review code changes as they are made to become familiar with the implementation in order to have a focused testing approach</li>\n",
       "<li>Help Development when debugging issues by providing as much detailed information as possible (i.e. reproducing via different builds, logs, screenshots, videos, etc.) in addition to ruling out environment related problems</li>\n",
       "<li>Maintain the issue backlog and work with Development and Product to prioritize and include fixes within subsequent releases</li>\n",
       "<li>Connect with Site Quality Engineers and Support Engineers to understand existing production issues and modify testing strategies to incorporate cases to prevent reoccurring production issues</li>\n",
       "<li>Provide technical leadership and mentoring for more junior QE</li>\n",
       "</ul>\n",
       "\n",
       "<h3>Requirements:</h3>\n",
       "\n",
       "<ul>\n",
       "<li>Minimum of 5 years experience in automating and testing consumer-facing web applications in a dynamic development environment</li>\n",
       "<li>You are an authority on automation testing practices with the ability to demonstrate when to apply manual vs automation and how to yield positive engineering engagement</li>\n",
       "<li>Passionate about testing and debugging software</li>\n",
       "<li>Strong verbal and written communication skills</li>\n",
       "<li>Comfortable working asynchronously on a distributed team</li>\n",
       "<li>Familiar with Git and/or GitHub</li>\n",
       "<li>Ruby on Rails development experience</li>\n",
       "</ul>\n",
       "\n",
       "<h3>Bonus</h3>\n",
       "\n",
       "<ul>\n",
       "<li>Performance Testing experience</li>\n",
       "</ul>\n",
       "\n",
       "<p>GitHub is committed to building a diverse workforce and strongly encourages applications from people of color and other groups currently underrepresented in tech. We are looking for candidates who:</p>\n",
       "\n",
       "<ul>\n",
       "<li><p>Display a strong commitment to building an inclusive tech environment</p></li>\n",
       "<li><p>Have demonstrated resilience and resourcefulness both in and outside of the workplace</p></li>\n",
       "<li><p>Can bring a new perspective based on unique educational, professional, and lived experiences</p></li>\n",
       "<li><p>Can effectively communicate with people from disparate backgrounds</p></li>\n",
       "<li><p>Have experience mentoring/coaching/teaching, particularly in environments with diverse students/participants</p></li>\n",
       "</ul>\n",
       "\n",
       "<h2>WHO WE ARE</h2>\n",
       "\n",
       "<p>GitHub is the best place to share code with friends, co-workers, classmates, and complete strangers. Over ten million people use GitHub to build amazing things together. With the collaborative features of GitHub.com, our desktop and mobile apps, and GitHub Enterprise, it has never been easier for individuals and teams to write better code, faster.</p>\n",
       "\n",
       "<p>We have a lot of exciting things to do, and we’re looking for the right people to grow with us!</p>\n",
       "\n",
       "<h2>WHY YOU SHOULD JOIN</h2>\n",
       "\n",
       "<p>Working at GitHub is, to put it simply, a special slice of the universe. We&#39;re committed to transparency, collaboration, experimentation, and always staying classy.</p>\n",
       "\n",
       "<p>Because of this unique perspective, we&#39;ve established one of the most flexible and well designed physical workspaces around that encourages you to work as you work best. Right now, over 60% of our employees are based outside of our San Francisco (SOMA) headquarters and work according to how they get their best stuff done.</p>\n",
       "\n",
       "<p>Ensuring that GitHubbers are healthy, motivated, focused and creative is how GitHub stays awesome. Part of this is ensuring that our benefits* are out of this world.</p>\n",
       "\n",
       "<p>In a nutshell, we&#39;ve built and are growing a place where we truly love working, and we think you will too.</p>\n",
       "\n",
       "<p>GitHub is made up of people with many different backgrounds and lifestyles, and we like it that way. We invite applications from people of all stripes. We don&#39;t discriminate against employees or applicants based on gender identity or expression, sexual orientation, race, religion, age, national origin, citizenship, pregnancy status, veteran status, or any other differences that people imagine to discriminate against one another. Also, if you have a disability, please let us know if there&#39;s anything we can do to make the interview process better for you; we&#39;re happy to accommodate.</p>\n",
       "\n",
       "<p><em>Please note that benefits vary by country, if you have any questions don&#39;t hesitate to ask your recruiter</em></p>\n"
      ],
      "text/plain": [
       "<IPython.core.display.HTML object>"
      ]
     },
     "metadata": {},
     "output_type": "display_data"
    }
   ],
   "source": [
    "## Import json and print the whole json response with the json.dumps() function. See what kind of data it contains.\n",
    "import json\n",
    "#printing first 1000 characters of a result of json dump, which is a string\n",
    "print(json.dumps(jobs, sort_keys=True, indent=2)[:1000])\n",
    "\n",
    "\n",
    "## Get the dictionary of the first job and call the method keys() to have a better idea of the data at hand.\n",
    "\n",
    "## I'm getting all keys, because I'm not sure if there is any optional data, and I don't know how it's represented\n",
    "job_map = {}\n",
    "for job in jobs:\n",
    "    for key in job.keys():\n",
    "        if key not in job_map:\n",
    "            job_map[key] = 0\n",
    "        job_map[key] += 1\n",
    "print(job_map)\n",
    "\n",
    "## Print some of the first job's content, including images and HTML. You might need to import the IPython package.\n",
    "from IPython.core.display import display, HTML, Image\n",
    "display(Image(url=jobs[0]['company_logo']))\n",
    "display(HTML(jobs[0]['description']))\n"
   ]
  },
  {
   "cell_type": "code",
   "execution_count": 51,
   "metadata": {
    "collapsed": false
   },
   "outputs": [
    {
     "name": "stdout",
     "output_type": "stream",
     "text": [
      "[('index', 3), ('table', 4)]\n"
     ]
    }
   ],
   "source": [
    "## Import SQLite and create a database.\n",
    "import sqlite3\n",
    "sqlite_file = 'github.sqlite'\n",
    "\n",
    "## Create 4 tables: company, job, location, github_metadata. \n",
    "## Pay sppecial attention on primary and foreign keys as well as unique and non-nullable columns.\n",
    "\n",
    "tables = [\n",
    "    'create table company ( \\\n",
    "        id integer primary key, \\\n",
    "        company text unique not null, \\\n",
    "        url text, \\\n",
    "        logo_url text)', \n",
    "    'create table location ( \\\n",
    "        id integer primary key, \\\n",
    "        location text unique not null)', \n",
    "    'create table job ( \\\n",
    "        id integer primary key, \\\n",
    "        company_id integer not null, \\\n",
    "        location_id integer not null, \\\n",
    "        job_type text, \\\n",
    "        title text, \\\n",
    "        description text, \\\n",
    "        how_to_apply text, \\\n",
    "        created_at datetime , \\\n",
    "        created_at_raw text , \\\n",
    "        foreign key(company_id) references company(id), \\\n",
    "        foreign key(location_id) references location(id))', \n",
    "    'create table github_metadata ( \\\n",
    "        github_id text primary key, \\\n",
    "        url text not null, \\\n",
    "        job_id integer not null, \\\n",
    "        foreign key(job_id) references job(id) \\\n",
    "        )']\n",
    "## Make sure you store 'created_at' as a datetime and not a string.\n",
    "\n",
    "conn = sqlite3.connect(sqlite_file)\n",
    "c = conn.cursor()\n",
    "c.execute('drop table if exists github_metadata')\n",
    "c.execute('drop table if exists job')\n",
    "c.execute('drop table if exists company')\n",
    "c.execute('drop table if exists location')\n",
    "\n",
    "for stmt in tables:\n",
    "    c.execute(stmt)\n",
    "conn.commit()\n",
    "\n",
    "c.execute('SELECT type, count(*) FROM sqlite_master group by type')\n",
    "all_rows = c.fetchall()\n",
    "print(all_rows)\n",
    "conn.close()\n"
   ]
  },
  {
   "cell_type": "code",
   "execution_count": null,
   "metadata": {
    "collapsed": true
   },
   "outputs": [],
   "source": [
    "## Store the data you got from the API request in the database.\n",
    "## Make sure you create a transaction (i.e., if an error occurs while saving a job's location data\n",
    "## the database should rollback on all statements regarding that job).\n",
    "\n",
    "import sqlite3\n",
    "from datetime import datetime"
   ]
  },
  {
   "cell_type": "code",
   "execution_count": 103,
   "metadata": {
    "collapsed": false
   },
   "outputs": [],
   "source": [
    "# Prep...\n",
    "\n",
    "def get_company_id(conn, company, logo, url):\n",
    "    c = conn.cursor()\n",
    "    c_id = None\n",
    "    try:\n",
    "        c.execute(\"INSERT INTO company(company, logo_url, url) VALUES (?,?,?)\", (company, logo, url))\n",
    "        conn.commit()\n",
    "    except sqlite3.IntegrityError as e:\n",
    "        pass\n",
    "    except sqlite3.Error as e:\n",
    "        conn.rollback()\n",
    "        print('Can\\'t insert company...')\n",
    "        print(e)\n",
    "\n",
    "    c.execute(\"select id from company where company=?\", [company])\n",
    "    c_id = c.fetchone()[0]\n",
    "    \n",
    "    return c_id\n",
    "\n",
    "def get_location_id(conn, location):\n",
    "    c = conn.cursor()\n",
    "    loc_id = None\n",
    "    try:\n",
    "        c.execute(\"INSERT INTO location(location) VALUES (?)\", ([location]))\n",
    "        conn.commit()\n",
    "    except sqlite3.IntegrityError as e:\n",
    "        pass\n",
    "    except sqlite3.Error as e:\n",
    "        conn.rollback()\n",
    "        print('Can\\'t insert location...')\n",
    "        print(e)\n",
    "\n",
    "    c.execute(\"select id from location where location=?\",  [location])\n",
    "    loc_id = c.fetchone()[0]\n",
    "    \n",
    "    return loc_id\n",
    "\n",
    "def get_job_id(conn, company_id, loc_id, description, job_type, title, how_to_apply, created_at, created_at_raw):\n",
    "    c = conn.cursor()\n",
    "    job_id = None\n",
    "    try:\n",
    "        c.execute(\"INSERT INTO \\\n",
    "        job(company_id, location_id, description, job_type, title, how_to_apply, created_at, created_at_raw) \\\n",
    "        VALUES (?,?,?,?,?,?,?,?)\", (company_id, loc_id, description, job_type, title, how_to_apply, created_at, created_at_raw))\n",
    "        conn.commit()\n",
    "    except sqlite3.IntegrityError as e:\n",
    "        pass\n",
    "    except sqlite3.Error as e:\n",
    "        conn.rollback()\n",
    "        print('Can\\'t insert job...')\n",
    "        print(e)\n",
    "\n",
    "    c.execute(\"select id from job where rowid=last_insert_rowid()\")\n",
    "    job_id = c.fetchone()[0]\n",
    "\n",
    "    return job_id\n",
    "\n",
    "def process_job(conn, info):\n",
    "   \n",
    "    c = conn.cursor()\n",
    "    company = info['company']\n",
    "    company_url = info['company_url']\n",
    "    #created_at = datetime.strptime(info['created_at'], '%a %b %d %H:%M:%S %Z %Y').strftime('%Y-%m-%d %H:%M:%S.000')\n",
    "    created_at = datetime.strptime(info['created_at'], '%a %b %d %H:%M:%S %Z %Y')\n",
    "    created_at_raw = info['created_at']\n",
    "    logo = info['company_logo']\n",
    "    how_to_apply = info['how_to_apply']\n",
    "    description = info['description']\n",
    "    location = info['location']\n",
    "    job_type = info['type']\n",
    "    title = info['title']\n",
    "    gh_id = info['id']\n",
    "    url = info['url']\n",
    "    \n",
    "    c.execute(\"select github_id from github_metadata where github_id=?\", [gh_id])\n",
    "    gh_id_exist = c.fetchone()\n",
    "    \n",
    "    if gh_id_exist is None:\n",
    "        loc_id = get_location_id(conn, location)\n",
    "        company_id = get_company_id(conn, company, logo, company_url)\n",
    "        job_id = get_job_id(conn, company_id, loc_id, description, job_type, title, how_to_apply, created_at, created_at_raw)\n",
    "        \n",
    "        try:\n",
    "            c.execute(\"INSERT INTO \\\n",
    "            github_metadata(github_id, url, job_id) \\\n",
    "            VALUES (?,?,?)\", (gh_id, url, job_id))\n",
    "            conn.commit()\n",
    "        except sqlite3.IntegrityError as e:\n",
    "            pass\n",
    "        except sqlite3.Error as e:\n",
    "            conn.rollback()\n",
    "            print('Can\\'t insert github metadata...')\n",
    "            print(e)\n"
   ]
  },
  {
   "cell_type": "code",
   "execution_count": null,
   "metadata": {
    "collapsed": true
   },
   "outputs": [],
   "source": [
    "# YZ - QUESTION:\n",
    "# In GET_COMPANY_ID parameters that I pass to INSERT c.execite with tuple (company, logo, url) \n",
    "# In GET_LOCATION_ID parameters that I pass to INSERT c.execite with list [location] because \n",
    "# somehow c.execute treats each character of this 'location' variable as an input \n",
    "# as opposed to the whole string. Why does it do it? \n",
    "# Also, same for SELECT c.execute calls in other methods: when I tried to pass tuple, i.e \"(column)\" it complained, \n",
    "# when I changed it to list, i.e.\"[column]\", it worked\n",
    "# This behaviour seems inconsistent to my. "
   ]
  },
  {
   "cell_type": "code",
   "execution_count": null,
   "metadata": {
    "collapsed": true
   },
   "outputs": [],
   "source": [
    "# Actual processing\n",
    "\n",
    "sqlite_file = 'github.sqlite'\n",
    "conn = sqlite3.connect(sqlite_file)\n",
    "c = conn.cursor()\n",
    "\n",
    "for entry in jobs:\n",
    "    try:\n",
    "        process_job(conn, entry)\n",
    "    except sqlite3.Error as e:\n",
    "        print(e)\n",
    "        conn.rollback()\n",
    "conn.close()\n",
    "print('done...')\n"
   ]
  },
  {
   "cell_type": "code",
   "execution_count": 114,
   "metadata": {
    "collapsed": false
   },
   "outputs": [
    {
     "name": "stdout",
     "output_type": "stream",
     "text": [
      "Table Counts: [('company', 82), ('location', 83), ('jo', 122), ('github_metadata', 122)]\n"
     ]
    }
   ],
   "source": [
    "## Execute simple SQL queries in each table and make sure everything looks as was intended.\n",
    "\n",
    "sqlite_file = 'github.sqlite'\n",
    "conn = sqlite3.connect(sqlite_file)\n",
    "\n",
    "c = conn.cursor()\n",
    "c.execute(\n",
    "    \"select 'company' as tbl, count(*) as row_count from company union all \\\n",
    "    select 'location' as tbl, count(*) as row_count from location union all \\\n",
    "    select 'jo' as tbl, count(*) as row_count from job union all \\\n",
    "    select 'github_metadata' as tbl, count(*) as row_count from github_metadata\")\n",
    "all_rows = c.fetchall()\n",
    "print('Table Counts: %s' % (all_rows))\n"
   ]
  },
  {
   "cell_type": "code",
   "execution_count": 115,
   "metadata": {
    "collapsed": false
   },
   "outputs": [
    {
     "name": "stdout",
     "output_type": "stream",
     "text": [
      "\n",
      "Data Science && Python jobs: 7\n"
     ]
    }
   ],
   "source": [
    "## Create queries the following queries:\n",
    "## Find out how many jobs have the phrase \"Data Science\" and how many have the word \"Python\" in the description\n",
    "c.execute(\n",
    "    \"select count(*) from job \\\n",
    "    where lower(description) like '%data science%' and lower(description) like '%python%'\")\n",
    "all_rows = c.fetchone()[0]\n",
    "print('\\nData Science && Python jobs: %i' % (all_rows))\n"
   ]
  },
  {
   "cell_type": "code",
   "execution_count": 116,
   "metadata": {
    "collapsed": false
   },
   "outputs": [
    {
     "name": "stdout",
     "output_type": "stream",
     "text": [
      "\n",
      "Join Count: 122\n"
     ]
    }
   ],
   "source": [
    "c.execute(\n",
    "    'select count(*) \\\n",
    "    from github_metadata m, job j, company c, location l \\\n",
    "    where m.job_id=j.id and j.company_id=c.id and j.location_id=l.id ')\n",
    "all_rows = c.fetchone()[0]\n",
    "print('\\nJoin Count: %i' %(all_rows))\\\n",
    "\n"
   ]
  },
  {
   "cell_type": "code",
   "execution_count": 117,
   "metadata": {
    "collapsed": false
   },
   "outputs": [
    {
     "name": "stdout",
     "output_type": "stream",
     "text": [
      "\n",
      "Data Issues:\n",
      "[('company', 'null company url', 16), ('company', 'null logo', 14), ('job', 'distinct job types', 2), ('job', 'future created_at', 5), ('job', 'null how_to_apply', 0), ('location', 'duplicate locations', 7)]\n"
     ]
    }
   ],
   "source": [
    "c.execute(\n",
    "    \"select 'company' as tbl, 'null company url' as issue, count(*) from company where url is null union all \\\n",
    "    select 'company' as tbl, 'null logo' as issue, count(*) from company where logo_url is null union all \\\n",
    "    select 'job' as tbl, 'distinct job types' as issue, count(distinct job_type) from job union all \\\n",
    "    select 'job' as tbl, 'future created_at' as issue, count(*) from job where date(created_at) > date('now') union all \\\n",
    "    select 'job' as tbl, 'null how_to_apply' as issue, count(*) from job where how_to_apply is null union all\\\n",
    "    select 'location' as tbl, 'duplicate locations' as issue, count(*) from \\\n",
    "        (select i.location, o.location \\\n",
    "        from location i, location o \\\n",
    "        where i.id > o.id \\\n",
    "            and trim(lower(i.location))=trim(lower(o.location))\\\n",
    "        )\"\n",
    "    )\n",
    "all_rows = c.fetchall()\n",
    "print('\\nData Issues:')\n",
    "print(all_rows)"
   ]
  },
  {
   "cell_type": "code",
   "execution_count": 118,
   "metadata": {
    "collapsed": false
   },
   "outputs": [
    {
     "name": "stdout",
     "output_type": "stream",
     "text": [
      "\n",
      "Data Issues Details:\n",
      "[('United States', 'United States '), ('London, UK ', 'London, UK'), ('remote', 'Remote'), ('San Francisco ', 'San Francisco'), ('Remote ', 'Remote'), ('Remote ', 'remote'), ('San Francisco or Remote ', 'San Francisco or Remote')]\n"
     ]
    }
   ],
   "source": [
    "c.execute('select i.location, o.location from location i, location o\\\n",
    "        where i.id > o.id \\\n",
    "            and trim(lower(i.location))=trim(lower(o.location))')\n",
    "\n",
    "all_rows = c.fetchall()\n",
    "print('\\nData Issues Details:')\n",
    "print(all_rows)"
   ]
  },
  {
   "cell_type": "code",
   "execution_count": 119,
   "metadata": {
    "collapsed": false
   },
   "outputs": [
    {
     "name": "stdout",
     "output_type": "stream",
     "text": [
      "\n",
      "Jobs created in the past 7 days: 27\n"
     ]
    }
   ],
   "source": [
    "## Find out how many were created in the past 7 days\n",
    "c.execute(\n",
    "    \"select count(*) from job \\\n",
    "    where date(created_at) > date('now', '-7 days') and date(created_at) < date('now')\")\n",
    "all_rows = c.fetchone()[0]\n",
    "print('\\nJobs created in the past 7 days: %i' % (all_rows))\n"
   ]
  },
  {
   "cell_type": "code",
   "execution_count": 120,
   "metadata": {
    "collapsed": false
   },
   "outputs": [
    {
     "name": "stdout",
     "output_type": "stream",
     "text": [
      "\n",
      "Remote-friendly companies with # of remote jobs:\n",
      "[('Aeolus Robotics, Inc.', 1), ('Ben Kinney Companies Tech Division', 2), ('Cavulus', 2), ('Citrusbyte', 1), ('FlexJobs', 1), ('FullStack', 1), ('GitHub', 6), ('Hotjar', 1), ('JOOR, Inc.', 1), ('Kaggle', 1), ('Kissinger Associates, Inc.', 1), ('Paktor Pte Ltd', 1), ('Rails Machine', 1), ('ustwo London Ltd', 1)]\n"
     ]
    }
   ],
   "source": [
    "## Find out how are \"Remote Ok\" and which companies those are with\n",
    "c.execute(\n",
    "    \"select \\\n",
    "        company, \\\n",
    "        count(*) as num_oj_jobs \\\n",
    "    from company c, job j, location l \\\n",
    "    where \\\n",
    "        j.company_id=c.id and j.location_id=l.id and \\\n",
    "        ((lower(j.description) like '%remote%') or (lower(l.location) like '%remote%'))\\\n",
    "    group by company\")\n",
    "all_rows = c.fetchall()\n",
    "print('\\nRemote-friendly companies with # of remote jobs:')\n",
    "print(all_rows)\n",
    "\n",
    "conn.close()"
   ]
  },
  {
   "cell_type": "code",
   "execution_count": 121,
   "metadata": {
    "collapsed": false
   },
   "outputs": [
    {
     "name": "stdout",
     "output_type": "stream",
     "text": [
      "\n",
      "\n",
      "\n",
      "DONE...\n"
     ]
    }
   ],
   "source": [
    "print('\\n\\n\\nDONE...')"
   ]
  },
  {
   "cell_type": "code",
   "execution_count": null,
   "metadata": {
    "collapsed": true
   },
   "outputs": [],
   "source": []
  }
 ],
 "metadata": {
  "anaconda-cloud": {},
  "kernelspec": {
   "display_name": "Python [default]",
   "language": "python",
   "name": "python3"
  },
  "language_info": {
   "codemirror_mode": {
    "name": "ipython",
    "version": 3
   },
   "file_extension": ".py",
   "mimetype": "text/x-python",
   "name": "python",
   "nbconvert_exporter": "python",
   "pygments_lexer": "ipython3",
   "version": "3.5.2"
  }
 },
 "nbformat": 4,
 "nbformat_minor": 2
}
