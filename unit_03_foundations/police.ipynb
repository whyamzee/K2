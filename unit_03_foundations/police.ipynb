{
 "cells": [
  {
   "cell_type": "markdown",
   "metadata": {},
   "source": [
    "Import the data and examine the head and columns"
   ]
  },
  {
   "cell_type": "code",
   "execution_count": 23,
   "metadata": {
    "collapsed": false
   },
   "outputs": [],
   "source": [
    "% matplotlib inline\n",
    "import pandas as pd\n",
    "import matplotlib.pyplot as plt\n",
    "\n",
    "data = pd.read_csv(open('police_killings.csv', encoding='latin-1'))"
   ]
  },
  {
   "cell_type": "code",
   "execution_count": 10,
   "metadata": {
    "collapsed": true
   },
   "outputs": [
    {
     "data": {
      "text/html": [
       "<div>\n",
       "<table border=\"1\" class=\"dataframe\">\n",
       "  <thead>\n",
       "    <tr style=\"text-align: right;\">\n",
       "      <th></th>\n",
       "      <th>name</th>\n",
       "      <th>age</th>\n",
       "      <th>gender</th>\n",
       "      <th>raceethnicity</th>\n",
       "      <th>month</th>\n",
       "      <th>day</th>\n",
       "      <th>year</th>\n",
       "      <th>streetaddress</th>\n",
       "      <th>city</th>\n",
       "      <th>state</th>\n",
       "      <th>...</th>\n",
       "      <th>share_hispanic</th>\n",
       "      <th>p_income</th>\n",
       "      <th>h_income</th>\n",
       "      <th>county_income</th>\n",
       "      <th>comp_income</th>\n",
       "      <th>county_bucket</th>\n",
       "      <th>nat_bucket</th>\n",
       "      <th>pov</th>\n",
       "      <th>urate</th>\n",
       "      <th>college</th>\n",
       "    </tr>\n",
       "  </thead>\n",
       "  <tbody>\n",
       "    <tr>\n",
       "      <th>0</th>\n",
       "      <td>A'donte Washington</td>\n",
       "      <td>16</td>\n",
       "      <td>Male</td>\n",
       "      <td>Black</td>\n",
       "      <td>February</td>\n",
       "      <td>23</td>\n",
       "      <td>2015</td>\n",
       "      <td>Clearview Ln</td>\n",
       "      <td>Millbrook</td>\n",
       "      <td>AL</td>\n",
       "      <td>...</td>\n",
       "      <td>5.6</td>\n",
       "      <td>28375</td>\n",
       "      <td>51367.0</td>\n",
       "      <td>54766</td>\n",
       "      <td>0.937936</td>\n",
       "      <td>3.0</td>\n",
       "      <td>3.0</td>\n",
       "      <td>14.1</td>\n",
       "      <td>0.097686</td>\n",
       "      <td>0.168510</td>\n",
       "    </tr>\n",
       "    <tr>\n",
       "      <th>1</th>\n",
       "      <td>Aaron Rutledge</td>\n",
       "      <td>27</td>\n",
       "      <td>Male</td>\n",
       "      <td>White</td>\n",
       "      <td>April</td>\n",
       "      <td>2</td>\n",
       "      <td>2015</td>\n",
       "      <td>300 block Iris Park Dr</td>\n",
       "      <td>Pineville</td>\n",
       "      <td>LA</td>\n",
       "      <td>...</td>\n",
       "      <td>0.5</td>\n",
       "      <td>14678</td>\n",
       "      <td>27972.0</td>\n",
       "      <td>40930</td>\n",
       "      <td>0.683411</td>\n",
       "      <td>2.0</td>\n",
       "      <td>1.0</td>\n",
       "      <td>28.8</td>\n",
       "      <td>0.065724</td>\n",
       "      <td>0.111402</td>\n",
       "    </tr>\n",
       "    <tr>\n",
       "      <th>2</th>\n",
       "      <td>Aaron Siler</td>\n",
       "      <td>26</td>\n",
       "      <td>Male</td>\n",
       "      <td>White</td>\n",
       "      <td>March</td>\n",
       "      <td>14</td>\n",
       "      <td>2015</td>\n",
       "      <td>22nd Ave and 56th St</td>\n",
       "      <td>Kenosha</td>\n",
       "      <td>WI</td>\n",
       "      <td>...</td>\n",
       "      <td>16.8</td>\n",
       "      <td>25286</td>\n",
       "      <td>45365.0</td>\n",
       "      <td>54930</td>\n",
       "      <td>0.825869</td>\n",
       "      <td>2.0</td>\n",
       "      <td>3.0</td>\n",
       "      <td>14.6</td>\n",
       "      <td>0.166293</td>\n",
       "      <td>0.147312</td>\n",
       "    </tr>\n",
       "    <tr>\n",
       "      <th>3</th>\n",
       "      <td>Aaron Valdez</td>\n",
       "      <td>25</td>\n",
       "      <td>Male</td>\n",
       "      <td>Hispanic/Latino</td>\n",
       "      <td>March</td>\n",
       "      <td>11</td>\n",
       "      <td>2015</td>\n",
       "      <td>3000 Seminole Ave</td>\n",
       "      <td>South Gate</td>\n",
       "      <td>CA</td>\n",
       "      <td>...</td>\n",
       "      <td>98.8</td>\n",
       "      <td>17194</td>\n",
       "      <td>48295.0</td>\n",
       "      <td>55909</td>\n",
       "      <td>0.863814</td>\n",
       "      <td>3.0</td>\n",
       "      <td>3.0</td>\n",
       "      <td>11.7</td>\n",
       "      <td>0.124827</td>\n",
       "      <td>0.050133</td>\n",
       "    </tr>\n",
       "    <tr>\n",
       "      <th>4</th>\n",
       "      <td>Adam Jovicic</td>\n",
       "      <td>29</td>\n",
       "      <td>Male</td>\n",
       "      <td>White</td>\n",
       "      <td>March</td>\n",
       "      <td>19</td>\n",
       "      <td>2015</td>\n",
       "      <td>364 Hiwood Ave</td>\n",
       "      <td>Munroe Falls</td>\n",
       "      <td>OH</td>\n",
       "      <td>...</td>\n",
       "      <td>1.7</td>\n",
       "      <td>33954</td>\n",
       "      <td>68785.0</td>\n",
       "      <td>49669</td>\n",
       "      <td>1.384868</td>\n",
       "      <td>5.0</td>\n",
       "      <td>4.0</td>\n",
       "      <td>1.9</td>\n",
       "      <td>0.063550</td>\n",
       "      <td>0.403954</td>\n",
       "    </tr>\n",
       "  </tbody>\n",
       "</table>\n",
       "<p>5 rows × 34 columns</p>\n",
       "</div>"
      ],
      "text/plain": [
       "                 name age gender    raceethnicity     month  day  year  \\\n",
       "0  A'donte Washington  16   Male            Black  February   23  2015   \n",
       "1      Aaron Rutledge  27   Male            White     April    2  2015   \n",
       "2         Aaron Siler  26   Male            White     March   14  2015   \n",
       "3        Aaron Valdez  25   Male  Hispanic/Latino     March   11  2015   \n",
       "4        Adam Jovicic  29   Male            White     March   19  2015   \n",
       "\n",
       "            streetaddress          city state    ...     share_hispanic  \\\n",
       "0            Clearview Ln     Millbrook    AL    ...                5.6   \n",
       "1  300 block Iris Park Dr     Pineville    LA    ...                0.5   \n",
       "2    22nd Ave and 56th St       Kenosha    WI    ...               16.8   \n",
       "3       3000 Seminole Ave    South Gate    CA    ...               98.8   \n",
       "4          364 Hiwood Ave  Munroe Falls    OH    ...                1.7   \n",
       "\n",
       "   p_income  h_income  county_income  comp_income  county_bucket  nat_bucket  \\\n",
       "0     28375   51367.0          54766     0.937936            3.0         3.0   \n",
       "1     14678   27972.0          40930     0.683411            2.0         1.0   \n",
       "2     25286   45365.0          54930     0.825869            2.0         3.0   \n",
       "3     17194   48295.0          55909     0.863814            3.0         3.0   \n",
       "4     33954   68785.0          49669     1.384868            5.0         4.0   \n",
       "\n",
       "    pov     urate   college  \n",
       "0  14.1  0.097686  0.168510  \n",
       "1  28.8  0.065724  0.111402  \n",
       "2  14.6  0.166293  0.147312  \n",
       "3  11.7  0.124827  0.050133  \n",
       "4   1.9  0.063550  0.403954  \n",
       "\n",
       "[5 rows x 34 columns]"
      ]
     },
     "execution_count": 10,
     "metadata": {},
     "output_type": "execute_result"
    }
   ],
   "source": [
    "data.head()"
   ]
  },
  {
   "cell_type": "markdown",
   "metadata": {},
   "source": [
    "Get the total counts for each racial grouping"
   ]
  },
  {
   "cell_type": "code",
   "execution_count": 37,
   "metadata": {
    "collapsed": false
   },
   "outputs": [
    {
     "data": {
      "text/plain": [
       "raceethnicity\n",
       "Asian/Pacific Islander     10\n",
       "Black                     135\n",
       "Hispanic/Latino            67\n",
       "Native American             4\n",
       "Unknown                    15\n",
       "White                     236\n",
       "dtype: int64"
      ]
     },
     "execution_count": 37,
     "metadata": {},
     "output_type": "execute_result"
    }
   ],
   "source": [
    "ethnicity_count = data.groupby('raceethnicity').size()\n",
    "ethnicity_count"
   ]
  },
  {
   "cell_type": "markdown",
   "metadata": {},
   "source": [
    "Find the relative % for each racial grouping"
   ]
  },
  {
   "cell_type": "code",
   "execution_count": 36,
   "metadata": {
    "collapsed": false
   },
   "outputs": [
    {
     "data": {
      "text/plain": [
       "raceethnicity\n",
       "Asian/Pacific Islander    0.021413\n",
       "Black                     0.289079\n",
       "Hispanic/Latino           0.143469\n",
       "Native American           0.008565\n",
       "Unknown                   0.032120\n",
       "White                     0.505353\n",
       "dtype: float64"
      ]
     },
     "execution_count": 36,
     "metadata": {},
     "output_type": "execute_result"
    }
   ],
   "source": [
    "ethnicity_percentage = ethnicity_count/len(data)\n",
    "ethnicity_percentage"
   ]
  },
  {
   "cell_type": "markdown",
   "metadata": {},
   "source": [
    "How do the killings compare with the overall US breakdown of population by race?"
   ]
  },
  {
   "cell_type": "code",
   "execution_count": 42,
   "metadata": {
    "collapsed": false
   },
   "outputs": [
    {
     "data": {
      "text/html": [
       "<div>\n",
       "<table border=\"1\" class=\"dataframe\">\n",
       "  <thead>\n",
       "    <tr style=\"text-align: right;\">\n",
       "      <th></th>\n",
       "      <th>killing_pct</th>\n",
       "      <th>population_pct</th>\n",
       "    </tr>\n",
       "  </thead>\n",
       "  <tbody>\n",
       "    <tr>\n",
       "      <th>Asian/Pacific Islander</th>\n",
       "      <td>0.021413</td>\n",
       "      <td>0.052472</td>\n",
       "    </tr>\n",
       "    <tr>\n",
       "      <th>Black</th>\n",
       "      <td>0.289079</td>\n",
       "      <td>0.133386</td>\n",
       "    </tr>\n",
       "    <tr>\n",
       "      <th>Hispanic/Latino</th>\n",
       "      <td>0.143469</td>\n",
       "      <td>0.147859</td>\n",
       "    </tr>\n",
       "    <tr>\n",
       "      <th>Native American</th>\n",
       "      <td>0.008565</td>\n",
       "      <td>0.012392</td>\n",
       "    </tr>\n",
       "    <tr>\n",
       "      <th>Unknown</th>\n",
       "      <td>0.032120</td>\n",
       "      <td>NaN</td>\n",
       "    </tr>\n",
       "    <tr>\n",
       "      <th>White</th>\n",
       "      <td>0.505353</td>\n",
       "      <td>0.653891</td>\n",
       "    </tr>\n",
       "  </tbody>\n",
       "</table>\n",
       "</div>"
      ],
      "text/plain": [
       "                        killing_pct  population_pct\n",
       "Asian/Pacific Islander     0.021413        0.052472\n",
       "Black                      0.289079        0.133386\n",
       "Hispanic/Latino            0.143469        0.147859\n",
       "Native American            0.008565        0.012392\n",
       "Unknown                    0.032120             NaN\n",
       "White                      0.505353        0.653891"
      ]
     },
     "execution_count": 42,
     "metadata": {},
     "output_type": "execute_result"
    }
   ],
   "source": [
    "mapping = { \n",
    "    'Asian/Pacific Islander': 15159516 + 674625, \n",
    "    'Native American': 3739506, \n",
    "    'Black': 40250635, \n",
    "    'Hispanic/Latino': 44618105, \n",
    "    'White': 197318956 }\n",
    "\n",
    "ethnicity_compare = pd.DataFrame(\n",
    "    {'killing_pct': ethnicity_percentage, \n",
    "    'population_pct':{k: v*1.0/sum(mapping.values()) for k , v in mapping.items()}\n",
    "    })\n"
   ]
  },
  {
   "cell_type": "markdown",
   "metadata": {},
   "source": [
    "Graph the killings by race using a bar chart. Make sure to label the graph and axes"
   ]
  },
  {
   "cell_type": "code",
   "execution_count": 18,
   "metadata": {
    "collapsed": false
   },
   "outputs": [
    {
     "data": {
      "text/plain": [
       "<matplotlib.axes._subplots.AxesSubplot at 0xb6254e02b0>"
      ]
     },
     "execution_count": 18,
     "metadata": {},
     "output_type": "execute_result"
    },
    {
     "data": {
      "image/png": "[encoded data removed]",
      "text/plain": [
       "<matplotlib.figure.Figure at 0xb62569f2e8>"
      ]
     },
     "metadata": {},
     "output_type": "display_data"
    }
   ],
   "source": [
    "data['raceethnicity'].value_counts().plot(kind='bar', alpha = .5, rot=45)"
   ]
  },
  {
   "cell_type": "markdown",
   "metadata": {},
   "source": [
    "Graph the killings by \"p_income\" using a histogram with different bin amounts (remember to remove any \"-\" values)"
   ]
  },
  {
   "cell_type": "code",
   "execution_count": 24,
   "metadata": {
    "collapsed": false,
    "scrolled": true
   },
   "outputs": [],
   "source": [
    "# Clean up the data: remove '-' and convert to int\n",
    "\n",
    "data['p_income']=data['p_income'].map(lambda x: None if x == '-' else int(x))"
   ]
  },
  {
   "cell_type": "code",
   "execution_count": 43,
   "metadata": {
    "collapsed": false
   },
   "outputs": [
    {
     "data": {
      "text/plain": [
       "<matplotlib.axes._subplots.AxesSubplot at 0xb623883240>"
      ]
     },
     "execution_count": 43,
     "metadata": {},
     "output_type": "execute_result"
    },
    {
     "data": {
      "image/png": "[encoded data removed]",
      "text/plain": [
       "<matplotlib.figure.Figure at 0xb623ff7d30>"
      ]
     },
     "metadata": {},
     "output_type": "display_data"
    }
   ],
   "source": [
    "data['p_income'].plot.hist(bins=20)"
   ]
  },
  {
   "cell_type": "markdown",
   "metadata": {},
   "source": [
    "Calculate the median \"p_income\""
   ]
  },
  {
   "cell_type": "code",
   "execution_count": 44,
   "metadata": {
    "collapsed": false
   },
   "outputs": [
    {
     "data": {
      "text/plain": [
       "24308.96559139785"
      ]
     },
     "execution_count": 44,
     "metadata": {},
     "output_type": "execute_result"
    }
   ],
   "source": [
    "p_income_mean = data['p_income'].mean()\n",
    "p_income_mean"
   ]
  },
  {
   "cell_type": "markdown",
   "metadata": {},
   "source": [
    "Find the total killings per each state"
   ]
  },
  {
   "cell_type": "code",
   "execution_count": 47,
   "metadata": {
    "collapsed": false,
    "scrolled": true
   },
   "outputs": [
    {
     "data": {
      "text/plain": [
       "state\n",
       "AK     2\n",
       "AL     8\n",
       "AR     4\n",
       "AZ    25\n",
       "CA    74\n",
       "dtype: int64"
      ]
     },
     "execution_count": 47,
     "metadata": {},
     "output_type": "execute_result"
    }
   ],
   "source": [
    "state_breakdown = data.groupby('state').size()\n",
    "state_breakdown.head()"
   ]
  },
  {
   "cell_type": "markdown",
   "metadata": {},
   "source": [
    " Create a new dataframe and remove any \"-\" from the following columns \"share_white\", \"share_black\" and \"share_hispanic\"\n",
    " \n",
    " Convert the values in those columns to float types"
   ]
  },
  {
   "cell_type": "code",
   "execution_count": 67,
   "metadata": {
    "collapsed": false
   },
   "outputs": [
    {
     "name": "stderr",
     "output_type": "stream",
     "text": [
      "C:\\ProgramData\\Anaconda3\\lib\\site-packages\\pandas\\core\\frame.py:2440: SettingWithCopyWarning: \n",
      "A value is trying to be set on a copy of a slice from a DataFrame.\n",
      "Try using .loc[row_indexer,col_indexer] = value instead\n",
      "\n",
      "See the caveats in the documentation: http://pandas.pydata.org/pandas-docs/stable/indexing.html#indexing-view-versus-copy\n",
      "  self[k1] = value[k2]\n"
     ]
    },
    {
     "data": {
      "text/html": [
       "<div>\n",
       "<table border=\"1\" class=\"dataframe\">\n",
       "  <thead>\n",
       "    <tr style=\"text-align: right;\">\n",
       "      <th></th>\n",
       "      <th>state</th>\n",
       "      <th>pop</th>\n",
       "      <th>county_income</th>\n",
       "      <th>share_white</th>\n",
       "      <th>share_black</th>\n",
       "      <th>share_hispanic</th>\n",
       "    </tr>\n",
       "  </thead>\n",
       "  <tbody>\n",
       "    <tr>\n",
       "      <th>0</th>\n",
       "      <td>AL</td>\n",
       "      <td>3779</td>\n",
       "      <td>54766</td>\n",
       "      <td>60.5</td>\n",
       "      <td>30.5</td>\n",
       "      <td>5.6</td>\n",
       "    </tr>\n",
       "    <tr>\n",
       "      <th>1</th>\n",
       "      <td>LA</td>\n",
       "      <td>2769</td>\n",
       "      <td>40930</td>\n",
       "      <td>53.8</td>\n",
       "      <td>36.2</td>\n",
       "      <td>0.5</td>\n",
       "    </tr>\n",
       "    <tr>\n",
       "      <th>2</th>\n",
       "      <td>WI</td>\n",
       "      <td>4079</td>\n",
       "      <td>54930</td>\n",
       "      <td>73.8</td>\n",
       "      <td>7.7</td>\n",
       "      <td>16.8</td>\n",
       "    </tr>\n",
       "    <tr>\n",
       "      <th>3</th>\n",
       "      <td>CA</td>\n",
       "      <td>4343</td>\n",
       "      <td>55909</td>\n",
       "      <td>1.2</td>\n",
       "      <td>0.6</td>\n",
       "      <td>98.8</td>\n",
       "    </tr>\n",
       "    <tr>\n",
       "      <th>4</th>\n",
       "      <td>OH</td>\n",
       "      <td>6809</td>\n",
       "      <td>49669</td>\n",
       "      <td>92.5</td>\n",
       "      <td>1.4</td>\n",
       "      <td>1.7</td>\n",
       "    </tr>\n",
       "  </tbody>\n",
       "</table>\n",
       "</div>"
      ],
      "text/plain": [
       "  state   pop  county_income  share_white  share_black  share_hispanic\n",
       "0    AL  3779          54766         60.5         30.5             5.6\n",
       "1    LA  2769          40930         53.8         36.2             0.5\n",
       "2    WI  4079          54930         73.8          7.7            16.8\n",
       "3    CA  4343          55909          1.2          0.6            98.8\n",
       "4    OH  6809          49669         92.5          1.4             1.7"
      ]
     },
     "execution_count": 67,
     "metadata": {},
     "output_type": "execute_result"
    }
   ],
   "source": [
    "clean_data = data[['state','pop','county_income','share_white','share_black','share_hispanic']]\n",
    "clean_data[['share_white','share_black','share_hispanic']] = clean_data[['share_white','share_black','share_hispanic']].applymap(lambda x: None if x == '-' else float(x))\n",
    "clean_data.head()"
   ]
  },
  {
   "cell_type": "markdown",
   "metadata": {},
   "source": [
    "Find the mean of 'pop', 'county_income' and those 3 columns for the following subsets\n",
    "\n",
    "lowest_states = [\"CT\", \"PA\", \"IA\", \"NY\", \"MA\", \"NH\", \"ME\", \"IL\", \"OH\", \"WI\"]\n",
    "\n",
    "highest_states = [\"OK\", \"AZ\", \"NE\", \"HI\", \"AK\", \"ID\", \"NM\", \"LA\", \"CO\", \"DE\"]"
   ]
  },
  {
   "cell_type": "code",
   "execution_count": 91,
   "metadata": {
    "collapsed": false
   },
   "outputs": [
    {
     "data": {
      "text/html": [
       "<div>\n",
       "<table border=\"1\" class=\"dataframe\">\n",
       "  <thead>\n",
       "    <tr style=\"text-align: right;\">\n",
       "      <th></th>\n",
       "      <th>pop_mean</th>\n",
       "      <th>county_income_mean</th>\n",
       "      <th>share_white_mean</th>\n",
       "      <th>share_black_mean</th>\n",
       "      <th>share_hispanic_mean</th>\n",
       "    </tr>\n",
       "  </thead>\n",
       "  <tbody>\n",
       "    <tr>\n",
       "      <th>lowest</th>\n",
       "      <td>4127.947368</td>\n",
       "      <td>54761.473684</td>\n",
       "      <td>60.616071</td>\n",
       "      <td>21.257143</td>\n",
       "      <td>12.948214</td>\n",
       "    </tr>\n",
       "    <tr>\n",
       "      <th>highest</th>\n",
       "      <td>4269.344086</td>\n",
       "      <td>48702.172043</td>\n",
       "      <td>55.652174</td>\n",
       "      <td>11.532609</td>\n",
       "      <td>20.693478</td>\n",
       "    </tr>\n",
       "  </tbody>\n",
       "</table>\n",
       "</div>"
      ],
      "text/plain": [
       "            pop_mean  county_income_mean  share_white_mean  share_black_mean  \\\n",
       "lowest   4127.947368        54761.473684         60.616071         21.257143   \n",
       "highest  4269.344086        48702.172043         55.652174         11.532609   \n",
       "\n",
       "         share_hispanic_mean  \n",
       "lowest             12.948214  \n",
       "highest            20.693478  "
      ]
     },
     "execution_count": 91,
     "metadata": {},
     "output_type": "execute_result"
    }
   ],
   "source": [
    "lowest_states = [\"CT\", \"PA\", \"IA\", \"NY\", \"MA\", \"NH\", \"ME\", \"IL\", \"OH\", \"WI\"]\n",
    "highest_states = [\"OK\", \"AZ\", \"NE\", \"HI\", \"AK\", \"ID\", \"NM\", \"LA\", \"CO\", \"DE\"]\n",
    "\n",
    "clean_data_lowest = clean_data['state'].isin(lowest_states)\n",
    "clean_data_highest = clean_data['state'].isin(highest_states)\n",
    "\n",
    "summary = pd.DataFrame([\n",
    "    [clean_data[clean_data_lowest]['pop'].mean(), clean_data[clean_data_highest]['pop'].mean()], \n",
    "    [clean_data[clean_data_lowest]['county_income'].mean(), clean_data[clean_data_highest]['county_income'].mean()],\n",
    "    [clean_data[clean_data_lowest]['share_white'].mean(), clean_data[clean_data_highest]['share_white'].mean()],\n",
    "    [clean_data[clean_data_lowest]['share_black'].mean(), clean_data[clean_data_highest]['share_black'].mean()],\n",
    "    [clean_data[clean_data_lowest]['share_hispanic'].mean(), clean_data[clean_data_highest]['share_hispanic'].mean()]],\n",
    "    columns = ['lowest','highest'],\n",
    "    index = ['pop_mean','county_income_mean','share_white_mean','share_black_mean','share_hispanic_mean']\n",
    ").transpose()\n",
    "summary\n",
    "\n"
   ]
  },
  {
   "cell_type": "code",
   "execution_count": null,
   "metadata": {
    "collapsed": true
   },
   "outputs": [],
   "source": []
  }
 ],
 "metadata": {
  "kernelspec": {
   "display_name": "Python 3",
   "language": "python",
   "name": "python3"
  },
  "language_info": {
   "codemirror_mode": {
    "name": "ipython",
    "version": 3
   },
   "file_extension": ".py",
   "mimetype": "text/x-python",
   "name": "python",
   "nbconvert_exporter": "python",
   "pygments_lexer": "ipython3",
   "version": "3.6.0"
  }
 },
 "nbformat": 4,
 "nbformat_minor": 2
}
