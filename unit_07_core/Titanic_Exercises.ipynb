{
 "cells": [
  {
   "cell_type": "markdown",
   "metadata": {},
   "source": [
    "# Titanic Data Set - Statistics Review\n",
    "\n",
    "[Variable Descriptions](https://www.kaggle.com/c/titanic/data)."
   ]
  },
  {
   "cell_type": "code",
   "execution_count": 6,
   "metadata": {
    "collapsed": false
   },
   "outputs": [],
   "source": [
    "% matplotlib inline\n",
    "import pandas as pd\n",
    "import numpy as np"
   ]
  },
  {
   "cell_type": "code",
   "execution_count": 7,
   "metadata": {
    "collapsed": false
   },
   "outputs": [],
   "source": [
    "df = pd.read_csv('titanic.csv')"
   ]
  },
  {
   "cell_type": "markdown",
   "metadata": {},
   "source": [
    "**Describe the data. **\n",
    "- How big?\n",
    "- What are the columns and what do they mean?"
   ]
  },
  {
   "cell_type": "code",
   "execution_count": 8,
   "metadata": {
    "collapsed": false
   },
   "outputs": [
    {
     "data": {
      "text/html": [
       "<div>\n",
       "<table border=\"1\" class=\"dataframe\">\n",
       "  <thead>\n",
       "    <tr style=\"text-align: right;\">\n",
       "      <th></th>\n",
       "      <th>PassengerId</th>\n",
       "      <th>Survived</th>\n",
       "      <th>Pclass</th>\n",
       "      <th>Name</th>\n",
       "      <th>Sex</th>\n",
       "      <th>Age</th>\n",
       "      <th>SibSp</th>\n",
       "      <th>Parch</th>\n",
       "      <th>Ticket</th>\n",
       "      <th>Fare</th>\n",
       "      <th>Cabin</th>\n",
       "      <th>Embarked</th>\n",
       "    </tr>\n",
       "  </thead>\n",
       "  <tbody>\n",
       "    <tr>\n",
       "      <th>0</th>\n",
       "      <td>1</td>\n",
       "      <td>0</td>\n",
       "      <td>3</td>\n",
       "      <td>Braund, Mr. Owen Harris</td>\n",
       "      <td>male</td>\n",
       "      <td>22.0</td>\n",
       "      <td>1</td>\n",
       "      <td>0</td>\n",
       "      <td>A/5 21171</td>\n",
       "      <td>7.2500</td>\n",
       "      <td>NaN</td>\n",
       "      <td>S</td>\n",
       "    </tr>\n",
       "    <tr>\n",
       "      <th>1</th>\n",
       "      <td>2</td>\n",
       "      <td>1</td>\n",
       "      <td>1</td>\n",
       "      <td>Cumings, Mrs. John Bradley (Florence Briggs Th...</td>\n",
       "      <td>female</td>\n",
       "      <td>38.0</td>\n",
       "      <td>1</td>\n",
       "      <td>0</td>\n",
       "      <td>PC 17599</td>\n",
       "      <td>71.2833</td>\n",
       "      <td>C85</td>\n",
       "      <td>C</td>\n",
       "    </tr>\n",
       "    <tr>\n",
       "      <th>2</th>\n",
       "      <td>3</td>\n",
       "      <td>1</td>\n",
       "      <td>3</td>\n",
       "      <td>Heikkinen, Miss. Laina</td>\n",
       "      <td>female</td>\n",
       "      <td>26.0</td>\n",
       "      <td>0</td>\n",
       "      <td>0</td>\n",
       "      <td>STON/O2. 3101282</td>\n",
       "      <td>7.9250</td>\n",
       "      <td>NaN</td>\n",
       "      <td>S</td>\n",
       "    </tr>\n",
       "    <tr>\n",
       "      <th>3</th>\n",
       "      <td>4</td>\n",
       "      <td>1</td>\n",
       "      <td>1</td>\n",
       "      <td>Futrelle, Mrs. Jacques Heath (Lily May Peel)</td>\n",
       "      <td>female</td>\n",
       "      <td>35.0</td>\n",
       "      <td>1</td>\n",
       "      <td>0</td>\n",
       "      <td>113803</td>\n",
       "      <td>53.1000</td>\n",
       "      <td>C123</td>\n",
       "      <td>S</td>\n",
       "    </tr>\n",
       "    <tr>\n",
       "      <th>4</th>\n",
       "      <td>5</td>\n",
       "      <td>0</td>\n",
       "      <td>3</td>\n",
       "      <td>Allen, Mr. William Henry</td>\n",
       "      <td>male</td>\n",
       "      <td>35.0</td>\n",
       "      <td>0</td>\n",
       "      <td>0</td>\n",
       "      <td>373450</td>\n",
       "      <td>8.0500</td>\n",
       "      <td>NaN</td>\n",
       "      <td>S</td>\n",
       "    </tr>\n",
       "  </tbody>\n",
       "</table>\n",
       "</div>"
      ],
      "text/plain": [
       "   PassengerId  Survived  Pclass  \\\n",
       "0            1         0       3   \n",
       "1            2         1       1   \n",
       "2            3         1       3   \n",
       "3            4         1       1   \n",
       "4            5         0       3   \n",
       "\n",
       "                                                Name     Sex   Age  SibSp  \\\n",
       "0                            Braund, Mr. Owen Harris    male  22.0      1   \n",
       "1  Cumings, Mrs. John Bradley (Florence Briggs Th...  female  38.0      1   \n",
       "2                             Heikkinen, Miss. Laina  female  26.0      0   \n",
       "3       Futrelle, Mrs. Jacques Heath (Lily May Peel)  female  35.0      1   \n",
       "4                           Allen, Mr. William Henry    male  35.0      0   \n",
       "\n",
       "   Parch            Ticket     Fare Cabin Embarked  \n",
       "0      0         A/5 21171   7.2500   NaN        S  \n",
       "1      0          PC 17599  71.2833   C85        C  \n",
       "2      0  STON/O2. 3101282   7.9250   NaN        S  \n",
       "3      0            113803  53.1000  C123        S  \n",
       "4      0            373450   8.0500   NaN        S  "
      ]
     },
     "execution_count": 8,
     "metadata": {},
     "output_type": "execute_result"
    }
   ],
   "source": [
    "len(df.index)\n",
    "df.columns\n",
    "df.head()"
   ]
  },
  {
   "cell_type": "markdown",
   "metadata": {},
   "source": [
    "**What’s the average age of:**\n",
    "\n",
    "- Any Titanic passenger\n",
    "- A survivor\n",
    "- A non-surviving first-class passenger\n",
    "- Male survivors older than 30 from anywhere but Queenstown"
   ]
  },
  {
   "cell_type": "code",
   "execution_count": 9,
   "metadata": {
    "collapsed": false
   },
   "outputs": [
    {
     "name": "stdout",
     "output_type": "stream",
     "text": [
      "average age = 29.699118\n",
      "average age of survivor = 28.343690\n",
      "average age of 1st class non-survivor = 43.695312\n",
      "['S' 'C' 'Q' nan]\n",
      "average age of male survivors older than 30 from anywhere but Queenstown = 41.487805\n"
     ]
    }
   ],
   "source": [
    "grp1 = df[df['Survived']==1]['Age']\n",
    "grp2 = df[(df['Survived']==0) & (df['Pclass']==1)]['Age']\n",
    "grp3 = df[(df['Survived']==1) & (df['Sex']=='male') & (df['Age']>30) & (df['Embarked']!='Q')]['Age']\n",
    "\n",
    "print ('average age = %f' % (df['Age'].mean()))\n",
    "print ('average age of survivor = %f' % (grp1.mean()))\n",
    "print ('average age of 1st class non-survivor = %f' % (grp2.mean()))\n",
    "print (df['Embarked'].unique())\n",
    "print ('average age of male survivors older than 30 from anywhere but Queenstown = %f' % (grp3.mean()))"
   ]
  },
  {
   "cell_type": "markdown",
   "metadata": {},
   "source": [
    "**For the groups from the previous task, how far (in years) are the average ages from the median ages?**"
   ]
  },
  {
   "cell_type": "code",
   "execution_count": 10,
   "metadata": {
    "collapsed": false
   },
   "outputs": [
    {
     "name": "stdout",
     "output_type": "stream",
     "text": [
      "1.69911764705882\n",
      "0.34368965517241534\n",
      "1.5546875\n",
      "3.4878048780487774\n"
     ]
    }
   ],
   "source": [
    "print (abs(df['Age'].mean() - df['Age'].median()))\n",
    "print (abs(grp1.mean() - grp1.median()))\n",
    "print (abs(grp2.mean() - grp2.median()))\n",
    "print (abs(grp3.mean() - grp3.median()))"
   ]
  },
  {
   "cell_type": "markdown",
   "metadata": {},
   "source": [
    "**What’s the most common:**\n",
    "- Passenger class\n",
    "- Port of Embarkation\n",
    "- Number of siblings or spouses aboard for survivors"
   ]
  },
  {
   "cell_type": "code",
   "execution_count": 11,
   "metadata": {
    "collapsed": false
   },
   "outputs": [
    {
     "name": "stdout",
     "output_type": "stream",
     "text": [
      "The most common passenger class is 3 with total count of 491\n",
      "The most common port of embarkation is S with total count of 644\n",
      "The most common number of siblings or spouses aboard for survivors is 0 with total count of 210\n"
     ]
    }
   ],
   "source": [
    "print ('The most common passenger class is %s with total count of %i' % \\\n",
    "       (df['Pclass'].value_counts().index[0],\\\n",
    "        df['Pclass'].value_counts().max() )) \n",
    "print ('The most common port of embarkation is %s with total count of %i' % \\\n",
    "       (df['Embarked'].value_counts().index[0],\\\n",
    "        df['Embarked'].value_counts().max() )) \n",
    "print ('The most common number of siblings or spouses aboard for survivors is %s with total count of %i' % \\\n",
    "       (df[df['Survived']==1]['SibSp'].value_counts().index[0],\\\n",
    "        df[df['Survived']==1]['SibSp'].value_counts().max() )) "
   ]
  },
  {
   "cell_type": "markdown",
   "metadata": {},
   "source": [
    "**Within what range of standard deviations from the mean (0-1, 1-2, 2-3) is the median ticket price? Is it above or below the mean?**"
   ]
  },
  {
   "cell_type": "code",
   "execution_count": 12,
   "metadata": {
    "collapsed": false
   },
   "outputs": [
    {
     "name": "stdout",
     "output_type": "stream",
     "text": [
      "Median price is within 0-1 range of STD from the mean and it's below the mean.\n",
      "Mean   = 32.204208\n",
      "Median = 14.454200\n",
      "STD    = 49.665534\n"
     ]
    }
   ],
   "source": [
    "rng = int(abs(df['Fare'].median()-df['Fare'].mean()) // df['Fare'].std(ddof=0))\n",
    "above = (abs(df['Fare'].median()-df['Fare'].mean())== df['Fare'].median()-df['Fare'].mean())\n",
    "\n",
    "print ('Median price is within %i-%i range of STD from the mean and it\\'s %s the mean.' %\\\n",
    "      (rng, rng+1, ('above' if above else 'below') ))\n",
    "print ('Mean   = %f\\nMedian = %f\\nSTD    = %f' %\\\n",
    "      (df['Fare'].mean(), df['Fare'].median(), df['Fare'].std(ddof=0) ))"
   ]
  },
  {
   "cell_type": "markdown",
   "metadata": {},
   "source": [
    "**How much more expensive was the 90th percentile ticket than the 5th percentile ticket? Are they the same class?**"
   ]
  },
  {
   "cell_type": "code",
   "execution_count": 13,
   "metadata": {
    "collapsed": false
   },
   "outputs": [
    {
     "name": "stdout",
     "output_type": "stream",
     "text": [
      "90th percentile ticket is 70.733300 more expensive than 5th percentile, and they are not the same class.\n"
     ]
    }
   ],
   "source": [
    "same = (df[df['Fare'] == df['Fare'].quantile(.9)]['Pclass'].unique() == df[df['Fare'] == df['Fare'].quantile(.5)]['Pclass'].unique())\n",
    "print ('90th percentile ticket is %f more expensive than 5th percentile, and they are %sthe same class.' % \\\n",
    "       (df['Fare'].quantile(.9) - df['Fare'].quantile(.05), '' if same else 'not ') )"
   ]
  },
  {
   "cell_type": "markdown",
   "metadata": {},
   "source": [
    "**The highest average ticket price was paid by passengers from which port? Null ports don’t count.**"
   ]
  },
  {
   "cell_type": "code",
   "execution_count": 14,
   "metadata": {
    "collapsed": false
   },
   "outputs": [
    {
     "name": "stdout",
     "output_type": "stream",
     "text": [
      "The highest average ticket price was paid by passengers from C port, and it was 59.954144\n"
     ]
    }
   ],
   "source": [
    "grp = df.groupby('Embarked')\n",
    "grp_mean = grp['Fare'].mean()\n",
    "print ('The highest average ticket price was paid by passengers from %s port, and it was %f' %\\\n",
    "       (grp_mean.loc[lambda x: x == x.max()].index[0], grp_mean.loc[lambda x: x == x.max()][0]) )"
   ]
  },
  {
   "cell_type": "markdown",
   "metadata": {},
   "source": [
    "**What is the most common passenger class for each port?**"
   ]
  },
  {
   "cell_type": "code",
   "execution_count": 15,
   "metadata": {
    "collapsed": false
   },
   "outputs": [
    {
     "data": {
      "text/html": [
       "<div>\n",
       "<table border=\"1\" class=\"dataframe\">\n",
       "  <thead>\n",
       "    <tr style=\"text-align: right;\">\n",
       "      <th></th>\n",
       "      <th>Cherbourg</th>\n",
       "      <th>Queenstown</th>\n",
       "      <th>Southampton</th>\n",
       "    </tr>\n",
       "  </thead>\n",
       "  <tbody>\n",
       "    <tr>\n",
       "      <th>0</th>\n",
       "      <td>1</td>\n",
       "      <td>3</td>\n",
       "      <td>3</td>\n",
       "    </tr>\n",
       "  </tbody>\n",
       "</table>\n",
       "</div>"
      ],
      "text/plain": [
       "   Cherbourg  Queenstown  Southampton\n",
       "0          1           3            3"
      ]
     },
     "execution_count": 15,
     "metadata": {},
     "output_type": "execute_result"
    }
   ],
   "source": [
    "grp = df.groupby('Embarked')\n",
    "grp_pclass = (grp['Pclass']).value_counts()\n",
    "\n",
    "grouped_by_port = df.groupby('Embarked')\n",
    "class_mode_port = pd.DataFrame()\n",
    "ports = {'C': 'Cherbourg', 'Q': 'Queenstown', 'S': 'Southampton'}\n",
    "for port, group in grouped_by_port:\n",
    "    class_mode_port[ports[port]] = pd.Series(group['Pclass'].mode())\n",
    "    \n",
    "class_mode_port"
   ]
  },
  {
   "cell_type": "markdown",
   "metadata": {},
   "source": [
    "**What fraction of surviving 1st-class males paid lower than double the overall median ticket price?**"
   ]
  },
  {
   "cell_type": "code",
   "execution_count": 16,
   "metadata": {
    "collapsed": false
   },
   "outputs": [
    {
     "data": {
      "text/plain": [
       "Fare    0.244444\n",
       "dtype: float64"
      ]
     },
     "execution_count": 16,
     "metadata": {},
     "output_type": "execute_result"
    }
   ],
   "source": [
    "price = df['Fare'].median()*2\n",
    "q_grp = df.loc[(df['Survived']==1) & (df['Sex']=='male') & (df['Pclass']==1), ['Fare']]\n",
    "q_grp[q_grp['Fare'] < price].count() / q_grp.count()\n"
   ]
  },
  {
   "cell_type": "markdown",
   "metadata": {},
   "source": [
    "**How much older/younger was the average surviving passenger with family members than the average non-surviving passenger without them?**"
   ]
  },
  {
   "cell_type": "code",
   "execution_count": 17,
   "metadata": {
    "collapsed": false
   },
   "outputs": [
    {
     "name": "stdout",
     "output_type": "stream",
     "text": [
      "The average surviving passenger with family members was 5.686756 years younger than the average non-surviving passenger without them.\n"
     ]
    }
   ],
   "source": [
    "avg1 = df[ (df['Survived']==1) & (df['SibSp']>0)]['Age'].mean()\n",
    "avg2 = df[ (df['Survived']==0) & (df['SibSp']==0)]['Age'].mean()\n",
    "print (\\\n",
    "       'The average surviving passenger with family members was %f years %s \\\n",
    "than the average non-surviving passenger without them.' % \\\n",
    "       (abs(avg1-avg2), 'older' if abs(avg1-avg2) == (avg1-avg2) else 'younger'))"
   ]
  },
  {
   "cell_type": "markdown",
   "metadata": {},
   "source": [
    "**Display the relationship (i.e. make a plot) between survival rate and the quantile of the ticket price for 20 integer quantiles.**\n",
    "- To be clearer, what I want is for you to specify 20 quantiles, and for each of those quantiles divide the number of survivors in that quantile by the total number of people in that quantile. That’ll give you the survival rate in that quantile.\n",
    "- Then plot a line of the survival rate against the ticket fare quantiles.\n",
    "- Make sure you label your axes."
   ]
  },
  {
   "cell_type": "code",
   "execution_count": 18,
   "metadata": {
    "collapsed": false
   },
   "outputs": [
    {
     "data": {
      "text/plain": [
       "<matplotlib.text.Text at 0x114ee53c8>"
      ]
     },
     "execution_count": 18,
     "metadata": {},
     "output_type": "execute_result"
    },
    {
     "data": {
      "image/png": "[encoded data removed]",
      "text/plain": [
       "<matplotlib.figure.Figure at 0x114eb6780>"
      ]
     },
     "metadata": {},
     "output_type": "display_data"
    }
   ],
   "source": [
    "quantiles = pd.DataFrame({'lower': df['Fare'].quantile(np.arange(0.0, 1.0, .05))})\n",
    "quantiles['upper'] = df['Fare'].quantile(np.arange( 0.05, 1.05, .05)).values\n",
    "\n",
    "survived = []\n",
    "total = []\n",
    "for i in quantiles.index:\n",
    "    lower = quantiles.loc[i,['lower']][0]\n",
    "    upper = quantiles.loc[i,['upper']][0]\n",
    "    survived.append(df[(df['Survived']==1) & (df['Fare']>lower) & (df['Fare']<=upper)]['PassengerId'].count())\n",
    "    total.append(df[ (df['Fare']>lower) & (df['Fare']<=upper)]['PassengerId'].count())\n",
    "    \n",
    "quantiles['total'] = total\n",
    "quantiles['survived'] = survived\n",
    "quantiles['ratio'] = quantiles['survived']/quantiles['total']\n",
    "\n",
    "plt = quantiles['ratio'].plot(kind='bar')\n",
    "plt.set_xlabel('Fare quantiles')\n",
    "plt.set_ylabel('Survival rate')\n"
   ]
  },
  {
   "cell_type": "markdown",
   "metadata": {},
   "source": [
    "**For each of the following characteristics, find the median in the data:**\n",
    "- Age\n",
    "- Ticket price\n",
    "- Siblings/spouses\n",
    "- Parents/children"
   ]
  },
  {
   "cell_type": "code",
   "execution_count": 19,
   "metadata": {
    "collapsed": false
   },
   "outputs": [
    {
     "name": "stdout",
     "output_type": "stream",
     "text": [
      "Age median is 28.000000\n",
      "Ticket price median is 14.454200\n",
      "Siblings/spouses median is 0.000000\n",
      "Parents/children median is 0.000000\n"
     ]
    }
   ],
   "source": [
    "print ('Age median is %f' % (df['Age'].median()))\n",
    "print ('Ticket price median is %f' % (df['Fare'].median()))\n",
    "print ('Siblings/spouses median is %f' % (df['SibSp'].median()))\n",
    "print ('Parents/children median is %f' % (df['Parch'].median()))"
   ]
  },
  {
   "cell_type": "markdown",
   "metadata": {},
   "source": [
    "**If you were to use these medians to draw numerical boundaries separating survivors from non-survivors, which of these characteristics would be the best choice and why?**"
   ]
  },
  {
   "cell_type": "code",
   "execution_count": null,
   "metadata": {
    "collapsed": false
   },
   "outputs": [],
   "source": []
  },
  {
   "cell_type": "markdown",
   "metadata": {},
   "source": [
    "**Plot the distribution of passenger ages. Choose visually-meaningful bin sizes and label your axes.**"
   ]
  },
  {
   "cell_type": "code",
   "execution_count": 20,
   "metadata": {
    "collapsed": false
   },
   "outputs": [
    {
     "name": "stdout",
     "output_type": "stream",
     "text": [
      "0.42\n",
      "80.0\n"
     ]
    },
    {
     "data": {
      "text/plain": [
       "<matplotlib.axes._subplots.AxesSubplot at 0x114fe0160>"
      ]
     },
     "execution_count": 20,
     "metadata": {},
     "output_type": "execute_result"
    },
    {
     "data": {
      "image/png": "[encoded data removed]",
      "text/plain": [
       "<matplotlib.figure.Figure at 0x114e97f60>"
      ]
     },
     "metadata": {},
     "output_type": "display_data"
    }
   ],
   "source": [
    "print (df['Age'].min())\n",
    "print (df['Age'].max())\n",
    "df['Age'].plot.hist(bins=25, alpha=.85)"
   ]
  },
  {
   "cell_type": "markdown",
   "metadata": {},
   "source": [
    "**Find the probability that:**\n",
    "- A passenger survived\n",
    "- A passenger was male\n",
    "- A passenger was female and had at least one sibling or spouse on board\n",
    "- A survivor was from Cherbourg\n",
    "- A passenger was less than 10 years old\n",
    "- A passenger was either younger than 20 years old or older than 50"
   ]
  },
  {
   "cell_type": "code",
   "execution_count": 21,
   "metadata": {
    "collapsed": false
   },
   "outputs": [
    {
     "name": "stdout",
     "output_type": "stream",
     "text": [
      "the probability that a passenger survived is 0.383838\n",
      "the probability that a passenger was male is 0.647587\n",
      "the probability that a passenger was female and had at least one sibling or spouse on board is 0.157127\n",
      "the probability that a survivor was from Cherbourg is 0.104377\n",
      "the probability that a passenger was less than 10 years old is 0.069585\n",
      "the probability that a passenger was either younger than 20 years old or older than 50 is 0.255892\n"
     ]
    }
   ],
   "source": [
    "total = df['PassengerId'].count()\n",
    "p_survive = df['Survived'].sum()/total\n",
    "p_male = (df['Sex'] == 'male').sum() / total\n",
    "p_female_plus = ((df['Sex'] == 'female') & (df['SibSp']>0)).sum() / total\n",
    "p_surv_c = ((df['Embarked'] == 'C') & (df['Survived']==1)).sum() / total\n",
    "p_child = (df['Age'] < 10).sum() / total\n",
    "p_range = pd.concat([(df['Age'] < 20) , (df['Age'] > 50)] ).sum() / total\n",
    "\n",
    "print ('the probability that a passenger survived is %f' % (p_survive))\n",
    "print ('the probability that a passenger was male is %f' % (p_male))\n",
    "print ('the probability that a passenger was female and had at least one sibling or spouse on board is %f' % (p_female_plus))\n",
    "print ('the probability that a survivor was from Cherbourg is %f' % (p_surv_c))\n",
    "print ('the probability that a passenger was less than 10 years old is %f' % (p_child))\n",
    "print ('the probability that a passenger was either younger than 20 years old or older than 50 is %f' % (p_range))"
   ]
  },
  {
   "cell_type": "markdown",
   "metadata": {},
   "source": [
    "**Knowing nothing else about the passengers aside from the survival rate of the population (see question above), if I choose 100 passengers at random from the passenger list, what’s the probability that exactly 42 passengers survive?**"
   ]
  },
  {
   "cell_type": "code",
   "execution_count": 22,
   "metadata": {
    "collapsed": false
   },
   "outputs": [
    {
     "name": "stdout",
     "output_type": "stream",
     "text": [
      "If I choose 100 passengers at random from the passenger list the probability that exactly 42 passengers survive is 6.13%\n"
     ]
    }
   ],
   "source": [
    "import scipy.stats  as stats\n",
    "print('If I choose 100 passengers at random from the passenger list \\\n",
    "the probability that exactly 42 passengers survive is %.2f%%' % (stats.binom.pmf(k=42, n=100, p=p_survive)*100))\n"
   ]
  },
  {
   "cell_type": "markdown",
   "metadata": {},
   "source": [
    "**What’s the probability that at least 42 of those 100 passengers survive?**"
   ]
  },
  {
   "cell_type": "code",
   "execution_count": 23,
   "metadata": {
    "collapsed": false
   },
   "outputs": [
    {
     "name": "stdout",
     "output_type": "stream",
     "text": [
      "The probability that at least 42 of those 100 passengers survive is 25.94%\n"
     ]
    }
   ],
   "source": [
    "p_42 = stats.binom.cdf(k=41, n=100, p=p_survive)\n",
    "p_atleast_42 = 1-p_42\n",
    "print ('The probability that at least 42 of those 100 passengers survive is %.2f%%' % (p_atleast_42*100))"
   ]
  },
  {
   "cell_type": "markdown",
   "metadata": {},
   "source": [
    "**Is there a statistically significant difference between:**\n",
    "- The ages of male and female survivors?\n",
    "- The fares paid by passengers from Queenstown and the passengers from Cherbourg?\n",
    "\n",
    "**If so, at what level? If not, how do you know?**"
   ]
  },
  {
   "cell_type": "code",
   "execution_count": 31,
   "metadata": {
    "collapsed": false
   },
   "outputs": [
    {
     "name": "stdout",
     "output_type": "stream",
     "text": [
      "There is no significant difference between the ages of male and female survivors \n",
      "because there is 43.02% chance of having a difference between means of these two samples more than -0.79.\n",
      "\n",
      "There is a significant difference between the fares paid by passengers from Queenstown and the passengers from Cherbourg \n",
      "because there is 0.00% chance of having a difference between means of these two samples more than -7.00.\n"
     ]
    }
   ],
   "source": [
    "male = df[((df['Sex']=='male') & (df['Survived']==1))]['Age']\n",
    "male = male.dropna()\n",
    "female = df[((df['Sex']=='female') & (df['Survived']==1))]['Age']\n",
    "female = female.dropna()\n",
    "\n",
    "st, pval = stats.ttest_ind(a=male, b=female, equal_var=False)\n",
    "print('There is %s significant difference between the ages of male and female survivors \\\n",
    "\\nbecause there is %.2f%% chance of having a difference between means of these two samples more than %.2f.'\\\n",
    "      % (('a' if pval<.05 else 'no'), pval*100, st))\n",
    "\n",
    "queenstown = df[(df['Embarked']=='Q')]['Fare']\n",
    "cherbourg = df[(df['Embarked']=='C')]['Fare']\n",
    "\n",
    "st, pval = stats.ttest_ind(a=queenstown, b=cherbourg, equal_var=False)\n",
    "print('\\nThere is %s significant difference between the fares paid by \\\n",
    "passengers from Queenstown and the passengers from Cherbourg \\\n",
    "\\nbecause there is %.2f%% chance of having a difference between means of these two samples more than %.2f.'\\\n",
    "      % (('a' if pval<.05 else 'no'), pval*100, st))\n"
   ]
  },
  {
   "cell_type": "markdown",
   "metadata": {},
   "source": [
    "\n",
    "**Accompany your p-values with histograms showing the distributions of both compared populations.**"
   ]
  },
  {
   "cell_type": "code",
   "execution_count": 25,
   "metadata": {
    "collapsed": false
   },
   "outputs": [
    {
     "data": {
      "text/plain": [
       "<matplotlib.text.Text at 0x117c3fc18>"
      ]
     },
     "execution_count": 25,
     "metadata": {},
     "output_type": "execute_result"
    },
    {
     "data": {
      "image/png": "[encoded data removed]",
      "text/plain": [
       "<matplotlib.figure.Figure at 0x115046cf8>"
      ]
     },
     "metadata": {},
     "output_type": "display_data"
    }
   ],
   "source": [
    "import matplotlib.pyplot as plt\n",
    "fig, axs = plt.subplots(2,1,figsize=(8,10))\n",
    "\n",
    "age_plt = male.plot.hist(bins=30, alpha=.5, color='blue', ax = axs[0])\n",
    "age_plt = female.plot.hist(bins=30, alpha=.5, color='green', ax = axs[0])\n",
    "age_plt.set_xlabel('Age Distribution')\n",
    "\n",
    "\n",
    "fare_plt = queenstown.plot.hist(bins=20, alpha=.5, color='blue', ax = axs[1])\n",
    "fare_plt = cherbourg.plot.hist(bins=20, alpha=.5, color='green', ax = axs[1])\n",
    "fare_plt.set_xlabel('Fare Distribution')\n",
    " "
   ]
  },
  {
   "cell_type": "markdown",
   "metadata": {},
   "source": [
    "**Did survivors pay more for their tickets than those that did not? If so, to what significance level?**"
   ]
  },
  {
   "cell_type": "code",
   "execution_count": 33,
   "metadata": {
    "collapsed": false
   },
   "outputs": [
    {
     "name": "stdout",
     "output_type": "stream",
     "text": [
      "\n",
      "There is a significant difference between the fares paid by survivors vs non-survivors \n",
      "because there is 0.00% chance of having a difference between means of these two samples more than 6.84.\n",
      "48.39540760233917 22.117886885245877\n",
      "66.59699811829472 31.388206530563984\n"
     ]
    },
    {
     "data": {
      "text/plain": [
       "<matplotlib.text.Text at 0x118274320>"
      ]
     },
     "execution_count": 33,
     "metadata": {},
     "output_type": "execute_result"
    },
    {
     "data": {
      "image/png": "[encoded data removed]",
      "text/plain": [
       "<matplotlib.figure.Figure at 0x118947a58>"
      ]
     },
     "metadata": {},
     "output_type": "display_data"
    }
   ],
   "source": [
    "survivors = df[(df['Survived']==1)]['Fare']\n",
    "non_survivors = df[(df['Survived']==0)]['Fare']\n",
    "\n",
    "st, pval = stats.ttest_ind(a=survivors, b=non_survivors, equal_var=False)\n",
    "print('\\nThere is %s significant difference between the fares paid by survivors vs non-survivors \\\n",
    "\\nbecause there is %.2f%% chance of having a difference between means of these two samples more than %.2f.'\\\n",
    "      % (('a' if pval<.05 else 'no'), pval*100, st))\n",
    "print (survivors.mean(), non_survivors.mean())\n",
    "print (survivors.std(), non_survivors.std())\n",
    "\n",
    "fare_plt = survivors.plot.hist(bins=20, alpha=.5, color='blue')\n",
    "fare_plt = non_survivors.plot.hist(bins=20, alpha=.5, color='green')\n",
    "fare_plt.set_xlabel('Fare Distribution')"
   ]
  },
  {
   "cell_type": "markdown",
   "metadata": {},
   "source": [
    "**Did a given first-class passenger have less family members on board than a given third-class passenger? If so, to what significance level?**"
   ]
  },
  {
   "cell_type": "code",
   "execution_count": 35,
   "metadata": {
    "collapsed": false
   },
   "outputs": [
    {
     "name": "stdout",
     "output_type": "stream",
     "text": [
      "\n",
      "There is a significant difference between first-class and third-class family members \n",
      "because there is 3.79% chance of having a difference between means of these two samples more than -2.08.\n",
      "0.7731481481481481 1.0081466395112015\n",
      "1.0385236821638482 1.9535250260574035\n",
      "count    216.000000\n",
      "mean       0.773148\n",
      "std        1.038524\n",
      "min        0.000000\n",
      "25%        0.000000\n",
      "50%        0.000000\n",
      "75%        1.000000\n",
      "max        5.000000\n",
      "Name: Relatives, dtype: float64\n",
      "count    491.000000\n",
      "mean       1.008147\n",
      "std        1.953525\n",
      "min        0.000000\n",
      "25%        0.000000\n",
      "50%        0.000000\n",
      "75%        1.000000\n",
      "max       10.000000\n",
      "Name: Relatives, dtype: float64\n"
     ]
    },
    {
     "data": {
      "text/plain": [
       "<matplotlib.text.Text at 0x118b96c50>"
      ]
     },
     "execution_count": 35,
     "metadata": {},
     "output_type": "execute_result"
    },
    {
     "data": {
      "image/png": "[encoded data removed]",
      "text/plain": [
       "<matplotlib.figure.Figure at 0x118ca5e48>"
      ]
     },
     "metadata": {},
     "output_type": "display_data"
    }
   ],
   "source": [
    "df['Relatives'] = df['SibSp'] + df['Parch']\n",
    "first_class = df[df['Pclass']==1]['Relatives']\n",
    "third_class = df[df['Pclass']==3]['Relatives']\n",
    "st, pval = stats.ttest_ind(a=first_class, b=third_class, equal_var=False)\n",
    "print('\\nThere is %s significant difference between first-class and third-class family members \\\n",
    "\\nbecause there is %.2f%% chance of having a difference between means of these two samples more than %.2f.'\\\n",
    "      % (('a' if pval<.05 else 'no'), pval*100, st))\n",
    "print (first_class.mean(), third_class.mean())\n",
    "print (first_class.std(),  third_class.std())\n",
    "print (first_class.describe())\n",
    "print (third_class.describe())\n",
    "rel_plt = first_class.plot.hist(bins=10, alpha=.5, color='blue')\n",
    "rel_plt = third_class.plot.hist(bins=10, alpha=.5, color='green')\n",
    "rel_plt.set_xlabel('Family Members Distribution')"
   ]
  },
  {
   "cell_type": "code",
   "execution_count": null,
   "metadata": {
    "collapsed": true
   },
   "outputs": [],
   "source": []
  }
 ],
 "metadata": {
  "anaconda-cloud": {},
  "kernelspec": {
   "display_name": "Python [default]",
   "language": "python",
   "name": "python3"
  },
  "language_info": {
   "codemirror_mode": {
    "name": "ipython",
    "version": 3
   },
   "file_extension": ".py",
   "mimetype": "text/x-python",
   "name": "python",
   "nbconvert_exporter": "python",
   "pygments_lexer": "ipython3",
   "version": "3.5.2"
  }
 },
 "nbformat": 4,
 "nbformat_minor": 1
}
