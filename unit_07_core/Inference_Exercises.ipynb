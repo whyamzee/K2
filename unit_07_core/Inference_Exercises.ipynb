{
 "cells": [
  {
   "cell_type": "markdown",
   "metadata": {},
   "source": [
    "# Statistical Inference Exercise Solutions"
   ]
  },
  {
   "cell_type": "markdown",
   "metadata": {},
   "source": [
    "# Introduction"
   ]
  },
  {
   "cell_type": "code",
   "execution_count": 1,
   "metadata": {
    "collapsed": true
   },
   "outputs": [],
   "source": [
    "% matplotlib inline\n",
    "import numpy as np\n",
    "import matplotlib.pyplot as plt\n",
    "import scipy.stats as stats\n",
    "import math\n",
    "import pandas as pd"
   ]
  },
  {
   "cell_type": "markdown",
   "metadata": {},
   "source": [
    "**Question** - The goal of statistical inference is to? \n",
    "1. Infer facts about a population from a sample.\n",
    "2. Infer facts about the sample from a population.\n",
    "3. Calculate sample quantities to understand your data.\n",
    "4. To torture Data Science students."
   ]
  },
  {
   "cell_type": "markdown",
   "metadata": {
    "collapsed": true
   },
   "source": [
    "**Answer** - 1. Infer facts about a population from a sample."
   ]
  },
  {
   "cell_type": "markdown",
   "metadata": {},
   "source": [
    "**Question** - The goal of randomization of a treatment in a randomized trial is to?\n",
    "1. It doesn’t really do anything.\n",
    "2. To obtain a representative sample of subjects from the population of interest.\n",
    "3. Balance unobserved covariates that may contaminate the comparison between the\n",
    "    treated and control groups.\n",
    "4. To add variation to our conclusions.\n"
   ]
  },
  {
   "cell_type": "markdown",
   "metadata": {
    "collapsed": true
   },
   "source": [
    "**Answer** - 2. To obtain a representative sample of subjects from the population of interest."
   ]
  },
  {
   "cell_type": "markdown",
   "metadata": {},
   "source": [
    "**Question** - Probability is a?\n",
    "1. Population quantity that we can potentially estimate from data.\n",
    "2. A data quantity that does not require the idea of a population."
   ]
  },
  {
   "cell_type": "markdown",
   "metadata": {
    "collapsed": true
   },
   "source": [
    "**Answer** - \n",
    "Probability starts with completely specified mathematical model of random experiment. The goal is to perform computation that helps us to understand random experiment and help us predict what will happen when we run the experiment.\n",
    "Statistical inference is a reverse, we start with incomplete mathematical model, we run an experiment, collect the data, and use this data to draw the inference about unknown factors of mathematical model.\n",
    "\n",
    "Based on this description (given in one of the videos) I assume the answer to this question is (2.) \"A data quantity that does not require the idea of a population.\" because we don't need the idea of population, we have a mathematical model that  we can use to predict it."
   ]
  },
  {
   "cell_type": "markdown",
   "metadata": {},
   "source": [
    "# Probability"
   ]
  },
  {
   "cell_type": "markdown",
   "metadata": {},
   "source": [
    "**Question** - Can you add the probabilities of any two events to get the probability of at least one occurring?"
   ]
  },
  {
   "cell_type": "markdown",
   "metadata": {
    "collapsed": true
   },
   "source": [
    "**Answer** - \n",
    "Only if events are mutually exclusive, then yes."
   ]
  },
  {
   "cell_type": "markdown",
   "metadata": {},
   "source": [
    "**Question** -  I define a PMF, p so that for x = 0 and x = 1 we have p(0) = -0.1 and p(1) = 1.1. Is this a\n",
    "valid PMF?"
   ]
  },
  {
   "cell_type": "markdown",
   "metadata": {
    "collapsed": true
   },
   "source": [
    "**Answer** - No. by definition p can only be within the range [0, 1]"
   ]
  },
  {
   "cell_type": "markdown",
   "metadata": {},
   "source": [
    "**Question** -  The 97.5th percentile of a distribution is?"
   ]
  },
  {
   "cell_type": "markdown",
   "metadata": {
    "collapsed": true
   },
   "source": [
    "?"
   ]
  },
  {
   "cell_type": "markdown",
   "metadata": {},
   "source": [
    "**Question** -  Consider influenza epidemics for two parent heterosexual families. Suppose that the probability\n",
    "is 15% that at least one of the parents has contracted the disease. The probability that the\n",
    "father has contracted influenza is 10% while that the mother contracted the disease is 9%. What\n",
    "is the probability that both contracted influenza expressed as a whole number percentage?"
   ]
  },
  {
   "cell_type": "markdown",
   "metadata": {},
   "source": [
    "**Answer** - "
   ]
  },
  {
   "cell_type": "code",
   "execution_count": 8,
   "metadata": {
    "collapsed": false
   },
   "outputs": [
    {
     "name": "stdout",
     "output_type": "stream",
     "text": [
      "4%\n"
     ]
    }
   ],
   "source": [
    "p_f_or_m = .15\n",
    "pf = .1\n",
    "pm = .09\n",
    "\n",
    "p_f_and_m = pf + pm - p_f_or_m\n",
    "print ('%i%%' % (p_f_and_m*100))\n",
    "\n",
    "#done"
   ]
  },
  {
   "cell_type": "markdown",
   "metadata": {},
   "source": [
    "**Question** -  A random variable, X, is uniform, a box from 0 to 1 of height 1. (So that it’s density is f(x) = 1\n",
    "for 0 <= x <= 1.) What is it’s median expressed to two decimal places?"
   ]
  },
  {
   "cell_type": "markdown",
   "metadata": {},
   "source": [
    "**Answer** - "
   ]
  },
  {
   "cell_type": "code",
   "execution_count": 11,
   "metadata": {
    "collapsed": false
   },
   "outputs": [
    {
     "name": "stdout",
     "output_type": "stream",
     "text": [
      "0.50\n"
     ]
    }
   ],
   "source": [
    "a = 0\n",
    "b = 1\n",
    "m = 1/2 *(a+b)\n",
    "print ('%.2f' %(m))\n",
    "\n",
    "#done"
   ]
  },
  {
   "cell_type": "markdown",
   "metadata": {},
   "source": [
    "**Question** -  If a continuous density that never touches the horizontal axis is symmetric about zero, can\n",
    "we say that its associated median is zero?"
   ]
  },
  {
   "cell_type": "markdown",
   "metadata": {
    "collapsed": true
   },
   "source": [
    "? Not sure what is meant by \"continuous density that never touches the horizontal axis\""
   ]
  },
  {
   "cell_type": "markdown",
   "metadata": {},
   "source": [
    "# Conditional Probability"
   ]
  },
  {
   "cell_type": "markdown",
   "metadata": {},
   "source": [
    "**Question** - I pull a card from a deck and do not show you the result. I say that the resulting card is a\n",
    "heart. What is the probability that it is the queen of hearts?"
   ]
  },
  {
   "cell_type": "markdown",
   "metadata": {},
   "source": [
    "**Answer** - "
   ]
  },
  {
   "cell_type": "code",
   "execution_count": 18,
   "metadata": {
    "collapsed": false
   },
   "outputs": [
    {
     "name": "stdout",
     "output_type": "stream",
     "text": [
      "0.07692307692307693\n"
     ]
    }
   ],
   "source": [
    "p_heart = 13 / 52\n",
    "p_queen = 4 / 52\n",
    "p_heart_and_queen = 1 / 52\n",
    "\n",
    "p_queen_given_heart = p_heart_and_queen / p_heart\n",
    "p_queen_given_heart\n",
    "\n",
    "#done"
   ]
  },
  {
   "cell_type": "markdown",
   "metadata": {},
   "source": [
    "**Question** - The odds associated with a probability, p, are defined as?"
   ]
  },
  {
   "cell_type": "markdown",
   "metadata": {
    "collapsed": true
   },
   "source": [
    "?"
   ]
  },
  {
   "cell_type": "markdown",
   "metadata": {},
   "source": [
    "**Question** - The probability of getting two sixes when rolling a pair of dice is?"
   ]
  },
  {
   "cell_type": "markdown",
   "metadata": {},
   "source": [
    "**Answer** - "
   ]
  },
  {
   "cell_type": "code",
   "execution_count": 23,
   "metadata": {
    "collapsed": false
   },
   "outputs": [
    {
     "data": {
      "text/plain": [
       "0.027777777777777776"
      ]
     },
     "execution_count": 23,
     "metadata": {},
     "output_type": "execute_result"
    }
   ],
   "source": [
    "p_6 = 1/6\n",
    "p_2of6 = p_6 * p_6\n",
    "p_2of6\n",
    "#done    "
   ]
  },
  {
   "cell_type": "markdown",
   "metadata": {},
   "source": [
    "**Question** - The probability that a manuscript gets accepted to a journal is 12% (say). However, given\n",
    "that a revision is asked for, the probability that it gets accepted is 90%. Is it possible that the\n",
    "probability that a manuscript has a revision asked for is 20%?"
   ]
  },
  {
   "cell_type": "markdown",
   "metadata": {},
   "source": [
    "**Answer** - "
   ]
  },
  {
   "cell_type": "code",
   "execution_count": 39,
   "metadata": {
    "collapsed": false
   },
   "outputs": [
    {
     "name": "stdout",
     "output_type": "stream",
     "text": [
      "it is my 13.33% against given 20%\n"
     ]
    }
   ],
   "source": [
    "# P(A given B) = P(A and B) / P(B)\n",
    "\n",
    "p_accept = .12\n",
    "p_accept_given_revision = .9\n",
    "p_revision = p_accept / p_accept_given_revision\n",
    "\n",
    "try:\n",
    "    assert (p_revision == .2)\n",
    "except AssertionError as e:\n",
    "    print ('It is my %.2f%% against given 20%%' % (p_revision*100))\n",
    "\n",
    "#done"
   ]
  },
  {
   "cell_type": "markdown",
   "metadata": {},
   "source": [
    "**Question** - Suppose 5% of housing projects have issues with asbestos. The sensitivity of a test for asbestos\n",
    "is 93% and the specificity is 88%. What is the probability that a housing project has no asbestos\n",
    "given a negative test expressed as a percentage to the nearest percentage point?"
   ]
  },
  {
   "cell_type": "markdown",
   "metadata": {},
   "source": [
    "**Answer** - "
   ]
  },
  {
   "cell_type": "code",
   "execution_count": 97,
   "metadata": {
    "collapsed": false
   },
   "outputs": [
    {
     "name": "stdout",
     "output_type": "stream",
     "text": [
      "99.58%\n"
     ]
    }
   ],
   "source": [
    "# Sensitivity (also called the true positive rate, the recall, or probability of detection in some fields) measures \n",
    "# the proportion of positives that are correctly identified as such (e.g., the percentage of sick people who are \n",
    "# correctly identified as having the condition).\n",
    "#\n",
    "# Specificity (also called the true negative rate) measures the proportion of negatives that are correctly identified \n",
    "# as such (e.g., the percentage of healthy people who are correctly identified as not having the condition).\n",
    "#\n",
    "\n",
    "p_no_neg = .95 * .88\n",
    "p_no_pos = .95 * .12\n",
    "p_yes_neg = .05 * .07\n",
    "p_yes_pos = .05 * .93\n",
    "\n",
    "#test \n",
    "s = p_no_neg + p_no_pos + p_yes_neg + p_yes_pos\n",
    "#print (s, p_no_neg, p_no_pos, p_yes_neg, p_yes_pos)\n",
    "\n",
    "p_no = 1 - .05\n",
    "p_neg_given_no = .88\n",
    "p_neg = p_no_neg + p_yes_neg\n",
    "\n",
    "p_no_given_neg = p_no * p_neg_given_no / p_neg\n",
    "\n",
    "print ('{:.2f}%'.format(p_no_given_neg*100))\n",
    "\n",
    "#done"
   ]
  },
  {
   "cell_type": "markdown",
   "metadata": {},
   "source": [
    "# Expected Values"
   ]
  },
  {
   "cell_type": "markdown",
   "metadata": {},
   "source": [
    "**Question** - A standard die takes the values 1, 2, 3, 4, 5, 6 with equal probability. What is the expected\n",
    "value?"
   ]
  },
  {
   "cell_type": "markdown",
   "metadata": {},
   "source": [
    "**Answer** - "
   ]
  },
  {
   "cell_type": "code",
   "execution_count": 75,
   "metadata": {
    "collapsed": false
   },
   "outputs": [
    {
     "data": {
      "text/plain": [
       "3.5"
      ]
     },
     "execution_count": 75,
     "metadata": {},
     "output_type": "execute_result"
    }
   ],
   "source": [
    "p_dice = 1/6\n",
    "EX_dice = 1*p_dice + 2*p_dice + 3*p_dice + 4*p_dice + 5*p_dice + 6*p_dice\n",
    "EX_dice\n",
    "#done"
   ]
  },
  {
   "cell_type": "markdown",
   "metadata": {},
   "source": [
    "**Question** - Consider a density that is uniform from -1 to 1. (I.e. has height equal to 1/2 and looks like a\n",
    "box starting at -1 and ending at 1). What is the mean of this distribution?"
   ]
  },
  {
   "cell_type": "markdown",
   "metadata": {},
   "source": [
    "**Answer** - "
   ]
  },
  {
   "cell_type": "code",
   "execution_count": 43,
   "metadata": {
    "collapsed": false
   },
   "outputs": [
    {
     "data": {
      "text/plain": [
       "0.0"
      ]
     },
     "execution_count": 43,
     "metadata": {},
     "output_type": "execute_result"
    }
   ],
   "source": [
    "m = 1/2 * ((-1) + 1)\n",
    "m\n",
    "#done"
   ]
  },
  {
   "cell_type": "markdown",
   "metadata": {},
   "source": [
    "**Question** - If a population has mean u, what is the mean of the distribution of averages of 20 observations\n",
    "from this distribution?"
   ]
  },
  {
   "cell_type": "markdown",
   "metadata": {
    "collapsed": true
   },
   "source": [
    "**Answer** - According to the Central Limit Theorem, the mean of the distribution would be the same as the mean of the population, i.e. u"
   ]
  },
  {
   "cell_type": "markdown",
   "metadata": {},
   "source": [
    "**Question** - You are playing a game with a friend where you flip a coin and if it comes up heads you give\n",
    "her X dollars and if it comes up tails she gives you $Y$ dollars. The odds that the coin is heads\n",
    "is d. What is your expected earnings?"
   ]
  },
  {
   "cell_type": "markdown",
   "metadata": {
    "collapsed": true
   },
   "source": [
    "**Answer** -  \n",
    "\n",
    "p_heads = d\n",
    "p_tails = 1 - d\n",
    "\n",
    "EX = X*(d) + Y(1-d)"
   ]
  },
  {
   "cell_type": "markdown",
   "metadata": {},
   "source": [
    "**Question** - If you roll ten standard dice, take their average, then repeat this process over and over and\n",
    "construct a histogram what would it be centered at?"
   ]
  },
  {
   "cell_type": "markdown",
   "metadata": {},
   "source": [
    "**Answer** - It would center around Expected Value, which is EX = 3.50"
   ]
  },
  {
   "cell_type": "code",
   "execution_count": 81,
   "metadata": {
    "collapsed": false
   },
   "outputs": [
    {
     "name": "stdout",
     "output_type": "stream",
     "text": [
      "Mean of randoms samples 3.48 centers around Expected Value EX = 3.50\n"
     ]
    },
    {
     "name": "stderr",
     "output_type": "stream",
     "text": [
      "/Users/yuliya/anaconda/lib/python3.5/site-packages/ipykernel/__main__.py:7: DeprecationWarning: This function is deprecated. Please call randint(1, 6 + 1) instead\n"
     ]
    },
    {
     "data": {
      "image/png": "[encoded data removed]",
      "text/plain": [
       "<matplotlib.figure.Figure at 0x1121a7fd0>"
      ]
     },
     "metadata": {},
     "output_type": "display_data"
    }
   ],
   "source": [
    "np.random.seed(200)\n",
    "\n",
    "dice = np.random.random_integers(1,6,(1000,10))\n",
    "plt.hist(dice.mean(axis=1), bins=20)\n",
    "\n",
    "print ('Mean of randoms samples %.2f centers around Expected Value EX = %.2f' % (dice.mean(axis=1).mean(), EX_dice))\n",
    "\n",
    "#done"
   ]
  },
  {
   "cell_type": "markdown",
   "metadata": {},
   "source": [
    "# Variation"
   ]
  },
  {
   "cell_type": "markdown",
   "metadata": {},
   "source": [
    "**Question** - If I have a random sample from a population, the sample variance is an estimate of?\n",
    "1. The population standard deviation.\n",
    "2. The population variance.\n",
    "3. The sample variance.\n",
    "4. The sample standard deviation."
   ]
  },
  {
   "cell_type": "markdown",
   "metadata": {
    "collapsed": true
   },
   "source": [
    "**Answer** - 2. The population variance.\n",
    "Sample code below demonstrates..."
   ]
  },
  {
   "cell_type": "code",
   "execution_count": 50,
   "metadata": {
    "collapsed": false
   },
   "outputs": [
    {
     "name": "stdout",
     "output_type": "stream",
     "text": [
      "5.00073928175 0.563241174293\n",
      "5.02456620177 0.567300013917\n"
     ]
    }
   ],
   "source": [
    "np.random.seed(1234)\n",
    "\n",
    "norm = stats.norm.rvs(loc=5, scale = .75, size=100000)\n",
    "sample = np.random.choice(norm, size=1000)\n",
    "print (norm.mean(), norm.var())\n",
    "print (sample.mean(), sample.var(ddof=1))\n",
    "\n",
    "#done"
   ]
  },
  {
   "cell_type": "markdown",
   "metadata": {},
   "source": [
    "**Question** - The distribution of the sample variance of a random sample from a population is centered at\n",
    "what?\n",
    "1. The population variance.\n",
    "2. The population mean."
   ]
  },
  {
   "cell_type": "markdown",
   "metadata": {
    "collapsed": true
   },
   "source": [
    "**Answer** - 1. The population variance. Sample code below demonstrates..."
   ]
  },
  {
   "cell_type": "code",
   "execution_count": 70,
   "metadata": {
    "collapsed": false
   },
   "outputs": [
    {
     "name": "stdout",
     "output_type": "stream",
     "text": [
      "5.00073928175 0.563241174293\n"
     ]
    },
    {
     "data": {
      "text/plain": [
       "(array([   2.,    8.,   16.,   23.,   31.,   63.,   65.,  109.,  117.,\n",
       "         128.,  117.,  107.,   75.,   50.,   43.,   15.,   15.,    7.,\n",
       "           5.,    4.]),\n",
       " array([ 4.93847032,  4.94519697,  4.95192362,  4.95865026,  4.96537691,\n",
       "         4.97210356,  4.97883021,  4.98555685,  4.9922835 ,  4.99901015,\n",
       "         5.0057368 ,  5.01246345,  5.01919009,  5.02591674,  5.03264339,\n",
       "         5.03937004,  5.04609668,  5.05282333,  5.05954998,  5.06627663,\n",
       "         5.07300327]),\n",
       " <a list of 20 Patch objects>)"
      ]
     },
     "execution_count": 70,
     "metadata": {},
     "output_type": "execute_result"
    },
    {
     "data": {
      "image/png": "[encoded data removed]",
      "text/plain": [
       "<matplotlib.figure.Figure at 0x111e79d68>"
      ]
     },
     "metadata": {},
     "output_type": "display_data"
    }
   ],
   "source": [
    "sample_distibution_mean = []\n",
    "sample_distibution_var = []\n",
    "\n",
    "n = 1000\n",
    "\n",
    "for i in range(0, n):\n",
    "    sample = np.random.choice(norm, size=1000, replace=False)\n",
    "    sample_distibution_mean.append(sample.mean())\n",
    "    sample_distibution_var.append(sample.var(ddof=1))\n",
    "    \n",
    "print (norm.mean(), norm.var())\n",
    "fig, axs = plt.subplots(2,1,figsize=(6,8))\n",
    "axs[0].hist(sample_distibution_var, bins=20, alpha=.5)\n",
    "axs[1].hist(sample_distibution_mean, bins=20, alpha=.5)\n",
    "\n",
    "#done"
   ]
  },
  {
   "cell_type": "markdown",
   "metadata": {},
   "source": [
    "**Question** - I keep drawing samples of size n from a population with variance \u001b2 and taking their average.\n",
    "I do this thousands of times. If I were to take the variance of the collection of averages, about\n",
    "what would it be?"
   ]
  },
  {
   "cell_type": "markdown",
   "metadata": {
    "collapsed": true
   },
   "source": [
    "**Answer** - Similarly to previous questions, the average of sample variances would be close to population variance, which is 2"
   ]
  },
  {
   "cell_type": "markdown",
   "metadata": {},
   "source": [
    "**Question** - You get a random sample of **n** observations from a population and take their average. You\n",
    "would like to estimate the variability of averages of **n** observations from this population\n",
    "to better understand how precise of an estimate it is. Do you need to repeated collect averages\n",
    "to do this?\n",
    "\n",
    "1. No, we can multiply our estimate of the population variance by 1/n to get a good estimate of the variability of the average.\n",
    "2. Yes, you have to get repeat averages."
   ]
  },
  {
   "cell_type": "code",
   "execution_count": null,
   "metadata": {
    "collapsed": true
   },
   "outputs": [],
   "source": []
  },
  {
   "cell_type": "markdown",
   "metadata": {},
   "source": [
    "**Question** - A random variable takes the value -4 with probability .2 and 1 with probability .8. What is\n",
    "the variance of this random variable?"
   ]
  },
  {
   "cell_type": "markdown",
   "metadata": {},
   "source": [
    "**Answer** - "
   ]
  },
  {
   "cell_type": "code",
   "execution_count": 74,
   "metadata": {
    "collapsed": false
   },
   "outputs": [
    {
     "name": "stdout",
     "output_type": "stream",
     "text": [
      "0.0 4.0 4.0\n"
     ]
    }
   ],
   "source": [
    "EX = .2*(-4) + .8*1\n",
    "EX_SQR = .2*((-4)**2) + .8*(1**2)\n",
    "VAR_X = EX_SQR - EX**2\n",
    "\n",
    "print(EX, EX_SQR, VAR_X)\n",
    "\n",
    "#done"
   ]
  },
  {
   "cell_type": "markdown",
   "metadata": {},
   "source": [
    "**Question** - Let X be a random variable having standard deviation \u001b. What can be said about the variance\n",
    "of X/\u001bo?"
   ]
  },
  {
   "cell_type": "markdown",
   "metadata": {
    "collapsed": true
   },
   "source": [
    "?"
   ]
  },
  {
   "cell_type": "markdown",
   "metadata": {},
   "source": [
    "**Question** - If you roll ten standard dice, take their average, then repeat this process over and over and\n",
    "construct a histogram, what would be its variance expressed to 3 decimal places?"
   ]
  },
  {
   "cell_type": "markdown",
   "metadata": {},
   "source": [
    "**Answer** - "
   ]
  },
  {
   "cell_type": "code",
   "execution_count": 87,
   "metadata": {
    "collapsed": false
   },
   "outputs": [
    {
     "name": "stdout",
     "output_type": "stream",
     "text": [
      "0.29166666666666663\n",
      "0.300448198198\n"
     ]
    }
   ],
   "source": [
    "n = 10\n",
    "EX_SQR_dice = 1/6*(1**2) + 1/6*(2**2) + 1/6*(3**2) + 1/6*(4**2) + 1/6*(5**2) + 1/6*(6**2)\n",
    "VAR_dice = (EX_SQR_dice - EX_dice**2) / n\n",
    "\n",
    "print (VAR_dice)\n",
    "print (dice.mean(axis=1).var(ddof=1))\n"
   ]
  },
  {
   "cell_type": "markdown",
   "metadata": {},
   "source": [
    "# Common Distributions"
   ]
  },
  {
   "cell_type": "markdown",
   "metadata": {},
   "source": [
    "**Question** -  Your friend claims that changing the font to comic sans will result in more ad revenue on your\n",
    "web sites. When presented in random order, 9 pages out of 10 had more revenue when the\n",
    "font was set to comic sans. If it was really a coin flip for these 10 sites, what’s the probability\n",
    "of getting 9 or 10 out of 10 with more revenue for the new font?"
   ]
  },
  {
   "cell_type": "markdown",
   "metadata": {},
   "source": [
    "**Answer** - "
   ]
  },
  {
   "cell_type": "code",
   "execution_count": 35,
   "metadata": {
    "collapsed": false
   },
   "outputs": [
    {
     "name": "stdout",
     "output_type": "stream",
     "text": [
      "0.0107421875\n",
      "0.0107421875\n"
     ]
    }
   ],
   "source": [
    "print (stats.binom.pmf(k=9, n=10, p=0.5) + stats.binom.pmf(k=10, n=10, p=0.5))\n",
    "# OR\n",
    "print (1 - stats.binom.cdf(k=8, n=10, p=0.5))\n",
    "\n",
    "#done"
   ]
  },
  {
   "cell_type": "markdown",
   "metadata": {},
   "source": [
    "**Question** - A software company is doing an analysis of documentation errors of their products. They sampled their very large codebase in chunks and found that the number of errors per chunk was approximately normally distributed with a mean of 11 errors and a standard deviation of 2. When randomly selecting a chunk from their codebase, whats the probability of fewer than 5 documentation errors?"
   ]
  },
  {
   "cell_type": "markdown",
   "metadata": {},
   "source": [
    "**Answer** - "
   ]
  },
  {
   "cell_type": "code",
   "execution_count": 102,
   "metadata": {
    "collapsed": false
   },
   "outputs": [
    {
     "data": {
      "text/plain": [
       "0.0013498980316300933"
      ]
     },
     "execution_count": 102,
     "metadata": {},
     "output_type": "execute_result"
    }
   ],
   "source": [
    "m = 11\n",
    "std = 2\n",
    "    \n",
    "stats.norm.cdf(x = 5, loc = m, scale=std) \n",
    "\n",
    "#done"
   ]
  },
  {
   "cell_type": "markdown",
   "metadata": {},
   "source": [
    "**Question** - The number of search entries entered at a web site is Poisson at a rate of 9 searches per minute.\n",
    "The site is monitored for 5 minutes. What is the probability of 40 or fewer searches in that\n",
    "time frame?"
   ]
  },
  {
   "cell_type": "markdown",
   "metadata": {},
   "source": [
    "**Answer** - "
   ]
  },
  {
   "cell_type": "code",
   "execution_count": 152,
   "metadata": {
    "collapsed": false
   },
   "outputs": [
    {
     "name": "stdout",
     "output_type": "stream",
     "text": [
      "25.55%\n"
     ]
    }
   ],
   "source": [
    "lam = 9\n",
    "t = 5\n",
    "p = stats.poisson.cdf(40, mu = lam*t)\n",
    "\n",
    "print ('{:.2f}%'.format(p*100))\n",
    "\n",
    "#def brute_force (x, lam, t):\n",
    "#    return math.exp(-lam*t) * (lam*t)**x / math.factorial(x)\n",
    "#\n",
    "#p_bf = 0\n",
    "#\n",
    "#for i in range (0, 41):\n",
    "#    p_bf += brute_force(i, lam ,t)\n",
    "#    \n",
    "#print (round(p_bf, 4) == round(p, 4)) \n",
    "\n",
    "#done"
   ]
  },
  {
   "cell_type": "markdown",
   "metadata": {},
   "source": [
    "**Question** - Suppose that the number of web hits to a particular site are approximately normally\n",
    "distributed with a mean of 100 hits per day and a standard deviation of 10 hits per day. What’s\n",
    "the probability that a given day has fewer than 93 hits per day expressed as a percentage to\n",
    "the nearest percentage point?"
   ]
  },
  {
   "cell_type": "markdown",
   "metadata": {},
   "source": [
    "**Answer** - "
   ]
  },
  {
   "cell_type": "code",
   "execution_count": 158,
   "metadata": {
    "collapsed": false
   },
   "outputs": [
    {
     "name": "stdout",
     "output_type": "stream",
     "text": [
      "24.20%\n"
     ]
    }
   ],
   "source": [
    "m = 100\n",
    "std = 10\n",
    "\n",
    "print ('{:.2f}%'.format(stats.norm.cdf(x=93, loc = m, scale = std)*100))\n",
    "\n",
    "#done"
   ]
  },
  {
   "cell_type": "markdown",
   "metadata": {},
   "source": [
    "**Question** - Suppose that the number of web hits to a particular site are approximately normally\n",
    "distributed with a mean of 100 hits per day and a standard deviation of 10 hits per day. What\n",
    "number of web hits per day represents the number so that only 5% of days have more hits?"
   ]
  },
  {
   "cell_type": "markdown",
   "metadata": {},
   "source": [
    "**Answer** - "
   ]
  },
  {
   "cell_type": "code",
   "execution_count": 168,
   "metadata": {
    "collapsed": false
   },
   "outputs": [
    {
     "name": "stdout",
     "output_type": "stream",
     "text": [
      "116\n"
     ]
    }
   ],
   "source": [
    "print ('{:d}'.format(int(stats.norm.ppf(q=.95, loc = m, scale = std))))\n",
    "\n",
    "#done"
   ]
  },
  {
   "cell_type": "markdown",
   "metadata": {},
   "source": [
    "**Question** - Suppose that the number of web hits to a particular site are approximately normally\n",
    "distributed with a mean of 100 hits per day and a standard deviation of 10 hits per day. Imagine\n",
    "taking a random sample of 50 days. What number of web hits would be the point so that only\n",
    "5% of averages of 50 days of web traffic have more hits?"
   ]
  },
  {
   "cell_type": "markdown",
   "metadata": {},
   "source": [
    "**Answer** - I can use standard error as a \"standard\" deviation\" in order to determine the average of 50 days after which point only 5% of averages will have more hits. "
   ]
  },
  {
   "cell_type": "code",
   "execution_count": 21,
   "metadata": {
    "collapsed": false
   },
   "outputs": [
    {
     "name": "stdout",
     "output_type": "stream",
     "text": [
      "102\n"
     ]
    }
   ],
   "source": [
    "m = 100\n",
    "sigma = 10\n",
    "n = 50\n",
    "\n",
    "print ('{:d}'.format(int(stats.norm.ppf(q=.95, loc = m, scale = sigma/math.sqrt(n)))))\n",
    "\n",
    "#done"
   ]
  },
  {
   "cell_type": "markdown",
   "metadata": {},
   "source": [
    "**Question** - You don’t believe that your friend can discern good wine from cheap. Assuming that you’re\n",
    "right, in a blind test where you randomize 6 paired varieties (Merlot, Chianti, …) of cheap and\n",
    "expensive wines. What is the change that she gets 5 or 6 right?"
   ]
  },
  {
   "cell_type": "markdown",
   "metadata": {},
   "source": [
    "**Answer** - "
   ]
  },
  {
   "cell_type": "code",
   "execution_count": 37,
   "metadata": {
    "collapsed": false
   },
   "outputs": [
    {
     "data": {
      "text/plain": [
       "0.109375"
      ]
     },
     "execution_count": 37,
     "metadata": {},
     "output_type": "execute_result"
    }
   ],
   "source": [
    "p = stats.binom.pmf(k=5, n=6, p=0.5) + stats.binom.pmf(k=6, n=6, p=0.5)\n",
    "# OR\n",
    "p = 1 - stats.binom.cdf(k=4, n=6, p=0.5)\n",
    "p\n",
    "\n",
    "#done"
   ]
  },
  {
   "cell_type": "markdown",
   "metadata": {},
   "source": [
    "**Question** - The number of web hits to a site is Poisson with mean 16.5 per day. What is the probability of\n",
    "getting 20 or fewer in 2 days?"
   ]
  },
  {
   "cell_type": "markdown",
   "metadata": {},
   "source": [
    "**Answer** - "
   ]
  },
  {
   "cell_type": "code",
   "execution_count": 173,
   "metadata": {
    "collapsed": false
   },
   "outputs": [
    {
     "name": "stdout",
     "output_type": "stream",
     "text": [
      "1.05%\n"
     ]
    }
   ],
   "source": [
    "lam = 16.5\n",
    "t = 2\n",
    "p = stats.poisson.cdf(20, mu = lam*t)\n",
    "\n",
    "print ('{:.2f}%'.format(p*100))\n",
    "#done"
   ]
  },
  {
   "cell_type": "markdown",
   "metadata": {},
   "source": [
    "# Asymptopia"
   ]
  },
  {
   "cell_type": "markdown",
   "metadata": {},
   "source": [
    "**Question** - I simulate 1,000,000 standard normals. The LLN says that their sample average must be close\n",
    "to?"
   ]
  },
  {
   "cell_type": "markdown",
   "metadata": {
    "collapsed": true
   },
   "source": [
    "**Answer** - It must be close to 0. Characteristics of standard normals are mean=0 and std=1. LLN says that as the number of experiments increases, the actual ratio of outcomes will converge to theoretical ratio of outcomes."
   ]
  },
  {
   "cell_type": "markdown",
   "metadata": {},
   "source": [
    "**Question** - About what is the probability of getting 45 or fewer heads out 100 flips of a fair coin? (Use the\n",
    "CLT, not the exact binomial calculation)."
   ]
  },
  {
   "cell_type": "markdown",
   "metadata": {},
   "source": [
    "**Answer** - "
   ]
  },
  {
   "cell_type": "code",
   "execution_count": 39,
   "metadata": {
    "collapsed": false
   },
   "outputs": [
    {
     "name": "stdout",
     "output_type": "stream",
     "text": [
      "-1.00 15.87%\n"
     ]
    }
   ],
   "source": [
    "# binomial distribution characteristics\n",
    "n = 100\n",
    "p = .5\n",
    "EX = n*p\n",
    "std = math.sqrt(n*p*(1-p))\n",
    "\n",
    "x45 = (45-EX)/std\n",
    "\n",
    "print ('{:.2f} {:.2f}%'.format(x45, stats.norm.cdf(x45)*100))\n",
    "\n",
    "#done"
   ]
  },
  {
   "cell_type": "markdown",
   "metadata": {},
   "source": [
    "**Question** - Consider the [Galton's Height Data](http://www.math.uah.edu/stat/data/Galton.html). Using the CLT and assuming that the fathers are a random sample from a population of interest, what is a 95% confidence mean height in inches?"
   ]
  },
  {
   "cell_type": "markdown",
   "metadata": {},
   "source": [
    "**Answer** - "
   ]
  },
  {
   "cell_type": "code",
   "execution_count": 10,
   "metadata": {
    "collapsed": false
   },
   "outputs": [
    {
     "name": "stdout",
     "output_type": "stream",
     "text": [
      "(68.983093395520399, 69.715383761840002)\n"
     ]
    }
   ],
   "source": [
    "df = pd.read_csv('Galton.csv')\n",
    "\n",
    "kid_height = df['Height']\n",
    "father_height = []\n",
    "mother_height = []\n",
    "\n",
    "for items in df.groupby(['Family','Father','Mother']).groups.keys():\n",
    "    father_height.append(items[1])\n",
    "    mother_height.append(items[2])\n",
    "\n",
    "population = np.append(kid_height, (father_height + mother_height))\n",
    "\n",
    "def get_interval (sample):\n",
    "    sample_mean = np.mean(sample)\n",
    "    sample_n = len(sample)\n",
    "    sample_variance = np.var(sample, ddof=1) / sample_n\n",
    "    standard_error = math.sqrt(sample_variance)\n",
    "\n",
    "    z_score = stats.norm.ppf(.975)\n",
    "    margin_of_error = z_score * standard_error\n",
    "\n",
    "    interval_lower = sample_mean - margin_of_error\n",
    "    interval_upper = sample_mean + margin_of_error\n",
    "    return interval_lower, interval_upper\n",
    "\n",
    "print (get_interval(father_height))\n",
    "\n",
    "#test\n",
    "#print (get_interval(mother_height))\n",
    "#print (get_interval(np.random.choice(kid_height, size=100, replace=False)))\n",
    "#print (get_interval(np.random.choice(population, size=100, replace=False)))\n",
    "#print (get_interval(np.random.choice(mother_height+father_height, size=100, replace=False)))\n",
    "\n",
    "#done"
   ]
  },
  {
   "cell_type": "markdown",
   "metadata": {},
   "source": [
    "**Question** - The goal of a a confidence interval having coverage 95% is to imply that:\n",
    "1. If one were to repeated collect samples and reconstruct the intervals, around 95% percent\n",
    "of them would contain the true mean being estimated.\n",
    "2. The probability that the sample mean is in the interval is 95%."
   ]
  },
  {
   "cell_type": "markdown",
   "metadata": {
    "collapsed": true
   },
   "source": [
    "**Answer** - 1. If one were to repeated collect samples and reconstruct the intervals, around 95% percent\n",
    "of them would contain the true mean being estimated.\n",
    "\n",
    "To paraphrase:\n",
    "It means that if the same population is sampled on numerous occasions and interval estimates are made on each occasion, the resulting intervals would bracket the true population parameter in approximately <confidense level> of the cases"
   ]
  },
  {
   "cell_type": "markdown",
   "metadata": {},
   "source": [
    "**Question** - The rate of search entries into a web site was 10 per minute when monitoring for an hour. Use\n",
    "Python to calculate the exact Poisson interval for the rate of events per minute?"
   ]
  },
  {
   "cell_type": "markdown",
   "metadata": {},
   "source": [
    "**Answer** - "
   ]
  },
  {
   "cell_type": "code",
   "execution_count": 8,
   "metadata": {
    "collapsed": false
   },
   "outputs": [
    {
     "data": {
      "text/plain": [
       "(4.0, 17.0)"
      ]
     },
     "execution_count": 8,
     "metadata": {},
     "output_type": "execute_result"
    }
   ],
   "source": [
    "lam = 10 # number of events per unit\n",
    "t = 1    # because we need interval of rate of events per minute\n",
    "\n",
    "stats.poisson.interval(alpha = .95, mu = lam*t)\n",
    "\n",
    "#done"
   ]
  },
  {
   "cell_type": "markdown",
   "metadata": {},
   "source": [
    "**Question** - Consider a uniform distribution. If we were to sample 100 draws from a a uniform distribution\n",
    "(which has mean 0.5, and variance 1/12) and take their mean, $\\bar{X}$. What is the approximate\n",
    "probability of getting as large as 0.51 or larger?"
   ]
  },
  {
   "cell_type": "code",
   "execution_count": 15,
   "metadata": {
    "collapsed": false
   },
   "outputs": [
    {
     "data": {
      "text/plain": [
       "0.36451724476940184"
      ]
     },
     "execution_count": 15,
     "metadata": {},
     "output_type": "execute_result"
    }
   ],
   "source": [
    "sample_n = 100\n",
    "m = .5\n",
    "var = 1/12\n",
    "\n",
    "x = .51\n",
    "\n",
    "sample_variance = var / sample_n\n",
    "standard_error = math.sqrt(sample_variance)\n",
    "\n",
    "z_score = (x - m) / standard_error\n",
    "p = 1 - stats.norm.cdf(z_score)\n",
    "p\n",
    "\n",
    "#done"
   ]
  },
  {
   "cell_type": "markdown",
   "metadata": {},
   "source": [
    "# t Confidence Intervals"
   ]
  },
  {
   "cell_type": "markdown",
   "metadata": {},
   "source": [
    "For iid Gaussian data, the statistic $\\frac{\\bar X - \\mu}{s / \\sqrt{n}}$ must follow a:\n",
    "1. Z distribution\n",
    "2. t distribution"
   ]
  },
  {
   "cell_type": "markdown",
   "metadata": {
    "collapsed": true
   },
   "source": [
    "**Answer** - 2. t distribution\n",
    "\n",
    "PS: what's iid?"
   ]
  },
  {
   "cell_type": "markdown",
   "metadata": {},
   "source": [
    "**Question** - Paired differences T confidence intervals are useful when:\n",
    "1. Pairs of observations are linked, such as when there is subject level matching or in a\n",
    "study with baseline and follow up measurements on all participants.\n",
    "2. When there was randomization of a treatment between two independent groups.\n",
    "\n"
   ]
  },
  {
   "cell_type": "markdown",
   "metadata": {
    "collapsed": true
   },
   "source": [
    "**Answer** - 1. Pairs of observations are linked, such as when there is subject level matching or in a\n",
    "study with baseline and follow up measurements on all participants.\n",
    "\n",
    "To paraphrase: when each value in one group corresponds directly to a value in the other group."
   ]
  },
  {
   "cell_type": "markdown",
   "metadata": {},
   "source": [
    "**Question** - The assumption that the variances are equal for the independent group T interval means that:\n",
    "1. The sample variances have to be nearly identical.\n",
    "2. The population variances are identical, but the sample variances may be different."
   ]
  },
  {
   "cell_type": "markdown",
   "metadata": {
    "collapsed": true
   },
   "source": [
    "**Answer** - 1. The sample variances have to be nearly identical.\n",
    "\n",
    "Source: https://onlinecourses.science.psu.edu/stat500/node/50"
   ]
  },
  {
   "cell_type": "markdown",
   "metadata": {},
   "source": [
    "**Question** - Load the data set mtcars in the from the ggplot module. Calculate a 95% confidence interval to\n",
    "the nearest MPG for the variable mpg."
   ]
  },
  {
   "cell_type": "code",
   "execution_count": 44,
   "metadata": {
    "collapsed": false
   },
   "outputs": [
    {
     "name": "stdout",
     "output_type": "stream",
     "text": [
      "18.2907649073 49.480437743\n",
      "0.459927654962 3.365835252\n"
     ]
    }
   ],
   "source": [
    "df = pd.read_csv('mtcars.csv')\n",
    "df.head()\n",
    "\n",
    "m = df['mpg'].mean()\n",
    "sample_n = len(df)\n",
    "\n",
    "sample_var = df['mpg'].var(ddof=1)\n",
    "alpha = 1 - .95\n",
    "degree_of_freedom = sample_n -1\n",
    "\n",
    "left_value = 1 - alpha/2\n",
    "right_value = alpha/2\n",
    "\n",
    "print (left_critical_value, right_critical_value) \n",
    "\n",
    "left_critical_value = stats.chi2.isf(left_value , 32)\n",
    "right_critical_value = stats.chi2.isf(right_value , 32)\n",
    "\n",
    "lower_bound = degree_of_freedom * sample_var / (right_critical_value**2)\n",
    "upper_bound = degree_of_freedom * sample_var / (left_critical_value**2)\n",
    "\n",
    "print (lower_bound, upper_bound)\n"
   ]
  },
  {
   "cell_type": "markdown",
   "metadata": {},
   "source": [
    "**Question** - Suppose that standard deviation of 9 paired differences is $1$. What value would the average\n",
    "difference have to be so that the lower endpoint of a 95% students t confidence interval touches\n",
    "zero?"
   ]
  },
  {
   "cell_type": "code",
   "execution_count": null,
   "metadata": {
    "collapsed": true
   },
   "outputs": [],
   "source": []
  },
  {
   "cell_type": "markdown",
   "metadata": {},
   "source": [
    "**Question** - An independent group Student’s T interval is used instead of a paired T interval when:\n",
    "1. The observations are paired between the groups.\n",
    "2. The observations between the groups are naturally assumed to be statistically independent.\n",
    "3. As long as you do it correctly, either is fine.\n",
    "4. More details are needed to answer this question."
   ]
  },
  {
   "cell_type": "code",
   "execution_count": null,
   "metadata": {
    "collapsed": true
   },
   "outputs": [],
   "source": []
  },
  {
   "cell_type": "markdown",
   "metadata": {},
   "source": [
    "**Question** - Consider the mtcars dataset. Construct a 95% T interval for MPG comparing 4 to 6 cylinder\n",
    "cars (subtracting in the order of 4 - 6) assume a constant variance."
   ]
  },
  {
   "cell_type": "code",
   "execution_count": null,
   "metadata": {
    "collapsed": true
   },
   "outputs": [],
   "source": []
  },
  {
   "cell_type": "markdown",
   "metadata": {},
   "source": [
    "**Question** - If someone put a gun to your head and said “Your confidence interval must contain what it’s\n",
    "estimating or I’ll pull the trigger”, what would be the smart thing to do?\n",
    "1. Make your interval as wide as possible.\n",
    "2. Make your interval as small as possible.\n",
    "3. Call the authorities. "
   ]
  },
  {
   "cell_type": "code",
   "execution_count": null,
   "metadata": {
    "collapsed": true
   },
   "outputs": [],
   "source": []
  },
  {
   "cell_type": "markdown",
   "metadata": {},
   "source": [
    "**Question** - Refer back to comparing MPG for 4 versus 6 cylinders. What do you conclude?\n",
    "1. The interval is above zero, suggesting 6 is better than 4 in the terms of MPG.\n",
    "2. The interval is above zero, suggesting 4 is better than 6 in the terms of MPG.\n",
    "3. The interval does not tell you anything about the hypothesis test; you have to do the\n",
    "test.\n",
    "4. The interval contains 0 suggesting no difference.\n",
    "\n"
   ]
  },
  {
   "cell_type": "code",
   "execution_count": null,
   "metadata": {
    "collapsed": true
   },
   "outputs": [],
   "source": []
  },
  {
   "cell_type": "markdown",
   "metadata": {},
   "source": [
    "**Question** - Suppose that 18 obese subjects were randomized, 9 each, to a new diet pill and a placebo.\n",
    "Subjects’ body mass indices (BMIs) were measured at a baseline and again after having\n",
    "received the treatment or placebo for four weeks. The average difference from follow-up to\n",
    "the baseline (follow-up - baseline) was 3 kg/m^2 for the treated group and 1 kg/m^2 for the\n",
    "placebo group. The corresponding standard deviations of the differences was 1.5 kg/m^2 for\n",
    "the treatment group and 1.8 kg/m^2 for the placebo group. The study aims to answer whether\n",
    "the change in BMI over the four week period appear to differ between the treated and placebo\n",
    "groups. What is the pooled variance estimate? "
   ]
  },
  {
   "cell_type": "code",
   "execution_count": null,
   "metadata": {
    "collapsed": true
   },
   "outputs": [],
   "source": []
  },
  {
   "cell_type": "markdown",
   "metadata": {},
   "source": [
    "# Hypothesis Testing"
   ]
  },
  {
   "cell_type": "markdown",
   "metadata": {},
   "source": [
    "**Question** - Which hypothesis is typically assumed to be true in hypothesis testing?\n",
    "1. The null.\n",
    "2. The alternative."
   ]
  },
  {
   "cell_type": "markdown",
   "metadata": {
    "collapsed": true
   },
   "source": [
    "**Answer** - 1. The null."
   ]
  },
  {
   "cell_type": "markdown",
   "metadata": {},
   "source": [
    "**Question** - The type I error rate controls what?"
   ]
  },
  {
   "cell_type": "markdown",
   "metadata": {
    "collapsed": true
   },
   "source": [
    "**Answer** - The type I error rate is a probability of rejecting null hypothesis given that it's true."
   ]
  },
  {
   "cell_type": "markdown",
   "metadata": {},
   "source": [
    "**Question** - Load the data set `mtcars` in the ggplot module. Assume that the data set mtcars is a\n",
    "random sample. Compute the mean MPG, $\\bar{x}$; of this sample. You want to test whether the true\n",
    "MPG is $\\mu_0 $ or smaller using a one sided 5% level test. (H0 : $\\mu$ = $\\mu_0 $ versus $H_a $ : $\\mu$ < $\\mu_0 $).\n",
    "Using that data set and a Z test: Based on the mean MPG of the sample $\\bar{x}$; and by using a Z\n",
    "test: what is the smallest value of $\\mu_0 $ that you would reject for (to two decimal places)?"
   ]
  },
  {
   "cell_type": "code",
   "execution_count": null,
   "metadata": {
    "collapsed": true
   },
   "outputs": [],
   "source": []
  },
  {
   "cell_type": "markdown",
   "metadata": {},
   "source": [
    "**Question** - Consider again the `mtcars` dataset. Use a two group t-test to test the hypothesis that the 4 and\n",
    "6 cyl cars have the same mpg. Use a two sided test with unequal variances. Do you reject?"
   ]
  },
  {
   "cell_type": "code",
   "execution_count": null,
   "metadata": {
    "collapsed": true
   },
   "outputs": [],
   "source": []
  },
  {
   "cell_type": "markdown",
   "metadata": {},
   "source": [
    "**Question** - A sample of 100 men yielded an average [PSA](https://www.cancer.gov/types/prostate/psa-fact-sheet) level of 3.0 with a sd of 1.1. What are the complete set of values that a 5% two sided Z test of $H_0: \\mu = \\mu_0$ would fail to reject the null hypothesis for? "
   ]
  },
  {
   "cell_type": "code",
   "execution_count": null,
   "metadata": {
    "collapsed": true
   },
   "outputs": [],
   "source": []
  },
  {
   "cell_type": "markdown",
   "metadata": {},
   "source": [
    "**Question** - You believe the coin that you’re flipping is biased towards heads. You get 55 heads out of 100\n",
    "flips. Do you reject at the 5% level that the coin is fair?"
   ]
  },
  {
   "cell_type": "code",
   "execution_count": null,
   "metadata": {
    "collapsed": true
   },
   "outputs": [],
   "source": []
  },
  {
   "cell_type": "markdown",
   "metadata": {},
   "source": [
    "**Question** - Suppose that in an AB test, one advertising scheme led to an average of 10 purchases per day\n",
    "for a sample of 100 days, while the other led to 11 purchases per day, also for a sample of\n",
    "100 days. Assuming a common standard deviation of 4 purchases per day. Assuming that the\n",
    "groups are independent and that they days are iid, perform a Z test of equivalence. Do you\n",
    "reject at the 5% level? "
   ]
  },
  {
   "cell_type": "code",
   "execution_count": null,
   "metadata": {
    "collapsed": true
   },
   "outputs": [],
   "source": []
  },
  {
   "cell_type": "markdown",
   "metadata": {},
   "source": [
    "**Question** - A confidence interval for the mean contains:\n",
    "1. All of the values of the hypothesized mean for which we would fail to reject with alpha = 1 - Confidence Interval.\n",
    "\n",
    "2. All of the values of the hypothesized mean for which we would fail to reject with 2 * alpha = 1 - Confidence Interval.\n",
    "\n",
    "3. All of the values of the hypothesized mean for which we would reject with alpha = 1 - Confidence Interval.\n",
    "\n",
    "4. All of the values of the hypothesized mean for which we would reject with 2 * alpha = 1 - Confidence Interval.\n"
   ]
  },
  {
   "cell_type": "code",
   "execution_count": null,
   "metadata": {
    "collapsed": true
   },
   "outputs": [],
   "source": []
  },
  {
   "cell_type": "markdown",
   "metadata": {},
   "source": [
    "**Question** - In a court of law, all things being equal, if via policy you require a lower standard of evidence\n",
    "to convict people then\n",
    "1 Less guilty people will be convicted.\n",
    "2. More innocent people will be convicted.\n",
    "3. More Innocent people will be not convicted."
   ]
  },
  {
   "cell_type": "code",
   "execution_count": null,
   "metadata": {
    "collapsed": true
   },
   "outputs": [],
   "source": []
  },
  {
   "cell_type": "markdown",
   "metadata": {},
   "source": [
    "# P-values"
   ]
  },
  {
   "cell_type": "markdown",
   "metadata": {},
   "source": [
    "**Question** - P-values are probabilities that are calculated assuming which hypothesis is true?\n",
    "1. the alternative\n",
    "2. the null"
   ]
  },
  {
   "cell_type": "code",
   "execution_count": null,
   "metadata": {
    "collapsed": true
   },
   "outputs": [],
   "source": []
  },
  {
   "cell_type": "markdown",
   "metadata": {},
   "source": [
    "**Question** - You get a P-value of 0.06. Would you reject for a type I error rate of 0.05?\n",
    "1. Yes you would reject the null\n",
    "2. No you would not reject the null\n",
    "3. It depends on information not given"
   ]
  },
  {
   "cell_type": "code",
   "execution_count": null,
   "metadata": {
    "collapsed": true
   },
   "outputs": [],
   "source": []
  },
  {
   "cell_type": "markdown",
   "metadata": {},
   "source": [
    "**Question** - The proposed procedure for getting a two sided P-value for the exact binomial test considered\n",
    "here is what?\n",
    "1. Multiplying the one sided P-value by one half\n",
    "2. Doubling the larger of the two one sided P-values\n",
    "3. Doubling the smaller of the two one sided P-values\n",
    "4. No procedure exists"
   ]
  },
  {
   "cell_type": "code",
   "execution_count": null,
   "metadata": {
    "collapsed": true
   },
   "outputs": [],
   "source": []
  },
  {
   "cell_type": "markdown",
   "metadata": {},
   "source": [
    "**Question** - Consider again the `mtcars` dataset. Use a two group t-test to test the hypothesis that the 4 and\n",
    "6 cyl cars have the same mpg. Use a two sided test with unequal variances. Give a P-value."
   ]
  },
  {
   "cell_type": "code",
   "execution_count": null,
   "metadata": {
    "collapsed": true
   },
   "outputs": [],
   "source": []
  },
  {
   "cell_type": "markdown",
   "metadata": {},
   "source": [
    "Since the p-value is less than 0.05, the null hypothesis can be rejected."
   ]
  },
  {
   "cell_type": "markdown",
   "metadata": {},
   "source": [
    "**Question** - You believe the coin that you’re flipping is biased towards heads. You get 55 heads out of 100\n",
    "flips. Give an exact P-value for the hypothesis that the coin is fair."
   ]
  },
  {
   "cell_type": "code",
   "execution_count": null,
   "metadata": {
    "collapsed": true
   },
   "outputs": [],
   "source": []
  },
  {
   "cell_type": "markdown",
   "metadata": {},
   "source": [
    "**Question** - A web site was monitored for a year and it received 520 hits per day. In the first 30 days in the\n",
    "next year, the site received 15,800 hits. Assuming that web hits are Poisson. Give an exact one\n",
    "sided P-value to the hypothesis that web hits are up this year over last. Do you reject? "
   ]
  },
  {
   "cell_type": "code",
   "execution_count": null,
   "metadata": {
    "collapsed": true
   },
   "outputs": [],
   "source": []
  },
  {
   "cell_type": "markdown",
   "metadata": {},
   "source": [
    "**Question** - Suppose that in an AB test, one advertising scheme led to an average of 10 purchases per day\n",
    "for a sample of 100 days, while the other led to 11 purchases per day, also for a sample of\n",
    "100 days. Assuming a common standard deviation of 4 purchases per day. Assuming that the\n",
    "groups are independent and that they days are iid, perform a Z test of equivalence. Give a\n",
    "P-value for the test? "
   ]
  },
  {
   "cell_type": "code",
   "execution_count": null,
   "metadata": {
    "collapsed": true
   },
   "outputs": [],
   "source": []
  },
  {
   "cell_type": "markdown",
   "metadata": {},
   "source": [
    "**Question** - Consider the `mtcars` data set.\n",
    "1. Give the p-value for a t-test comparing MPG for 6 and 8 cylinder cars assuming equal\n",
    "variance, as a proportion to 3 decimal places.\n",
    "2. Give the associated P-value for a z test.\n",
    "3. Give the common standard deviation estimate for MPG across cylinders to 3 decimal\n",
    "places.\n",
    "4. Would the t test reject at the two sided 0.05 level (0 for no 1 for yes)?"
   ]
  },
  {
   "cell_type": "code",
   "execution_count": null,
   "metadata": {
    "collapsed": true
   },
   "outputs": [],
   "source": []
  },
  {
   "cell_type": "markdown",
   "metadata": {},
   "source": [
    "# Power"
   ]
  },
  {
   "cell_type": "markdown",
   "metadata": {},
   "source": [
    "** Question ** - Power is a probability calculation assuming which is true:\n",
    "1. The null hypothesis\n",
    "2. The alternative hypothesis\n",
    "3. Both the null and alternative"
   ]
  },
  {
   "cell_type": "code",
   "execution_count": null,
   "metadata": {
    "collapsed": true
   },
   "outputs": [],
   "source": []
  },
  {
   "cell_type": "markdown",
   "metadata": {},
   "source": [
    "** Question ** - As your sample size gets bigger, all else equal, what do you think would happen to power?\n",
    "\n",
    "1. It would get larger\n",
    "2. It would get smaller\n",
    "3. It would stay the same\n",
    "4. It cannot be determined from the information given"
   ]
  },
  {
   "cell_type": "code",
   "execution_count": null,
   "metadata": {
    "collapsed": true
   },
   "outputs": [],
   "source": []
  },
  {
   "cell_type": "markdown",
   "metadata": {},
   "source": [
    "** Question ** - What happens to power as $\\mu_a$ gets further from $\\mu_0$?\n",
    "1. Power decreases\n",
    "2. Power increases\n",
    "3. Power stays the same\n",
    "4. Power oscillates"
   ]
  },
  {
   "cell_type": "code",
   "execution_count": null,
   "metadata": {
    "collapsed": true
   },
   "outputs": [],
   "source": []
  },
  {
   "cell_type": "markdown",
   "metadata": {},
   "source": [
    "** Question ** - In the context of calculating power, the effect size is?\n",
    "1. The null mean divided by the standard deviation\n",
    "2. The alternative mean divided by the standard error\n",
    "3. The difference between the null and alternative means divided by the standard deviation\n",
    "4. The standard error divided by the null mean"
   ]
  },
  {
   "cell_type": "code",
   "execution_count": null,
   "metadata": {
    "collapsed": true
   },
   "outputs": [],
   "source": []
  },
  {
   "cell_type": "markdown",
   "metadata": {},
   "source": [
    "** Question ** - Recall this problem “Suppose that in an AB test, one advertising scheme led to an average of 10 purchases per day for a sample of 100 days, while the other led to 11 purchases per day, also for a sample of 100 days. Assuming a common standard deviation of 4 purchases per day.” Assuming that 10 purchases per day is a benchmark null value, that days are iid and that the standard deviation is 4 purchases for day. Suppose that you plan on sampling 100 days. What would be the power for a one sided 5% Z mean test that purchases per day have increased under the alternative of $\\mu = 11$ purchase per day?"
   ]
  },
  {
   "cell_type": "code",
   "execution_count": null,
   "metadata": {
    "collapsed": true
   },
   "outputs": [],
   "source": []
  },
  {
   "cell_type": "markdown",
   "metadata": {},
   "source": [
    "** Question ** - Researchers would like to conduct a study of healthy adults to detect a four year mean brain volume loss of .01 mm3. Assume that the standard deviation of four year volume loss in this population is .04 $mm^3$. What is necessary sample size for the study for a 5% one sided test versus a null hypothesis of no volume loss to achieve 80% power?"
   ]
  },
  {
   "cell_type": "code",
   "execution_count": null,
   "metadata": {
    "collapsed": true
   },
   "outputs": [],
   "source": []
  },
  {
   "cell_type": "markdown",
   "metadata": {},
   "source": [
    "# The bootstrap and resampling"
   ]
  },
  {
   "cell_type": "markdown",
   "metadata": {},
   "source": [
    "** Question ** - The bootstrap uses what to estimate the sampling distribution of a statistic?\n",
    "1. The true population distribution\n",
    "2. The empirical distribution that puts probability 1/n for each observed data point\n"
   ]
  },
  {
   "cell_type": "code",
   "execution_count": null,
   "metadata": {
    "collapsed": true
   },
   "outputs": [],
   "source": []
  },
  {
   "cell_type": "markdown",
   "metadata": {},
   "source": [
    "** Question ** - When performing the bootstrap via Monte Carlo resampling for a data set of size n which is true? Assume that you’re going to do 10,000 bootstrap resamples?\n",
    "1. You sample n complete data sets of size 10,000 with replacement\n",
    "2. You sample 10,000 complete data sets of size n without replacement\n",
    "3. You sample 10,000 complete data sets of size n with replacement\n",
    "4. You sample n complete data sets of size 10,000 without replacement"
   ]
  },
  {
   "cell_type": "code",
   "execution_count": null,
   "metadata": {
    "collapsed": true
   },
   "outputs": [],
   "source": []
  },
  {
   "cell_type": "markdown",
   "metadata": {},
   "source": [
    "** Question ** - Permutation tests do what?\n",
    "1. Creates a null distribution for a hypothesis test by permuting a predictor variable.\n",
    "2. Creates a null distribution by resampling from the response with replacement.\n",
    "3. Creates an alternative distribution by permuting group labels.\n",
    "4. Creates confidence intervals by resampling with replacement."
   ]
  },
  {
   "cell_type": "code",
   "execution_count": null,
   "metadata": {
    "collapsed": true
   },
   "outputs": [],
   "source": []
  }
 ],
 "metadata": {
  "anaconda-cloud": {},
  "kernelspec": {
   "display_name": "Python [default]",
   "language": "python",
   "name": "python3"
  },
  "language_info": {
   "codemirror_mode": {
    "name": "ipython",
    "version": 3
   },
   "file_extension": ".py",
   "mimetype": "text/x-python",
   "name": "python",
   "nbconvert_exporter": "python",
   "pygments_lexer": "ipython3",
   "version": "3.5.2"
  }
 },
 "nbformat": 4,
 "nbformat_minor": 1
}
