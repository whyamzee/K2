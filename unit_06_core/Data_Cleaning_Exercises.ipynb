{
 "cells": [
  {
   "cell_type": "code",
   "execution_count": 85,
   "metadata": {
    "collapsed": false,
    "scrolled": true
   },
   "outputs": [],
   "source": [
    "import collections\n",
    "import sqlite3\n",
    "import json\n",
    "from datetime import datetime, timedelta\n",
    "import re\n",
    "import pandas as pd\n",
    "\n",
    "business_json_file = '../data/unit_06/yelp/yelp_academic_dataset_business.json'\n",
    "review_json_files = ['../data/unit_06/yelp/yelp_academic_dataset_reviewaa',\n",
    "                    '../data/unit_06/yelp/yelp_academic_dataset_reviewab',\n",
    "                    '../data/unit_06/yelp/yelp_academic_dataset_reviewac']"
   ]
  },
  {
   "cell_type": "markdown",
   "metadata": {},
   "source": [
    "**read_json_file:** Generic function that reads a json file and returns a list of lists"
   ]
  },
  {
   "cell_type": "code",
   "execution_count": 39,
   "metadata": {
    "collapsed": false
   },
   "outputs": [],
   "source": [
    "def read_json_file(file_name):\n",
    "    json_data = []\n",
    "    with open(file_name,'r', encoding='utf-8') as f:\n",
    "        data = f.read()\n",
    "        for line in data.split('\\n')[:-1]:\n",
    "            json_data.append(json.loads(line))\n",
    "    print('done reading file...')\n",
    "    return json_data"
   ]
  },
  {
   "cell_type": "markdown",
   "metadata": {},
   "source": [
    "**read_review_json_file:** function that reads just *business_id* and *stars* from yelp review json file and returns a list of lists. Also for MacOS had to split original file because of this bug: https://bugs.python.org/issue24658\n",
    "Used this command to split the original file:\n",
    "\n",
    "     split -l 1000000 yelp_academic_dataset_review.json yelp_academic_dataset_review"
   ]
  },
  {
   "cell_type": "code",
   "execution_count": 82,
   "metadata": {
    "collapsed": true
   },
   "outputs": [],
   "source": [
    "def read_review_json_file(file_names):\n",
    "    json_data = []\n",
    "    for file_name in file_names:\n",
    "        with open(file_name,'r', encoding='utf-8') as f:\n",
    "            data = f.read()\n",
    "            for line in data.split('\\n')[:-1]:\n",
    "                json_data.append({k: v for k, v in json.loads(line).items() if k in ['business_id','stars']})\n",
    "    print('done reading review file...')\n",
    "    return json_data"
   ]
  },
  {
   "cell_type": "markdown",
   "metadata": {},
   "source": [
    "**cleanup_string:** takes string as a parameter and replaces characters ' ()&,-/\\'' or a cluster thereof with a single underscore ('_')"
   ]
  },
  {
   "cell_type": "code",
   "execution_count": 41,
   "metadata": {
    "collapsed": true
   },
   "outputs": [],
   "source": [
    "def cleanup_string(input_str): \n",
    "    output = ''\n",
    "    special = ' ()&,-/\\''\n",
    "    replaced = False\n",
    "    for letter in input_str:\n",
    "        if letter not in special:\n",
    "            output += letter\n",
    "            replaced = False\n",
    "        else:\n",
    "            if not replaced:\n",
    "                output += '_'\n",
    "                replaced = True\n",
    "    return output.strip('_')"
   ]
  },
  {
   "cell_type": "markdown",
   "metadata": {},
   "source": [
    "**flatten_hours:**\n",
    "takes \"hours\" nested dictionary as a parameter, such as\n",
    "\n",
    "    {\"Friday\": {\"close\": \"21:00\", \"open\": \"11:00\"}, \n",
    "    \"Tuesday\": {\"close\": \"21:00\", \"open\": \"11:00\"}, \n",
    "    \"Thursday\": {\"close\": \"21:00\", \"open\": \"11:00\"}, \n",
    "    \"Wednesday\": {\"close\": \"21:00\", \"open\": \"11:00\"}, \n",
    "    \"Monday\": {\"close\": \"21:00\", \"open\": \"11:00\"}}\n",
    "\n",
    "and converts it into a flattened set of key / value pairs like this:\n",
    "\n",
    "    {'Friday_hours': '11:00 - 21:00', \n",
    "    'Tuesday_hours': '11:00 - 21:00', \n",
    "    'Thursday_hours': '11:00 - 21:00', \n",
    "    'Wednesday_hours': '11:00 - 21:00', \n",
    "    'Monday_hours': '11:00 - 21:00'}\n"
   ]
  },
  {
   "cell_type": "code",
   "execution_count": 42,
   "metadata": {
    "collapsed": true
   },
   "outputs": [],
   "source": [
    "def flatten_hours (hours):\n",
    "    flatten = {k+'_hours': v['open']+ ' - ' + v['close'] for k, v in hours.items()}\n",
    "    return flatten"
   ]
  },
  {
   "cell_type": "markdown",
   "metadata": {},
   "source": [
    "**flatten_list:**\n",
    "takes a list as a parameters and converts it into a dictionary with list item as key value being 1.\n",
    "Example:\n",
    "\n",
    "    input: ['Fast Food', 'Restaurants']\n",
    "    output : {'Fast_Food': 1, 'Restaurants': 1}\n",
    "\n",
    "When optional key prefix is provided, then prefix is appended at the beginning of the key.\n",
    "Example:\n",
    "\n",
    "    input: ['Fast Food', 'Restaurants']. 'Category'\n",
    "    output : {'Category_Fast_Food': 1, 'Category_Restaurants': 1}\n",
    "*cleanup_string* function applied to a key."
   ]
  },
  {
   "cell_type": "code",
   "execution_count": 43,
   "metadata": {
    "collapsed": true
   },
   "outputs": [],
   "source": [
    "def flatten_list (source_list, key_prefix=''):\n",
    "    flatten = {cleanup_string(key_prefix+' '+item): 1 for item in source_list}\n",
    "    return flatten"
   ]
  },
  {
   "cell_type": "markdown",
   "metadata": {},
   "source": [
    "**flatten_dict:**\n",
    "Takes a dictionary as a parameters and converts it into another dictionary with binary values.\n",
    "1. True/False values are converted to 1/0 respectively\n",
    "2. When value is other than True/False, then value is appended to a key and value of a new key becomes 1\n",
    "3. When value is a dictionary, then nested dictionary is flattened using logic above and parent key is used as a prefix to a key of a nested dictionary.\n",
    "4. *cleanup_string* function applied to all newly generated keys.\n",
    "\n",
    "Example of a dictionary:\n",
    "\n",
    "    input: \n",
    "    {'Take-out': True, \n",
    "     'Drive-Thru': False, \n",
    "     'Caters': False, \n",
    "     'Noise Level': 'average'}\n",
    "    output: \n",
    "    {'Take_out': 1, \n",
    "     'Drive_Thru': 0 \n",
    "     'Caters': 0, \n",
    "     'Noise_Level_average':1}\n",
    "     \n",
    "Example of nested dictionary:\n",
    "\n",
    "    input:\n",
    "    {'Ambience': {\n",
    "         'romantic': False, \n",
    "         'intimate': False, \n",
    "         'trendy': True, \n",
    "         'upscale': True}}\n",
    "    output:\n",
    "    {'Ambience_romantic': 0, \n",
    "     'Ambience_intimate': 0, \n",
    "     'Ambience_trendy': 1, \n",
    "     'Ambience_upscale': 1}"
   ]
  },
  {
   "cell_type": "code",
   "execution_count": 44,
   "metadata": {
    "collapsed": true
   },
   "outputs": [],
   "source": [
    "def flatten_dict (source_dict, key_prefix=''):\n",
    "    flatten = {}\n",
    "    for k, v in source_dict.items():\n",
    "        if type(v) == type({}):\n",
    "            flatten = dict(**flatten, **flatten_dict(v, key_prefix + ' ' + k))\n",
    "        else:\n",
    "            if str(v) in ['True', 'False']:\n",
    "                flatten[cleanup_string(key_prefix + ' ' +k)] = (1 if v else 0)\n",
    "            else:\n",
    "                flatten[cleanup_string(key_prefix + ' ' +k + ' ' + str(v))] = 1\n",
    "\n",
    "    return flatten"
   ]
  },
  {
   "cell_type": "markdown",
   "metadata": {},
   "source": [
    "**prepare_business_data:**\n",
    "Converts yelp business json data into flattened dictionary with :\n",
    "- business_id, name, type, open, latitude, longitude, full_address, city, state, review_count, stars, and neighborhoods keys as is\n",
    "- hours of operation keys per available weekday using *flatten_hours* function\n",
    "- attribute key with one value carrying all coresponding attributes using *flatten_dict* function"
   ]
  },
  {
   "cell_type": "code",
   "execution_count": 45,
   "metadata": {
    "collapsed": true
   },
   "outputs": [],
   "source": [
    "def prepare_business_data(data):\n",
    "    \n",
    "    output = [{\n",
    "    'business_id': info['business_id'],\n",
    "    'name': info['name'],\n",
    "    'type': info['type'],\n",
    "    'open': info['open'],\n",
    "    'latitude': info['latitude'],\n",
    "    'longitude': info['longitude'],\n",
    "    'full_address': info['full_address'],\n",
    "    'city': info['city'],\n",
    "    'state': info['state'],\n",
    "    'review_count': info['review_count'],\n",
    "    'stars': info['stars'],\n",
    "    'neighborhoods': info['neighborhoods'],\n",
    "    'attributes': flatten_dict(info['attributes']),\n",
    "    **flatten_hours(info['hours'])}\n",
    "    for info in data]\n",
    "    \n",
    "    return output"
   ]
  },
  {
   "cell_type": "markdown",
   "metadata": {},
   "source": [
    "**prepare_business_data_cats:**\n",
    "Converts yelp business json data into flattened dictionaries with business_id and categories with binary values\n"
   ]
  },
  {
   "cell_type": "code",
   "execution_count": 46,
   "metadata": {
    "collapsed": true
   },
   "outputs": [],
   "source": [
    "def prepare_business_data_cats(data):\n",
    "    \n",
    "    output = [{\n",
    "    'business_id': info['business_id'],\n",
    "    ** flatten_list(info['categories'])}\n",
    "    for info in data]\n",
    "    \n",
    "    return output"
   ]
  },
  {
   "cell_type": "markdown",
   "metadata": {},
   "source": [
    "**remove_unused_cats:** now that I have enormous amount of columns for each possible category with values (0, 1, NaN), which makes about over 1K in this particular dataset, I want to drop the ones that don't have any 1's to make my dataframe narrower. "
   ]
  },
  {
   "cell_type": "code",
   "execution_count": 47,
   "metadata": {
    "collapsed": true
   },
   "outputs": [],
   "source": [
    "def remove_unused_cats(df):\n",
    "    drop = [column for column in df.columns if df[column].sum() == 1] \n",
    "    df = df.drop(drop, 1)\n",
    "    return df"
   ]
  },
  {
   "cell_type": "markdown",
   "metadata": {},
   "source": [
    "**reduce_cats:** now I want to make the dataframe even narrower consolidating all categories into one column, where value of this new column is a dictionary \n",
    "\n",
    "    {category_1: < 1 if column value is 1 otherwise 0 >, \n",
    "    category_2: <1 or 0>, \n",
    "    ...}\n",
    "\n",
    "Why did I not do it at the beginning? Because it's impossible to hardcode all 1K+ categories, whereas expanding the dataframe and collapsing it back pretty much takes care of sparse categories."
   ]
  },
  {
   "cell_type": "code",
   "execution_count": 48,
   "metadata": {
    "collapsed": false
   },
   "outputs": [],
   "source": [
    "def reduce_cats(df):\n",
    "    categories = lambda x: {idx: 1 if x[idx]==1 else 0 for idx in x.index if idx not in ['business_id','Restaurants']}\n",
    "\n",
    "    df['Category'] = df.apply(categories, axis=1)\n",
    "    drop = [column for column in df.columns if column not in ['business_id','Restaurants','Category']]\n",
    "    df = df.drop(drop, 1)\n",
    "    return df"
   ]
  },
  {
   "cell_type": "markdown",
   "metadata": {},
   "source": [
    "**get_postal:**\n",
    "Using regex parses postal code information from full address string. \n",
    "Expected postal code formats are:\n",
    "    \n",
    "    nnnnn\n",
    "    nnnnn-nnnn\n",
    "    AAn nAn\n",
    "    AAn(n) nAA\n",
    "\n",
    "Where _A_ is upper-case aplpha character and _n_ is a digit\n"
   ]
  },
  {
   "cell_type": "code",
   "execution_count": 49,
   "metadata": {
    "collapsed": false
   },
   "outputs": [],
   "source": [
    "def get_postal(address):\n",
    "    \n",
    "    output = None\n",
    "    pattern_zip5 = '(^|\\s)\\d{5}($|\\s)'\n",
    "    pattern_zip9 = '(^|\\s)\\d{5}-\\d{4}($|\\s)'\n",
    "    pattern_CAN_EURO = '(^|\\s)[A-Z0-9]{3}([0-9]?) [A-Z0-9]{3}($|\\s)'\n",
    "    \n",
    "    if re.search(pattern_zip5, address)!= None:\n",
    "        if re.search(pattern_zip9, address)!= None:\n",
    "            output = re.search(pattern_zip9, address).group(0).strip()\n",
    "        else:\n",
    "            output = re.search(pattern_zip5, address).group(0).strip()\n",
    "            \n",
    "    if re.search(pattern_CAN_EURO, address)!= None:\n",
    "        output = re.search(pattern_CAN_EURO, address).group(0).strip()\n",
    "        \n",
    "    return output"
   ]
  },
  {
   "cell_type": "markdown",
   "metadata": {},
   "source": [
    "**get_hour_diff:** takes \"HH:MM - HH:MM\" as a parameter and returns time difference\n",
    "\n",
    "**add_open_hours:** adds *< Weekday>_hours* columns to a dataframe with the time difference calculated by *get_hour_diff*"
   ]
  },
  {
   "cell_type": "code",
   "execution_count": 50,
   "metadata": {
    "collapsed": true
   },
   "outputs": [],
   "source": [
    "def get_hour_diff(value):\n",
    "    return value if pd.isnull(value) else datetime.strptime(value[8:], '%H:%M') - datetime.strptime(value[:5], '%H:%M')\n",
    "\n",
    "def add_open_hours (df):\n",
    "    hours_series = lambda x: pd.Series([\n",
    "        get_hour_diff(x['Monday_hours']),\n",
    "        get_hour_diff(x['Tuesday_hours']),\n",
    "        get_hour_diff(x['Wednesday_hours']),\n",
    "        get_hour_diff(x['Thursday_hours']),\n",
    "        get_hour_diff(x['Friday_hours']),\n",
    "        get_hour_diff(x['Saturday_hours']),\n",
    "        get_hour_diff(x['Sunday_hours'])])\n",
    "\n",
    "    newcols = df.apply(hours_series, axis=1)\n",
    "    newcols.columns = ['Mon_open_hrs','Tue_open_hrs','Wed_open_hrs','Thu_open_hrs',\n",
    "                   'Fri_open_hrs','Sat_open_hrs','Sun_open_hrs']\n",
    "    df = df.join(newcols)\n",
    "    return df"
   ]
  },
  {
   "cell_type": "markdown",
   "metadata": {},
   "source": [
    "# Exercise 1: Create a new column that contains only the zipcode."
   ]
  },
  {
   "cell_type": "code",
   "execution_count": 51,
   "metadata": {
    "collapsed": true
   },
   "outputs": [],
   "source": [
    "## OK, let's do this..."
   ]
  },
  {
   "cell_type": "code",
   "execution_count": 52,
   "metadata": {
    "collapsed": true
   },
   "outputs": [
    {
     "name": "stdout",
     "output_type": "stream",
     "text": [
      "done reading file...\n"
     ]
    },
    {
     "data": {
      "text/html": [
       "<div>\n",
       "<table border=\"1\" class=\"dataframe\">\n",
       "  <thead>\n",
       "    <tr style=\"text-align: right;\">\n",
       "      <th></th>\n",
       "      <th>business_id</th>\n",
       "      <th>full_address</th>\n",
       "      <th>postal</th>\n",
       "    </tr>\n",
       "  </thead>\n",
       "  <tbody>\n",
       "    <tr>\n",
       "      <th>0</th>\n",
       "      <td>5UmKMjUEUNdYWqANhGckJw</td>\n",
       "      <td>4734 Lebanon Church Rd\\nDravosburg, PA 15034</td>\n",
       "      <td>15034</td>\n",
       "    </tr>\n",
       "    <tr>\n",
       "      <th>1</th>\n",
       "      <td>UsFtqoBl7naz8AVUBZMjQQ</td>\n",
       "      <td>202 McClure St\\nDravosburg, PA 15034</td>\n",
       "      <td>15034</td>\n",
       "    </tr>\n",
       "    <tr>\n",
       "      <th>2</th>\n",
       "      <td>cE27W9VPgO88Qxe4ol6y_g</td>\n",
       "      <td>1530 Hamilton Rd\\nBethel Park, PA 15234</td>\n",
       "      <td>15234</td>\n",
       "    </tr>\n",
       "    <tr>\n",
       "      <th>3</th>\n",
       "      <td>mVHrayjG3uZ_RLHkLj-AMg</td>\n",
       "      <td>414 Hawkins Ave\\nBraddock, PA 15104</td>\n",
       "      <td>15104</td>\n",
       "    </tr>\n",
       "    <tr>\n",
       "      <th>4</th>\n",
       "      <td>mYSpR_SLPgUVymYOvTQd_Q</td>\n",
       "      <td>1000 Clubhouse Dr\\nBraddock, PA 15104</td>\n",
       "      <td>15104</td>\n",
       "    </tr>\n",
       "  </tbody>\n",
       "</table>\n",
       "</div>"
      ],
      "text/plain": [
       "              business_id                                  full_address postal\n",
       "0  5UmKMjUEUNdYWqANhGckJw  4734 Lebanon Church Rd\\nDravosburg, PA 15034  15034\n",
       "1  UsFtqoBl7naz8AVUBZMjQQ          202 McClure St\\nDravosburg, PA 15034  15034\n",
       "2  cE27W9VPgO88Qxe4ol6y_g       1530 Hamilton Rd\\nBethel Park, PA 15234  15234\n",
       "3  mVHrayjG3uZ_RLHkLj-AMg           414 Hawkins Ave\\nBraddock, PA 15104  15104\n",
       "4  mYSpR_SLPgUVymYOvTQd_Q         1000 Clubhouse Dr\\nBraddock, PA 15104  15104"
      ]
     },
     "execution_count": 52,
     "metadata": {},
     "output_type": "execute_result"
    }
   ],
   "source": [
    "business_data = read_json_file(business_json_file)\n",
    "\n",
    "df_business = pd.DataFrame(prepare_business_data(business_data))\n",
    "\n",
    "df_business['postal'] = df_business['full_address'].apply(lambda x: get_postal(x))\n",
    "df_business[['business_id','full_address','postal']].head()"
   ]
  },
  {
   "cell_type": "markdown",
   "metadata": {},
   "source": [
    "** my test data**"
   ]
  },
  {
   "cell_type": "code",
   "execution_count": 53,
   "metadata": {
    "collapsed": false
   },
   "outputs": [],
   "source": [
    "test_ids = [\n",
    "    '1IxCNVVW9aKbK3BfQpI7eg','5UmKMjUEUNdYWqANhGckJw','5dUDkaxm5FdQanoNkP86KQ',\n",
    "    'u9Ns-n_3zaZItaAbxjMidQ','W2RFJg1N_MzuI8I42MQ2VA','W3THJEcoHZZKgdJJdiFIWw',\n",
    "    'DaE0cV5m3yGaPEaMEUnzZg','d_JAhjTX4RojS1Bj1uNXGg','HvP4Tvx9mihceKb2gnbhgw',\n",
    "    'i9JeI7bd1qXGi15FoD45GA']\n",
    "test_data = (df_business['business_id'].isin(test_ids))\n",
    "df_test = df_business[test_data]"
   ]
  },
  {
   "cell_type": "markdown",
   "metadata": {},
   "source": [
    "# Exercise 2: The table contains a column called 'categories' and each entry in this column is populated by a list. We are interested in those businesses that restaurants. Create a new column 'Restaurant_type' that contains a description of the restaurant based on the other elements of 'categories. \n",
    "## That is, if we have '[Sushi Bars, Japanese, Restaurants]' in categories the 'Restaurant_type will be '{'SushiBars': 1, 'Japanese': 1, 'Mexican': 0, ...}'"
   ]
  },
  {
   "cell_type": "code",
   "execution_count": 54,
   "metadata": {
    "collapsed": false,
    "scrolled": true
   },
   "outputs": [],
   "source": [
    "df_restaurants = pd.DataFrame(prepare_business_data_cats(business_data))\n",
    "\n",
    "only_restaurants = df_restaurants['Restaurants'] == 1\n",
    "\n",
    "#len(df_restaurants) before = 85901\n",
    "\n",
    "df_restaurants = df_restaurants[only_restaurants]\n",
    "#len(df_restaurants) after = 26729\n",
    "\n",
    "df_restaurants = remove_unused_cats(df_restaurants)\n",
    "df_restaurants = reduce_cats(df_restaurants)"
   ]
  },
  {
   "cell_type": "code",
   "execution_count": 55,
   "metadata": {
    "collapsed": true
   },
   "outputs": [
    {
     "data": {
      "text/html": [
       "<div>\n",
       "<table border=\"1\" class=\"dataframe\">\n",
       "  <thead>\n",
       "    <tr style=\"text-align: right;\">\n",
       "      <th></th>\n",
       "      <th>Restaurants</th>\n",
       "      <th>business_id</th>\n",
       "      <th>Category</th>\n",
       "    </tr>\n",
       "  </thead>\n",
       "  <tbody>\n",
       "    <tr>\n",
       "      <th>0</th>\n",
       "      <td>1.0</td>\n",
       "      <td>5UmKMjUEUNdYWqANhGckJw</td>\n",
       "      <td>{'Hearing_Aid_Providers': 0, 'Sushi_Bars': 0, ...</td>\n",
       "    </tr>\n",
       "    <tr>\n",
       "      <th>3</th>\n",
       "      <td>1.0</td>\n",
       "      <td>mVHrayjG3uZ_RLHkLj-AMg</td>\n",
       "      <td>{'Hearing_Aid_Providers': 0, 'Sushi_Bars': 0, ...</td>\n",
       "    </tr>\n",
       "    <tr>\n",
       "      <th>5</th>\n",
       "      <td>1.0</td>\n",
       "      <td>KayYbHCt-RkbGcPdGOThNg</td>\n",
       "      <td>{'Hearing_Aid_Providers': 0, 'Sushi_Bars': 0, ...</td>\n",
       "    </tr>\n",
       "    <tr>\n",
       "      <th>12</th>\n",
       "      <td>1.0</td>\n",
       "      <td>wJr6kSA5dchdgOdwH6dZ2w</td>\n",
       "      <td>{'Hearing_Aid_Providers': 0, 'Sushi_Bars': 0, ...</td>\n",
       "    </tr>\n",
       "    <tr>\n",
       "      <th>17</th>\n",
       "      <td>1.0</td>\n",
       "      <td>fNGIbpazjTRdXgwRY_NIXA</td>\n",
       "      <td>{'Hearing_Aid_Providers': 0, 'Sushi_Bars': 0, ...</td>\n",
       "    </tr>\n",
       "  </tbody>\n",
       "</table>\n",
       "</div>"
      ],
      "text/plain": [
       "    Restaurants             business_id  \\\n",
       "0           1.0  5UmKMjUEUNdYWqANhGckJw   \n",
       "3           1.0  mVHrayjG3uZ_RLHkLj-AMg   \n",
       "5           1.0  KayYbHCt-RkbGcPdGOThNg   \n",
       "12          1.0  wJr6kSA5dchdgOdwH6dZ2w   \n",
       "17          1.0  fNGIbpazjTRdXgwRY_NIXA   \n",
       "\n",
       "                                             Category  \n",
       "0   {'Hearing_Aid_Providers': 0, 'Sushi_Bars': 0, ...  \n",
       "3   {'Hearing_Aid_Providers': 0, 'Sushi_Bars': 0, ...  \n",
       "5   {'Hearing_Aid_Providers': 0, 'Sushi_Bars': 0, ...  \n",
       "12  {'Hearing_Aid_Providers': 0, 'Sushi_Bars': 0, ...  \n",
       "17  {'Hearing_Aid_Providers': 0, 'Sushi_Bars': 0, ...  "
      ]
     },
     "execution_count": 55,
     "metadata": {},
     "output_type": "execute_result"
    }
   ],
   "source": [
    "df_restaurants.head()"
   ]
  },
  {
   "cell_type": "markdown",
   "metadata": {},
   "source": [
    "# Exercise 3: Lets clean the 'attributes' column. The entries in this column are dictionaries. We need to do two things: \n",
    "## 1) Turn all the True or False in the dictionary to 1s and 0s.\n",
    "## 2) There are some entries within dictionaries that are dictionaries themselves, lets turn the whole entry into just one dictionary, for example if we have \n",
    "### '{'Accepts Credit Cards': True, 'Alcohol': 'none','Ambience': {'casual': False,'classy': False}}' \n",
    "### then turn it into\n",
    "### '{'Accepts Credit Cards':1, 'Alcohol_none': 1, 'Ambience_casual': 0, 'Ambience_classy': 0}'. \n",
    "### There might be other entries like {'Price Range': 1} where the values are numerical so we might want to change that into {'Price_Range_1': 1}."
   ]
  },
  {
   "cell_type": "code",
   "execution_count": 264,
   "metadata": {
    "collapsed": false
   },
   "outputs": [
    {
     "name": "stdout",
     "output_type": "stream",
     "text": [
      "Done...\n"
     ]
    }
   ],
   "source": [
    "print ('Done...')"
   ]
  },
  {
   "cell_type": "markdown",
   "metadata": {},
   "source": [
    "# Exercise 4: Create a new column for every day of the week and fill it with the amount of hours the business is open that day."
   ]
  },
  {
   "cell_type": "code",
   "execution_count": 57,
   "metadata": {
    "collapsed": false
   },
   "outputs": [],
   "source": [
    "df_business = add_open_hours(df_business)"
   ]
  },
  {
   "cell_type": "code",
   "execution_count": 58,
   "metadata": {
    "collapsed": true
   },
   "outputs": [
    {
     "data": {
      "text/html": [
       "<div>\n",
       "<table border=\"1\" class=\"dataframe\">\n",
       "  <thead>\n",
       "    <tr style=\"text-align: right;\">\n",
       "      <th></th>\n",
       "      <th>Mon_open_hrs</th>\n",
       "      <th>Tue_open_hrs</th>\n",
       "      <th>Wed_open_hrs</th>\n",
       "      <th>Thu_open_hrs</th>\n",
       "      <th>Fri_open_hrs</th>\n",
       "      <th>Sat_open_hrs</th>\n",
       "      <th>Sun_open_hrs</th>\n",
       "    </tr>\n",
       "  </thead>\n",
       "  <tbody>\n",
       "    <tr>\n",
       "      <th>0</th>\n",
       "      <td>10:00:00</td>\n",
       "      <td>10:00:00</td>\n",
       "      <td>10:00:00</td>\n",
       "      <td>10:00:00</td>\n",
       "      <td>10:00:00</td>\n",
       "      <td>NaT</td>\n",
       "      <td>NaT</td>\n",
       "    </tr>\n",
       "    <tr>\n",
       "      <th>1</th>\n",
       "      <td>NaT</td>\n",
       "      <td>NaT</td>\n",
       "      <td>NaT</td>\n",
       "      <td>NaT</td>\n",
       "      <td>NaT</td>\n",
       "      <td>NaT</td>\n",
       "      <td>NaT</td>\n",
       "    </tr>\n",
       "    <tr>\n",
       "      <th>2</th>\n",
       "      <td>NaT</td>\n",
       "      <td>NaT</td>\n",
       "      <td>NaT</td>\n",
       "      <td>NaT</td>\n",
       "      <td>NaT</td>\n",
       "      <td>NaT</td>\n",
       "      <td>NaT</td>\n",
       "    </tr>\n",
       "    <tr>\n",
       "      <th>3</th>\n",
       "      <td>NaT</td>\n",
       "      <td>09:00:00</td>\n",
       "      <td>09:00:00</td>\n",
       "      <td>09:00:00</td>\n",
       "      <td>10:00:00</td>\n",
       "      <td>06:00:00</td>\n",
       "      <td>NaT</td>\n",
       "    </tr>\n",
       "    <tr>\n",
       "      <th>4</th>\n",
       "      <td>NaT</td>\n",
       "      <td>NaT</td>\n",
       "      <td>09:00:00</td>\n",
       "      <td>09:00:00</td>\n",
       "      <td>09:00:00</td>\n",
       "      <td>09:00:00</td>\n",
       "      <td>05:00:00</td>\n",
       "    </tr>\n",
       "  </tbody>\n",
       "</table>\n",
       "</div>"
      ],
      "text/plain": [
       "   Mon_open_hrs  Tue_open_hrs  Wed_open_hrs  Thu_open_hrs  Fri_open_hrs  \\\n",
       "0      10:00:00      10:00:00      10:00:00      10:00:00      10:00:00   \n",
       "1           NaT           NaT           NaT           NaT           NaT   \n",
       "2           NaT           NaT           NaT           NaT           NaT   \n",
       "3           NaT      09:00:00      09:00:00      09:00:00      10:00:00   \n",
       "4           NaT           NaT      09:00:00      09:00:00      09:00:00   \n",
       "\n",
       "   Sat_open_hrs  Sun_open_hrs  \n",
       "0           NaT           NaT  \n",
       "1           NaT           NaT  \n",
       "2           NaT           NaT  \n",
       "3      06:00:00           NaT  \n",
       "4      09:00:00      05:00:00  "
      ]
     },
     "execution_count": 58,
     "metadata": {},
     "output_type": "execute_result"
    }
   ],
   "source": [
    "df_business[['Mon_open_hrs','Tue_open_hrs','Wed_open_hrs','Thu_open_hrs',\n",
    "            'Fri_open_hrs','Sat_open_hrs','Sun_open_hrs']].head()"
   ]
  },
  {
   "cell_type": "markdown",
   "metadata": {},
   "source": [
    "# Exercise 5: Create a table with the average review for a business."
   ]
  },
  {
   "cell_type": "code",
   "execution_count": 88,
   "metadata": {
    "collapsed": false,
    "scrolled": true
   },
   "outputs": [
    {
     "name": "stdout",
     "output_type": "stream",
     "text": [
      "done reading review file...\n"
     ]
    },
    {
     "data": {
      "text/plain": [
       "85539"
      ]
     },
     "execution_count": 88,
     "metadata": {},
     "output_type": "execute_result"
    }
   ],
   "source": [
    "## This might take a while...\n",
    "df_review = pd.DataFrame(read_review_json_file(review_json_files))\n",
    "\n",
    "# explore...\n",
    "len(df_review) # 2685066\n",
    "df_review.head()\n",
    "\n",
    "# Make an actual table\n",
    "df_review = df_review.groupby('business_id').mean()\n",
    "df_review = df_review.reset_index()\n",
    "len(df_review) # 85539"
   ]
  },
  {
   "cell_type": "code",
   "execution_count": 89,
   "metadata": {
    "collapsed": true
   },
   "outputs": [
    {
     "data": {
      "text/html": [
       "<div>\n",
       "<table border=\"1\" class=\"dataframe\">\n",
       "  <thead>\n",
       "    <tr style=\"text-align: right;\">\n",
       "      <th></th>\n",
       "      <th>business_id</th>\n",
       "      <th>stars</th>\n",
       "    </tr>\n",
       "  </thead>\n",
       "  <tbody>\n",
       "    <tr>\n",
       "      <th>0</th>\n",
       "      <td>--0ZoBTQWQra1FxD4rBWmg</td>\n",
       "      <td>2.000000</td>\n",
       "    </tr>\n",
       "    <tr>\n",
       "      <th>1</th>\n",
       "      <td>--1emggGHgoG6ipd_RMb-g</td>\n",
       "      <td>3.333333</td>\n",
       "    </tr>\n",
       "    <tr>\n",
       "      <th>2</th>\n",
       "      <td>--4Pe8BZ6gj57VFL5mUE8g</td>\n",
       "      <td>2.750000</td>\n",
       "    </tr>\n",
       "    <tr>\n",
       "      <th>3</th>\n",
       "      <td>--5jkZ3-nUPZxUvtcbr8Uw</td>\n",
       "      <td>4.580357</td>\n",
       "    </tr>\n",
       "    <tr>\n",
       "      <th>4</th>\n",
       "      <td>--7PRjnsjMA6uhPK8mW13Q</td>\n",
       "      <td>2.666667</td>\n",
       "    </tr>\n",
       "  </tbody>\n",
       "</table>\n",
       "</div>"
      ],
      "text/plain": [
       "              business_id     stars\n",
       "0  --0ZoBTQWQra1FxD4rBWmg  2.000000\n",
       "1  --1emggGHgoG6ipd_RMb-g  3.333333\n",
       "2  --4Pe8BZ6gj57VFL5mUE8g  2.750000\n",
       "3  --5jkZ3-nUPZxUvtcbr8Uw  4.580357\n",
       "4  --7PRjnsjMA6uhPK8mW13Q  2.666667"
      ]
     },
     "execution_count": 89,
     "metadata": {},
     "output_type": "execute_result"
    }
   ],
   "source": [
    "df_review.head()"
   ]
  },
  {
   "cell_type": "markdown",
   "metadata": {},
   "source": [
    "# Exercise 6: Create a new table that only contains restaurants with the following schema:\n",
    "## Business_Name | Restaurant_type | Friday hours | Saturday hours | Attributes | Zipcode | Average Rating"
   ]
  },
  {
   "cell_type": "code",
   "execution_count": 90,
   "metadata": {
    "collapsed": false
   },
   "outputs": [
    {
     "name": "stdout",
     "output_type": "stream",
     "text": [
      "26729\n"
     ]
    }
   ],
   "source": [
    "restaurant_master = pd.merge(\n",
    "    df_business[['business_id','name','Friday_hours','Saturday_hours','attributes','postal']],\n",
    "    df_restaurants[['business_id','Category']], \n",
    "    how = 'inner',\n",
    "    on = 'business_id')\n",
    "\n",
    "restaurant_master = pd.merge(restaurant_master, df_review, how = 'left', on = 'business_id')\n",
    "\n",
    "restaurant_master.columns = ['business_id','Business Name', 'Friday hours','Saturday hours',\n",
    "                             'Attributes','Postal','Restaurant type','Average Rating']\n",
    "\n",
    "print(len(restaurant_master)) \n",
    "#Should be the same as len(df_restaurants), which is 26729"
   ]
  },
  {
   "cell_type": "code",
   "execution_count": 91,
   "metadata": {
    "collapsed": false
   },
   "outputs": [
    {
     "data": {
      "text/html": [
       "<div>\n",
       "<table border=\"1\" class=\"dataframe\">\n",
       "  <thead>\n",
       "    <tr style=\"text-align: right;\">\n",
       "      <th></th>\n",
       "      <th>business_id</th>\n",
       "      <th>Business Name</th>\n",
       "      <th>Friday hours</th>\n",
       "      <th>Saturday hours</th>\n",
       "      <th>Attributes</th>\n",
       "      <th>Postal</th>\n",
       "      <th>Restaurant type</th>\n",
       "      <th>Average Rating</th>\n",
       "    </tr>\n",
       "  </thead>\n",
       "  <tbody>\n",
       "    <tr>\n",
       "      <th>0</th>\n",
       "      <td>5UmKMjUEUNdYWqANhGckJw</td>\n",
       "      <td>Mr Hoagie</td>\n",
       "      <td>11:00 - 21:00</td>\n",
       "      <td>NaN</td>\n",
       "      <td>{'Price_Range_1': 1, 'Drive_Thru': 0, 'Parking...</td>\n",
       "      <td>15034</td>\n",
       "      <td>{'Hearing_Aid_Providers': 0, 'Sushi_Bars': 0, ...</td>\n",
       "      <td>3.428571</td>\n",
       "    </tr>\n",
       "    <tr>\n",
       "      <th>1</th>\n",
       "      <td>mVHrayjG3uZ_RLHkLj-AMg</td>\n",
       "      <td>Emil's Lounge</td>\n",
       "      <td>10:00 - 20:00</td>\n",
       "      <td>10:00 - 16:00</td>\n",
       "      <td>{'Music_dj': 0, 'Caters': 1, 'Ambience_tourist...</td>\n",
       "      <td>15104</td>\n",
       "      <td>{'Hearing_Aid_Providers': 0, 'Sushi_Bars': 0, ...</td>\n",
       "      <td>4.680000</td>\n",
       "    </tr>\n",
       "    <tr>\n",
       "      <th>2</th>\n",
       "      <td>KayYbHCt-RkbGcPdGOThNg</td>\n",
       "      <td>Alexion's Bar &amp; Grill</td>\n",
       "      <td>11:00 - 02:00</td>\n",
       "      <td>12:00 - 02:00</td>\n",
       "      <td>{'Music_dj': 0, 'Caters': 0, 'Ambience_tourist...</td>\n",
       "      <td>15106</td>\n",
       "      <td>{'Hearing_Aid_Providers': 0, 'Sushi_Bars': 0, ...</td>\n",
       "      <td>3.894737</td>\n",
       "    </tr>\n",
       "    <tr>\n",
       "      <th>3</th>\n",
       "      <td>wJr6kSA5dchdgOdwH6dZ2w</td>\n",
       "      <td>Kings Family Restaurant</td>\n",
       "      <td>08:00 - 02:00</td>\n",
       "      <td>08:00 - 02:00</td>\n",
       "      <td>{'Drive_Thru': 0, 'Parking_street': 0, 'Takes_...</td>\n",
       "      <td>15106</td>\n",
       "      <td>{'Hearing_Aid_Providers': 0, 'Sushi_Bars': 0, ...</td>\n",
       "      <td>3.250000</td>\n",
       "    </tr>\n",
       "    <tr>\n",
       "      <th>4</th>\n",
       "      <td>fNGIbpazjTRdXgwRY_NIXA</td>\n",
       "      <td>Rocky's Lounge</td>\n",
       "      <td>11:00 - 23:00</td>\n",
       "      <td>11:00 - 23:00</td>\n",
       "      <td>{'Music_dj': 0, 'Caters': 0, 'Ambience_tourist...</td>\n",
       "      <td>15106</td>\n",
       "      <td>{'Hearing_Aid_Providers': 0, 'Sushi_Bars': 0, ...</td>\n",
       "      <td>3.800000</td>\n",
       "    </tr>\n",
       "  </tbody>\n",
       "</table>\n",
       "</div>"
      ],
      "text/plain": [
       "              business_id            Business Name   Friday hours  \\\n",
       "0  5UmKMjUEUNdYWqANhGckJw                Mr Hoagie  11:00 - 21:00   \n",
       "1  mVHrayjG3uZ_RLHkLj-AMg            Emil's Lounge  10:00 - 20:00   \n",
       "2  KayYbHCt-RkbGcPdGOThNg    Alexion's Bar & Grill  11:00 - 02:00   \n",
       "3  wJr6kSA5dchdgOdwH6dZ2w  Kings Family Restaurant  08:00 - 02:00   \n",
       "4  fNGIbpazjTRdXgwRY_NIXA           Rocky's Lounge  11:00 - 23:00   \n",
       "\n",
       "  Saturday hours                                         Attributes Postal  \\\n",
       "0            NaN  {'Price_Range_1': 1, 'Drive_Thru': 0, 'Parking...  15034   \n",
       "1  10:00 - 16:00  {'Music_dj': 0, 'Caters': 1, 'Ambience_tourist...  15104   \n",
       "2  12:00 - 02:00  {'Music_dj': 0, 'Caters': 0, 'Ambience_tourist...  15106   \n",
       "3  08:00 - 02:00  {'Drive_Thru': 0, 'Parking_street': 0, 'Takes_...  15106   \n",
       "4  11:00 - 23:00  {'Music_dj': 0, 'Caters': 0, 'Ambience_tourist...  15106   \n",
       "\n",
       "                                     Restaurant type  Average Rating  \n",
       "0  {'Hearing_Aid_Providers': 0, 'Sushi_Bars': 0, ...        3.428571  \n",
       "1  {'Hearing_Aid_Providers': 0, 'Sushi_Bars': 0, ...        4.680000  \n",
       "2  {'Hearing_Aid_Providers': 0, 'Sushi_Bars': 0, ...        3.894737  \n",
       "3  {'Hearing_Aid_Providers': 0, 'Sushi_Bars': 0, ...        3.250000  \n",
       "4  {'Hearing_Aid_Providers': 0, 'Sushi_Bars': 0, ...        3.800000  "
      ]
     },
     "execution_count": 91,
     "metadata": {},
     "output_type": "execute_result"
    }
   ],
   "source": [
    "restaurant_master.head()"
   ]
  },
  {
   "cell_type": "code",
   "execution_count": null,
   "metadata": {
    "collapsed": true
   },
   "outputs": [],
   "source": []
  }
 ],
 "metadata": {
  "anaconda-cloud": {},
  "kernelspec": {
   "display_name": "Python [default]",
   "language": "python",
   "name": "python3"
  },
  "language_info": {
   "codemirror_mode": {
    "name": "ipython",
    "version": 3
   },
   "file_extension": ".py",
   "mimetype": "text/x-python",
   "name": "python",
   "nbconvert_exporter": "python",
   "pygments_lexer": "ipython3",
   "version": "3.5.2"
  }
 },
 "nbformat": 4,
 "nbformat_minor": 0
}
