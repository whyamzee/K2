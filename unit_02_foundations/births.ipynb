{
 "cells": [
  {
   "cell_type": "code",
   "execution_count": 41,
   "metadata": {
    "collapsed": false
   },
   "outputs": [
    {
     "name": "stdout",
     "output_type": "stream",
     "text": [
      "[['year', 'month', 'date_of_month', 'day_of_week', 'births']]\n",
      "[[1994, 1, 1, 6, 8096], [1994, 1, 2, 7, 7772], [1994, 1, 3, 1, 10142], [1994, 1, 4, 2, 11248], [1994, 1, 5, 3, 11053], [1994, 1, 6, 4, 11406], [1994, 1, 7, 5, 11251], [1994, 1, 8, 6, 8653], [1994, 1, 9, 7, 7910], [1994, 1, 10, 1, 10498]]\n"
     ]
    }
   ],
   "source": [
    "import urllib.request \n",
    "import io\n",
    "import csv\n",
    "\n",
    "def read_csv(url):\n",
    "    f = urllib.request.urlopen(url)\n",
    "    data = csv.reader(io.TextIOWrapper(f))\n",
    "\n",
    "    file_list = []\n",
    "    header = []\n",
    "    first = True\n",
    "    for row in data:\n",
    "        if first:\n",
    "            header.append(row)\n",
    "            first = False\n",
    "        else:\n",
    "            file_list.append([int (x) for x in row])\n",
    "    \n",
    "\n",
    "    return header,file_list\n",
    "\n",
    "header,a_list = read_csv('https://raw.githubusercontent.com/k2datascience/ds-foundations/master/code/us_births.csv')\n",
    "print(header)\n",
    "print(a_list[0:10])\n",
    "    "
   ]
  },
  {
   "cell_type": "code",
   "execution_count": 55,
   "metadata": {
    "collapsed": false
   },
   "outputs": [
    {
     "name": "stdout",
     "output_type": "stream",
     "text": [
      "{1: 0, 2: 0, 3: 0, 4: 0, 5: 0, 6: 0, 7: 0, 8: 0, 9: 0, 10: 0, 11: 0, 12: 0}\n",
      "{1: 3232517, 2: 3018140, 3: 3322069, 4: 3185314, 5: 3350907, 6: 3296530, 7: 3498783, 8: 3525858, 9: 3439698, 10: 3378814, 11: 3171647, 12: 3301860}\n"
     ]
    }
   ],
   "source": [
    "def births_per_month(birth_list):\n",
    "    #summary = {1 : 0, 2 : 0, 3 : 0, 4 : 0, 5 : 0, 6 : 0, 7 : 0, 8 : 0, 9 : 0, 10: 0, 11: 0, 12: 0}\n",
    "    # better way:\n",
    "    summary = {i: 0 for i in range(1, 13)}\n",
    "    print (summary)\n",
    "    for row in birth_list:\n",
    "        summary[row[1]] += row[4]\n",
    "    return summary\n",
    "\n",
    "bpm = {}\n",
    "bpm = births_per_month(a_list)\n",
    "print (bpm)\n",
    "        \n",
    "        "
   ]
  },
  {
   "cell_type": "code",
   "execution_count": 56,
   "metadata": {
    "collapsed": false
   },
   "outputs": [
    {
     "name": "stdout",
     "output_type": "stream",
     "text": [
      "{1: 0, 2: 0, 3: 0, 4: 0, 5: 0, 6: 0, 7: 0}\n",
      "{1: 5789166, 2: 6446196, 3: 6322855, 4: 6288429, 5: 6233657, 6: 4562111, 7: 4079723}\n"
     ]
    }
   ],
   "source": [
    "def births_per_dow(birth_list):\n",
    "    summary = {1 : 0, 2 : 0, 3 : 0, 4 : 0, 5 : 0, 6 : 0, 7 : 0}\n",
    "    print (summary)\n",
    "    for row in birth_list:\n",
    "        summary[row[3]] += row[4]\n",
    "    return summary\n",
    "\n",
    "bpdow = births_per_dow(a_list)\n",
    "print (bpdow)"
   ]
  },
  {
   "cell_type": "code",
   "execution_count": 59,
   "metadata": {
    "collapsed": false
   },
   "outputs": [
    {
     "name": "stdout",
     "output_type": "stream",
     "text": [
      "{1: 3232517, 2: 3018140, 3: 3322069, 4: 3185314, 5: 3350907, 6: 3296530, 7: 3498783, 8: 3525858, 9: 3439698, 10: 3378814, 11: 3171647, 12: 3301860}\n",
      "{1: 5789166, 2: 6446196, 3: 6322855, 4: 6288429, 5: 6233657, 6: 4562111, 7: 4079723}\n"
     ]
    }
   ],
   "source": [
    "def list_to_kv(list, key_idx, value_idx):\n",
    "    kv = {}\n",
    "    for row in list:\n",
    "        if row[key_idx] not in kv:\n",
    "            kv[row[key_idx]] = 0\n",
    "        kv[row[key_idx]] += row[value_idx]\n",
    "    return kv\n",
    "\n",
    "bpm2 = list_to_kv(a_list, 1, 4)\n",
    "print (bpm2)\n",
    "bpdow2 = list_to_kv(a_list, 3, 4)\n",
    "print (bpdow2)"
   ]
  },
  {
   "cell_type": "code",
   "execution_count": null,
   "metadata": {
    "collapsed": true
   },
   "outputs": [],
   "source": []
  }
 ],
 "metadata": {
  "anaconda-cloud": {},
  "kernelspec": {
   "display_name": "Python 3",
   "language": "python",
   "name": "python3"
  },
  "language_info": {
   "codemirror_mode": {
    "name": "ipython",
    "version": 3
   },
   "file_extension": ".py",
   "mimetype": "text/x-python",
   "name": "python",
   "nbconvert_exporter": "python",
   "pygments_lexer": "ipython3",
   "version": "3.6.0"
  }
 },
 "nbformat": 4,
 "nbformat_minor": 2
}
