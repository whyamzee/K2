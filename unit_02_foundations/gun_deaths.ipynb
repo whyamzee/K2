{
 "cells": [
  {
   "cell_type": "code",
   "execution_count": 108,
   "metadata": {
    "collapsed": false
   },
   "outputs": [
    {
     "name": "stdout",
     "output_type": "stream",
     "text": [
      "['', 'year', 'month', 'intent', 'police', 'sex', 'age', 'race', 'hispanic', 'place', 'education']\n",
      "[['1', '2012', '01', 'Suicide', '0', 'M', '34', 'Asian/Pacific Islander', '100', 'Home', '4'], ['2', '2012', '01', 'Suicide', '0', 'F', '21', 'White', '100', 'Street', '3'], ['3', '2012', '01', 'Suicide', '0', 'M', '60', 'White', '100', 'Other specified', '4'], ['4', '2012', '02', 'Suicide', '0', 'M', '64', 'White', '100', 'Home', '4'], ['5', '2012', '02', 'Suicide', '0', 'M', '31', 'White', '100', 'Other specified', '2']]\n",
      "[['100796', '2014', '12', 'Homicide', '0', 'M', '20', 'Black', '100', 'Street', '2'], ['100797', '2014', '12', 'Homicide', '0', 'M', '22', 'Hispanic', '260', 'Street', '1'], ['100798', '2014', '10', 'Homicide', '0', 'M', '43', 'Black', '100', 'Other unspecified', '2']]\n"
     ]
    }
   ],
   "source": [
    "#import os\n",
    "#cwd = os.getcwd()\n",
    "#print (cwd)\n",
    "#\n",
    "\n",
    "## 1. Hard way\n",
    "#import urllib.request \n",
    "#import io\n",
    "#\n",
    "#def read_csv(url):\n",
    "#    f = urllib.request.urlopen(url)\n",
    "#    data = csv.reader(io.TextIOWrapper(f))\n",
    "#\n",
    "#    file_list = []\n",
    "#    header = []\n",
    "#    first = True\n",
    "#    for row in data:\n",
    "#        if first:\n",
    "#            header.append(row)\n",
    "#            first = False\n",
    "#        else:\n",
    "#            file_list.append([int (x) for x in row])\n",
    "#    \n",
    "#\n",
    "#    return header,file_list\n",
    "#filepath = \"https://raw.githubusercontent.com/k2datascience/ds-foundations/master/code/guns.csv\"\n",
    "#header,a_list = read_csv(filepath)\n",
    "\n",
    "import csv\n",
    "\n",
    "with open('guns.csv','r') as f:\n",
    "    reader = csv.reader(f)\n",
    "    data = list(reader)\n",
    "\n",
    "header = data.pop(0)    \n",
    "print(header)\n",
    "print(data[:5])\n",
    "print(data[100795:])"
   ]
  },
  {
   "cell_type": "code",
   "execution_count": 110,
   "metadata": {
    "collapsed": false
   },
   "outputs": [
    {
     "name": "stdout",
     "output_type": "stream",
     "text": [
      "{'Accidental': 1639, 'NA': 1, 'Suicide': 63175, 'Undetermined': 807, 'Homicide': 35176}\n",
      "{'Native American/Native Alaskan': 917, 'Black': 23296, 'Asian/Pacific Islander': 1326, 'White': 66237, 'Hispanic': 9022}\n"
     ]
    }
   ],
   "source": [
    "def list_to_kv(data, key_idx):\n",
    "    kv = {}\n",
    "    for row in data:\n",
    "        #print(row)\n",
    "        if row[key_idx] not in kv:\n",
    "             kv[row[key_idx]] = 0\n",
    "        kv[row[key_idx]] += 1\n",
    "           \n",
    "    return kv\n",
    "\n",
    "#<id>=0,year=1,month=2,intent=3,police=4,sex=5,age=6,race=7,hispanic=8,place=9,education=10'\n",
    "by_year = list_to_kv(data, 1)\n",
    "by_intent = list_to_kv(data, 3)\n",
    "by_police = list_to_kv(data, 4)\n",
    "by_sex = list_to_kv(data, 5)\n",
    "by_age = list_to_kv(data, 6)\n",
    "by_race = list_to_kv(data, 7)\n",
    "by_hispanic = list_to_kv(data, 8)\n",
    "by_place = list_to_kv(data, 9)\n",
    "by_education = list_to_kv(data, 10)\n",
    "\n",
    "#print(by_year.keys())\n",
    "print(by_intent)\n",
    "#print(by_police.keys())\n",
    "#print(by_sex.keys())\n",
    "#print(by_age.keys())\n",
    "print(by_race)\n",
    "#print(by_hispanic.keys())\n",
    "#print(by_place.keys())\n",
    "#print(by_education.keys())\n",
    "\n"
   ]
  },
  {
   "cell_type": "code",
   "execution_count": 111,
   "metadata": {
    "collapsed": false
   },
   "outputs": [
    {
     "data": {
      "text/plain": [
       "dict_keys([datetime.datetime(2014, 2, 1, 0, 0), datetime.datetime(2013, 12, 1, 0, 0), datetime.datetime(2012, 5, 1, 0, 0), datetime.datetime(2014, 5, 1, 0, 0), datetime.datetime(2014, 9, 1, 0, 0), datetime.datetime(2014, 4, 1, 0, 0), datetime.datetime(2012, 1, 1, 0, 0), datetime.datetime(2014, 11, 1, 0, 0), datetime.datetime(2012, 6, 1, 0, 0), datetime.datetime(2013, 8, 1, 0, 0), datetime.datetime(2013, 4, 1, 0, 0), datetime.datetime(2014, 6, 1, 0, 0), datetime.datetime(2014, 3, 1, 0, 0), datetime.datetime(2013, 1, 1, 0, 0), datetime.datetime(2014, 1, 1, 0, 0), datetime.datetime(2012, 11, 1, 0, 0), datetime.datetime(2012, 7, 1, 0, 0), datetime.datetime(2013, 6, 1, 0, 0), datetime.datetime(2012, 2, 1, 0, 0), datetime.datetime(2012, 9, 1, 0, 0), datetime.datetime(2013, 7, 1, 0, 0), datetime.datetime(2013, 9, 1, 0, 0), datetime.datetime(2012, 12, 1, 0, 0), datetime.datetime(2013, 11, 1, 0, 0), datetime.datetime(2012, 8, 1, 0, 0), datetime.datetime(2013, 5, 1, 0, 0), datetime.datetime(2012, 4, 1, 0, 0), datetime.datetime(2012, 3, 1, 0, 0), datetime.datetime(2013, 3, 1, 0, 0), datetime.datetime(2014, 8, 1, 0, 0), datetime.datetime(2014, 7, 1, 0, 0), datetime.datetime(2014, 10, 1, 0, 0), datetime.datetime(2014, 12, 1, 0, 0), datetime.datetime(2013, 2, 1, 0, 0), datetime.datetime(2013, 10, 1, 0, 0), datetime.datetime(2012, 10, 1, 0, 0)])"
      ]
     },
     "execution_count": 111,
     "metadata": {},
     "output_type": "execute_result"
    }
   ],
   "source": [
    "import datetime\n",
    "\n",
    "dates = [datetime.datetime(year=int(row[1]), month=int(row[2]), day=1) for row in data[1:]]\n",
    "dates[:5]\n",
    "\n",
    "by_yr_month = {}\n",
    "for date in dates:\n",
    "    if date not in by_yr_month:\n",
    "        by_yr_month[date] = 0\n",
    "    by_yr_month[date] +=1\n",
    "    \n",
    "by_yr_month.keys()\n"
   ]
  },
  {
   "cell_type": "code",
   "execution_count": 112,
   "metadata": {
    "collapsed": false
   },
   "outputs": [
    {
     "data": {
      "text/plain": [
       "{'Asian/Pacific Islander': 8.374309664161762,\n",
       " 'Black': 57.8773477735196,\n",
       " 'Hispanic': 20.220491210910907,\n",
       " 'Native American/Native Alaskan': 24.521955573811088,\n",
       " 'White': 33.56849303419181}"
      ]
     },
     "execution_count": 112,
     "metadata": {},
     "output_type": "execute_result"
    }
   ],
   "source": [
    "mapping = { \n",
    "    'Asian/Pacific Islander': 15159516 + 674625, \n",
    "    'Native American/Native Alaskan': 3739506, \n",
    "    'Black': 40250635, \n",
    "    'Hispanic': 44618105, \n",
    "    'White': 197318956 }\n",
    "by_race_per_100k = {}\n",
    "for key in by_race.keys():\n",
    "    by_race_per_100k[key] = by_race[key]/mapping[key]*100000\n",
    "by_race_per_100k\n"
   ]
  },
  {
   "cell_type": "code",
   "execution_count": 113,
   "metadata": {
    "collapsed": false
   },
   "outputs": [
    {
     "name": "stdout",
     "output_type": "stream",
     "text": [
      "100798\n",
      "35176\n",
      "{'Native American/Native Alaskan': 24.521955573811088, 'Black': 57.8773477735196, 'Asian/Pacific Islander': 8.374309664161762, 'White': 33.56849303419181, 'Hispanic': 20.220491210910907}\n",
      "{'Native American/Native Alaskan': 8.717729026240365, 'Black': 48.471284987180944, 'Asian/Pacific Islander': 3.530346230970155, 'White': 4.6356417981453335, 'Hispanic': 12.627161104219914}\n"
     ]
    }
   ],
   "source": [
    "data_homicide = []\n",
    "for row in data:\n",
    "    if row[3] == 'Homicide':\n",
    "        data_homicide.append(row)\n",
    "data_homicide[:5]\n",
    "print(len(data))\n",
    "print(len(data_homicide))\n",
    "\n",
    "homicide_by_race = list_to_kv(data_homicide, 7)\n",
    "homicide_by_race_per_100k = {}\n",
    "for key in homicide_by_race.keys():\n",
    "    homicide_by_race_per_100k[key] = homicide_by_race[key]/mapping[key]*100000\n",
    "print(by_race_per_100k)\n",
    "print(homicide_by_race_per_100k)"
   ]
  },
  {
   "cell_type": "code",
   "execution_count": null,
   "metadata": {
    "collapsed": true
   },
   "outputs": [],
   "source": []
  }
 ],
 "metadata": {
  "anaconda-cloud": {},
  "kernelspec": {
   "display_name": "Python [default]",
   "language": "python",
   "name": "python3"
  },
  "language_info": {
   "codemirror_mode": {
    "name": "ipython",
    "version": 3
   },
   "file_extension": ".py",
   "mimetype": "text/x-python",
   "name": "python",
   "nbconvert_exporter": "python",
   "pygments_lexer": "ipython3",
   "version": "3.5.2"
  }
 },
 "nbformat": 4,
 "nbformat_minor": 2
}
