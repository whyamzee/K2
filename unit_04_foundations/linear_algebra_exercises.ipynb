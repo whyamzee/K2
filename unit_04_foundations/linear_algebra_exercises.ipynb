{
 "cells": [
  {
   "cell_type": "markdown",
   "metadata": {},
   "source": [
    "## Exercise 1 - Create a new 3x3 matrix. Extract 2 values via indexing.\n",
    "\n",
    "    [[1402,191],\n",
    "     [1371,821],\n",
    "     [949,1437]]\n",
    "     "
   ]
  },
  {
   "cell_type": "code",
   "execution_count": 4,
   "metadata": {
    "collapsed": false
   },
   "outputs": [
    {
     "data": {
      "text/plain": [
       "1437"
      ]
     },
     "execution_count": 4,
     "metadata": {},
     "output_type": "execute_result"
    }
   ],
   "source": [
    "import numpy as np"
   ]
  },
  {
   "cell_type": "code",
   "execution_count": 6,
   "metadata": {
    "collapsed": false
   },
   "outputs": [
    {
     "name": "stdout",
     "output_type": "stream",
     "text": [
      "1437\n",
      "191\n"
     ]
    }
   ],
   "source": [
    "ex1 = np.array([\n",
    "    [1402,191],\n",
    "    [1371,821],\n",
    "    [949,1437]])\n",
    "print (ex1[2][1])\n",
    "print (ex1[0][1])"
   ]
  },
  {
   "cell_type": "markdown",
   "metadata": {},
   "source": [
    "## Exercise 2 - Add, Subtract, Multiply and Divide 2 Matrices\n",
    "\n",
    "    [[0, 4],\n",
    "     [2, 0]]\n",
    "\n",
    "    [[-1, 2],\n",
    "     [1, -2]]"
   ]
  },
  {
   "cell_type": "code",
   "execution_count": 67,
   "metadata": {
    "collapsed": false
   },
   "outputs": [
    {
     "name": "stdout",
     "output_type": "stream",
     "text": [
      "[[ True  True]\n",
      " [ True  True]]\n",
      "[[ True  True]\n",
      " [ True  True]]\n",
      "[[ True  True]\n",
      " [ True  True]]\n",
      "[[ True  True]\n",
      " [ True  True]]\n"
     ]
    }
   ],
   "source": [
    "ex21 = np.array([\n",
    "    [0, 4],\n",
    "    [2, 0]])\n",
    "ex22 = np.array([\n",
    "    [-1, 2],\n",
    "    [1, -2]])\n",
    "\n",
    "#     [ 0, 4] [-1, 2]\n",
    "#     [ 2, 0] [ 1,-2]\n",
    "\n",
    "ans1 = np.array([[-1,6], [3,-2]])\n",
    "ans2 = np.array([[1,2], [1,2]])\n",
    "ans3_proper = np.array([\n",
    "    [0*(-1) + 4*1, 0*2 + 4*(-2)], \n",
    "    [2*(-1) + 0*1, 2*2 + 0*(-2)]\n",
    "    ])\n",
    "\n",
    "ans3 = np.array([[0,8], [2,0]])\n",
    "ans4 = np.array([[0,2], [2,0]])\n",
    "\n",
    "print (ex2_1 + ex2_2 == ans1)\n",
    "print (ex2_1 - ex2_2 == ans2)\n",
    "print (ex2_1 * ex2_2 == ans31)\n",
    "print (ex2_1 / ex2_2 == ans41)"
   ]
  },
  {
   "cell_type": "markdown",
   "metadata": {},
   "source": [
    "## Exercise 3 - Create a 3x3 Identity Matrix. Show that for any matrix A, AI=IA=A.\n",
    "\n",
    "    [[4,2,1],\n",
    "     [4,8,3],\n",
    "     [1,1,0]]"
   ]
  },
  {
   "cell_type": "code",
   "execution_count": 74,
   "metadata": {
    "collapsed": false
   },
   "outputs": [
    {
     "name": "stdout",
     "output_type": "stream",
     "text": [
      "[[ True  True  True]\n",
      " [ True  True  True]\n",
      " [ True  True  True]]\n"
     ]
    }
   ],
   "source": [
    "ex3 = np.array([\n",
    "    [4,2,1],\n",
    "    [4,8,3],\n",
    "    [1,1,0]])\n",
    "\n",
    "id3 = np.identity(3, dtype=int)\n",
    "ai = np.dot(id3, ex3)\n",
    "ia = np.dot(id3, ai)\n",
    "\n",
    "print (ex3 == ia)"
   ]
  },
  {
   "cell_type": "markdown",
   "metadata": {},
   "source": [
    "## Exercise 4 - Transpose a Matrix. What do we need to pivot a matrix?\n",
    "\n",
    "    [[0 1]\n",
    "     [2 3]\n",
    "     [4 5]]"
   ]
  },
  {
   "cell_type": "code",
   "execution_count": 78,
   "metadata": {
    "collapsed": false
   },
   "outputs": [
    {
     "name": "stdout",
     "output_type": "stream",
     "text": [
      "[[0 2 4]\n",
      " [1 3 5]]\n"
     ]
    }
   ],
   "source": [
    "ex4 = np.array([\n",
    "    [0, 1],\n",
    "    [2, 3],\n",
    "    [4, 5]])\n",
    "ex4_t = ex4.T\n",
    "print (ex4_t)"
   ]
  },
  {
   "cell_type": "markdown",
   "metadata": {},
   "source": [
    "## Exercise 5 - Invert a Matrix. What happens when a matrix is not invertible?\n",
    "\n",
    "    [[1, 4],\n",
    "     [2, 0]]"
   ]
  },
  {
   "cell_type": "code",
   "execution_count": 106,
   "metadata": {
    "collapsed": false
   },
   "outputs": [
    {
     "name": "stdout",
     "output_type": "stream",
     "text": [
      "[[ 0.     0.5  ]\n",
      " [ 0.25  -0.125]]\n",
      "\"Singular matrix\" exception is thrown\n"
     ]
    }
   ],
   "source": [
    "ex5 = np.array([\n",
    "    [1, 4],\n",
    "    [2, 0]])\n",
    "ex5_i = np.linalg.inv(ex5)\n",
    "print (ex5_i)\n",
    "\n",
    "try:\n",
    "    ex21_i = np.linalg.inv(ex22)\n",
    "    print (ex21_i)\n",
    "except Exception as e:\n",
    "    print ('\"%s\" exception is thrown'%  e)\n",
    "    "
   ]
  },
  {
   "cell_type": "markdown",
   "metadata": {},
   "source": [
    "## Exercise 6 - Find the determinant for the following 3 matrices.\n",
    "\n",
    "        [[1, 2], \n",
    "         [3, 4]], \n",
    "        \n",
    "        [[1, 2], \n",
    "         [2, 1]],\n",
    "        \n",
    "        [[1, 3],\n",
    "         [3, 1]]"
   ]
  },
  {
   "cell_type": "code",
   "execution_count": 136,
   "metadata": {
    "collapsed": false
   },
   "outputs": [
    {
     "name": "stdout",
     "output_type": "stream",
     "text": [
      "True -2\n",
      "False -3 -3.0\n",
      "True -8\n"
     ]
    }
   ],
   "source": [
    "ex61 = np.array([\n",
    "    [1, 2], \n",
    "    [3, 4]])\n",
    "ex62 = np.array([\n",
    "    [1, 2],\n",
    "    [2, 1]])\n",
    "ex63 = np.array([\n",
    "    [1, 3],\n",
    "    [3, 1]])\n",
    "\n",
    "d61 = 1*4 - 2*3\n",
    "d62 = 1*1 - 2*2\n",
    "d63 = 1*1 - 3*3\n",
    "\n",
    "print (int(np.linalg.det(ex61)) == d61, d61)\n",
    "print (int(np.linalg.det(ex62)) == d62, d62, np.linalg.det(ex62))\n",
    "print (int(np.linalg.det(ex63)) == d63, d63)"
   ]
  },
  {
   "cell_type": "markdown",
   "metadata": {},
   "source": [
    "## Exercise 6 - Solve the following linear system.\n",
    "\n",
    "- 3x + y = 9\n",
    "- x + 2y = 8"
   ]
  },
  {
   "cell_type": "code",
   "execution_count": 144,
   "metadata": {
    "collapsed": false
   },
   "outputs": [
    {
     "name": "stdout",
     "output_type": "stream",
     "text": [
      "[ 2.  3.]\n"
     ]
    }
   ],
   "source": [
    "ex6_sys = np.array([\n",
    "    [3, 1],\n",
    "    [1, 2]\n",
    "    ])\n",
    "ex6_ans = np.array([9,8])\n",
    "ex6_sys_i = np.linalg.inv(ex6_sys)\n",
    "ex6_key = np.dot(ex6_ans, ex6_sys_i)\n",
    "print (ex6_key)"
   ]
  },
  {
   "cell_type": "markdown",
   "metadata": {},
   "source": [
    "## Exercise 7 - Compute the eigenvalues and eigenvectors for the following matrix. What do these represent?\n",
    "\n",
    "    [[1, 2, 1],\n",
    "     [6, -1, 0],\n",
    "     [-1, -2, -1]]"
   ]
  },
  {
   "cell_type": "code",
   "execution_count": 148,
   "metadata": {
    "collapsed": false
   },
   "outputs": [
    {
     "name": "stdout",
     "output_type": "stream",
     "text": [
      "[ -4.00000000e+00   3.00000000e+00   1.71642331e-16]\n",
      "[[ 0.40824829 -0.48507125 -0.0696733 ]\n",
      " [-0.81649658 -0.72760688 -0.41803981]\n",
      " [-0.40824829  0.48507125  0.90575292]]\n"
     ]
    }
   ],
   "source": [
    "ex7 = np.array([\n",
    "    [1, 2, 1],\n",
    "    [6, -1, 0],\n",
    "    [-1, -2, -1]\n",
    "    ])\n",
    "print(np.linalg.eig(ex7)[0])\n",
    "print(np.linalg.eig(ex7)[1])"
   ]
  },
  {
   "cell_type": "code",
   "execution_count": null,
   "metadata": {
    "collapsed": true
   },
   "outputs": [],
   "source": []
  }
 ],
 "metadata": {
  "anaconda-cloud": {},
  "kernelspec": {
   "display_name": "Python [default]",
   "language": "python",
   "name": "python3"
  },
  "language_info": {
   "codemirror_mode": {
    "name": "ipython",
    "version": 3
   },
   "file_extension": ".py",
   "mimetype": "text/x-python",
   "name": "python",
   "nbconvert_exporter": "python",
   "pygments_lexer": "ipython3",
   "version": "3.5.2"
  }
 },
 "nbformat": 4,
 "nbformat_minor": 1
}
